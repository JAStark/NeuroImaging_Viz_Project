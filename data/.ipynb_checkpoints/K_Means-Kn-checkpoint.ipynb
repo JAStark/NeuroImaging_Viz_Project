{
 "metadata": {
  "name": "",
  "signature": "sha256:1f2b8002df5d6028b16dfa73f0411db6ef5c472ffb1fcb696a9f3d8956d3a134"
 },
 "nbformat": 3,
 "nbformat_minor": 0,
 "worksheets": [
  {
   "cells": [
    {
     "cell_type": "code",
     "collapsed": false,
     "input": [
      "from time import time\n",
      "import numpy as np\n",
      "import matplotlib.pyplot as plt\n",
      "from sklearn import metrics\n",
      "from sklearn.cluster import KMeans\n",
      "from scipy.spatial.distance import cdist, pdist #cdist=dist computed bet. sets of obs. pdist=pairwise dist bet obs in same set\n",
      "%matplotlib inline"
     ],
     "language": "python",
     "metadata": {},
     "outputs": [],
     "prompt_number": 1
    },
    {
     "cell_type": "code",
     "collapsed": false,
     "input": [
      "subIDlist = [101,102,103,104,106,108,109,110,111,112]  # all subj numbers i want to load\n",
      "data_EPI1 = []\n",
      "data_EPI2 = []\n",
      "for subID in subIDlist:\n",
      "    data_EPI1.append(np.loadtxt('WZP' +str(subID) +'B_EPI1_rois3.txt'))\n",
      "    data_EPI2.append(np.loadtxt('WZP' +str(subID) +'B_EPI2_rois3.txt'))"
     ],
     "language": "python",
     "metadata": {},
     "outputs": [],
     "prompt_number": 2
    },
    {
     "cell_type": "code",
     "collapsed": false,
     "input": [
      "whl_data_EPI1 = []\n",
      "for val in data_EPI1:\n",
      "    whl_data_EPI1.append(np.corrcoef(val.T))\n",
      "    \n",
      "whl_data_EPI2 = []\n",
      "for val in data_EPI2:\n",
      "    whl_data_EPI2.append(np.corrcoef(val.T))\n",
      "    \n",
      "print(len(data_EPI1))\n",
      "print(len(whl_data_EPI1))\n",
      "print(data_EPI1[0].shape)\n",
      "print(whl_data_EPI1[0].shape)"
     ],
     "language": "python",
     "metadata": {},
     "outputs": [
      {
       "output_type": "stream",
       "stream": "stdout",
       "text": [
        "10\n",
        "10\n",
        "(556, 19)\n",
        "(19, 19)\n"
       ]
      }
     ],
     "prompt_number": 3
    },
    {
     "cell_type": "code",
     "collapsed": false,
     "input": [
      "win_data_EPI1 = []\n",
      "for val in data_EPI1:\n",
      "    tmpCorrs = np.zeros((val.shape[1],val.shape[1],val.shape[0]-60))\n",
      "    for j in range(0,val.shape[0]-60):\n",
      "        tmpCorrs[:,:,j] = np.corrcoef(val[j:j+60,:].T)\n",
      "    win_data_EPI1.append(np.copy(tmpCorrs))\n",
      "\n",
      "win_data_EPI2 = []\n",
      "for val in data_EPI2:\n",
      "    tmpCorrs = np.zeros((val.shape[1],val.shape[1],val.shape[0]-30))\n",
      "    for j in range(0,val.shape[0]-30):\n",
      "        tmpCorrs[:,:,j] = np.corrcoef(val[j:j+30,:].T)\n",
      "    win_data_EPI2.append(np.copy(tmpCorrs))\n",
      "    \n",
      "print(win_data_EPI1[0].shape)\n",
      "print(win_data_EPI2[0].shape)"
     ],
     "language": "python",
     "metadata": {},
     "outputs": [
      {
       "output_type": "stream",
       "stream": "stdout",
       "text": [
        "(19, 19, 496)\n",
        "(19, 19, 246)\n"
       ]
      }
     ],
     "prompt_number": 4
    },
    {
     "cell_type": "code",
     "collapsed": false,
     "input": [
      "###give this to kmeans!! When get more people,\n",
      "###contatenate downwards so that 496 is a multiple of subjects, but 361 (FEATURES) remains the same. \n",
      "\n",
      "#19 rois x 19 rois = 361 features\n",
      "#496 = # of windows for EPI1???\n",
      "\n",
      "Kmeans_EPI1 = []\n",
      "for val in win_data_EPI1:\n",
      "    Kmeans_EPI1.append(val.reshape((-1,val.shape[2]),order='F').T)\n",
      "    \n",
      "Kmeans_EPI2 = []\n",
      "for val in win_data_EPI2:\n",
      "    Kmeans_EPI2.append(val.reshape((-1,val.shape[2]),order='F').T)"
     ],
     "language": "python",
     "metadata": {},
     "outputs": [],
     "prompt_number": 5
    },
    {
     "cell_type": "code",
     "collapsed": false,
     "input": [
      "print(Kmeans_EPI1[0].shape)\n",
      "#print(Kmeans_EPI1_arr.shape)\n",
      "print(win_data_EPI1[0].shape)"
     ],
     "language": "python",
     "metadata": {},
     "outputs": [
      {
       "output_type": "stream",
       "stream": "stdout",
       "text": [
        "(496, 361)\n",
        "(19, 19, 496)\n"
       ]
      }
     ],
     "prompt_number": 6
    },
    {
     "cell_type": "code",
     "collapsed": false,
     "input": [
      "Kmeans_EPI1_arr = np.array(Kmeans_EPI1)\n",
      "Kmeans_EPI2_arr = np.array(Kmeans_EPI2)\n",
      "print(len(Kmeans_EPI1_arr))\n",
      "print(Kmeans_EPI1_arr.shape)\n",
      "print(len(Kmeans_EPI2_arr))\n",
      "print(Kmeans_EPI2_arr.shape)"
     ],
     "language": "python",
     "metadata": {},
     "outputs": [
      {
       "output_type": "stream",
       "stream": "stdout",
       "text": [
        "10\n",
        "(10, 496, 361)\n",
        "10\n",
        "(10, 246, 361)\n"
       ]
      }
     ],
     "prompt_number": 7
    },
    {
     "cell_type": "code",
     "collapsed": false,
     "input": [
      "Kmeans_EPI1_arr = np.transpose(Kmeans_EPI1_arr,[2,1,0]).reshape(361,-1,order='F')\n",
      "Kmeans_EPI1_arr = Kmeans_EPI1_arr.T\n",
      "print(Kmeans_EPI1_arr.shape)\n",
      "\n",
      "Kmeans_EPI2_arr = np.transpose(Kmeans_EPI2_arr,[2,1,0]).reshape(361,-1,order='F')\n",
      "Kmeans_EPI2_arr = Kmeans_EPI2_arr.T\n",
      "print(Kmeans_EPI2_arr.shape)"
     ],
     "language": "python",
     "metadata": {},
     "outputs": [
      {
       "output_type": "stream",
       "stream": "stdout",
       "text": [
        "(4960, 361)\n",
        "(2460, 361)\n"
       ]
      }
     ],
     "prompt_number": 8
    },
    {
     "cell_type": "code",
     "collapsed": false,
     "input": [
      "plt.subplot(121)\n",
      "testConcat_EPI1 = np.mean(Kmeans_EPI1_arr,axis=0).reshape(19,19)\n",
      "plt.imshow(testConcat_EPI1,interpolation='nearest',clim=[-0.5,0.5])\n",
      "plt.subplot(122)\n",
      "testConcat_EPI2 = np.mean(Kmeans_EPI2_arr,axis=0).reshape(19,19)\n",
      "plt.imshow(testConcat_EPI2,interpolation='nearest',clim=[-0.5,0.5])"
     ],
     "language": "python",
     "metadata": {},
     "outputs": [
      {
       "metadata": {},
       "output_type": "pyout",
       "prompt_number": 9,
       "text": [
        "<matplotlib.image.AxesImage at 0x107772550>"
       ]
      },
      {
       "metadata": {},
       "output_type": "display_data",
       "png": "[encoded data removed]",
       "text": [
        "<matplotlib.figure.Figure at 0x1070d81d0>"
       ]
      }
     ],
     "prompt_number": 9
    },
    {
     "cell_type": "code",
     "collapsed": false,
     "input": [
      "#determine your K range\n",
      "k_range = range(2,25)\n",
      "\n",
      "# Fit kmeans model for each n_cluster = k\n",
      "k_means_var = [KMeans(n_clusters=k).fit(Kmeans_EPI1_arr)for k in k_range]\n",
      "\n",
      "# Pull out the cluster centers for each model\n",
      "centroids = [X.cluster_centers_ for X in k_means_var]"
     ],
     "language": "python",
     "metadata": {},
     "outputs": [],
     "prompt_number": 9
    },
    {
     "cell_type": "code",
     "collapsed": false,
     "input": [
      "## Graphing the Variance:\n",
      "# Calculate the Euclidean distance from each point to each cluster center\n",
      "k_euclid = [cdist(Kmeans_EPI1_arr, cent, 'euclidean') for cent in centroids]\n",
      "dist = [np.min(ke,axis=1) for ke in k_euclid]\n",
      "\n",
      "# Total within-cluster sum of squares\n",
      "wcss = [sum(d**2) for d in dist]\n",
      "\n",
      "# The total sum of squares\n",
      "tss = sum(pdist(Kmeans_EPI1_arr)**2)/Kmeans_EPI1_arr.shape[0]\n",
      "\n",
      "# The between-cluster sum of squares\n",
      "bss = tss - wcss"
     ],
     "language": "python",
     "metadata": {},
     "outputs": [],
     "prompt_number": 10
    },
    {
     "cell_type": "code",
     "collapsed": false,
     "input": [
      "bss\n",
      "plt.plot(bss/tss*100)"
     ],
     "language": "python",
     "metadata": {},
     "outputs": [
      {
       "metadata": {},
       "output_type": "pyout",
       "prompt_number": 11,
       "text": [
        "[<matplotlib.lines.Line2D at 0x10b0e6a58>]"
       ]
      },
      {
       "metadata": {},
       "output_type": "display_data",
       "png": "[encoded data removed]",
       "text": [
        "<matplotlib.figure.Figure at 0x10717e588>"
       ]
      }
     ],
     "prompt_number": 11
    },
    {
     "cell_type": "code",
     "collapsed": false,
     "input": [
      "#determine your K range\n",
      "k_range = range(2,10)\n",
      "\n",
      "# Fit kmeans model for each n_cluster = k\n",
      "k_means_var = [KMeans(n_clusters=k, init='k-means++',n_init=2, max_iter=2, tol=1).fit(Kmeans_EPI2_arr)for k in k_range]\n",
      "\n",
      "# Pull out the cluster centers for each model\n",
      "centroids = [X.cluster_centers_ for X in k_means_var]"
     ],
     "language": "python",
     "metadata": {},
     "outputs": [],
     "prompt_number": 45
    },
    {
     "cell_type": "code",
     "collapsed": false,
     "input": [
      "## Graphing the Variance:\n",
      "# Calculate the Euclidean distance from each point to each cluster center\n",
      "k_euclid = [cdist(Kmeans_EPI2_arr, cent, 'euclidean') for cent in centroids]\n",
      "dist = [np.min(ke,axis=1) for ke in k_euclid]\n",
      "\n",
      "# Total within-cluster sum of squares\n",
      "wcss = [sum(d**2) for d in dist]\n",
      "\n",
      "# The total sum of squares\n",
      "tss = sum(pdist(Kmeans_EPI2_arr)**2)/Kmeans_EPI2_arr.shape[0]\n",
      "\n",
      "# The between-cluster sum of squares\n",
      "bss = tss - wcss\n",
      "plt.plot(bss/tss*100)"
     ],
     "language": "python",
     "metadata": {},
     "outputs": [
      {
       "metadata": {},
       "output_type": "pyout",
       "prompt_number": 46,
       "text": [
        "[<matplotlib.lines.Line2D at 0x10b74beb8>]"
       ]
      },
      {
       "metadata": {},
       "output_type": "display_data",
       "png": "[encoded data removed]",
       "text": [
        "<matplotlib.figure.Figure at 0x10b6fa0f0>"
       ]
      }
     ],
     "prompt_number": 46
    },
    {
     "cell_type": "code",
     "collapsed": false,
     "input": [
      "model_1 = KMeans(n_clusters=10, init='k-means++', n_init=10, max_iter=300, tol=0.0001, precompute_distances=True, verbose=0, random_state=None, copy_x=True, n_jobs=1)\n",
      "model_2 = KMeans(n_clusters=10, init='k-means++', n_init=10, max_iter=300, tol=0.0001, precompute_distances=True, verbose=0, random_state=None, copy_x=True, n_jobs=1)"
     ],
     "language": "python",
     "metadata": {},
     "outputs": [],
     "prompt_number": 10
    },
    {
     "cell_type": "code",
     "collapsed": false,
     "input": [
      "Kmeans_EPI1_OUT = model_1.fit(Kmeans_EPI1_arr[0::2,:])\n",
      "Kmeans_EPI2_OUT = model_2.fit(Kmeans_EPI2_arr)"
     ],
     "language": "python",
     "metadata": {},
     "outputs": [],
     "prompt_number": 11
    },
    {
     "cell_type": "code",
     "collapsed": false,
     "input": [
      "Kmeans_EPI1_OUT."
     ],
     "language": "python",
     "metadata": {},
     "outputs": []
    },
    {
     "cell_type": "code",
     "collapsed": false,
     "input": [
      "EPI1_centroid0 = Kmeans_EPI1_OUT.cluster_centers_[0,:].reshape(19,19,order='F')\n",
      "EPI1_centroid1 = Kmeans_EPI1_OUT.cluster_centers_[1,:].reshape(19,19,order='F')\n",
      "EPI1_centroid2 = Kmeans_EPI1_OUT.cluster_centers_[2,:].reshape(19,19,order='F')\n",
      "EPI1_centroid3 = Kmeans_EPI1_OUT.cluster_centers_[3,:].reshape(19,19,order='F')\n",
      "EPI1_centroid4 = Kmeans_EPI1_OUT.cluster_centers_[4,:].reshape(19,19,order='F')\n",
      "EPI1_centroid5 = Kmeans_EPI1_OUT.cluster_centers_[5,:].reshape(19,19,order='F')\n",
      "EPI1_centroid6 = Kmeans_EPI1_OUT.cluster_centers_[6,:].reshape(19,19,order='F')\n",
      "EPI1_centroid7 = Kmeans_EPI1_OUT.cluster_centers_[7,:].reshape(19,19,order='F')\n",
      "EPI1_centroid8 = Kmeans_EPI1_OUT.cluster_centers_[8,:].reshape(19,19,order='F')\n",
      "EPI1_centroid9 = Kmeans_EPI1_OUT.cluster_centers_[9,:].reshape(19,19,order='F')\n",
      "\n",
      "EPI2_centroid0 = Kmeans_EPI2_OUT.cluster_centers_[0,:].reshape(19,19,order='F')\n",
      "EPI2_centroid1 = Kmeans_EPI2_OUT.cluster_centers_[1,:].reshape(19,19,order='F')\n",
      "EPI2_centroid2 = Kmeans_EPI2_OUT.cluster_centers_[2,:].reshape(19,19,order='F')\n",
      "EPI2_centroid3 = Kmeans_EPI2_OUT.cluster_centers_[3,:].reshape(19,19,order='F')\n",
      "EPI2_centroid4 = Kmeans_EPI2_OUT.cluster_centers_[4,:].reshape(19,19,order='F')\n",
      "EPI2_centroid5 = Kmeans_EPI2_OUT.cluster_centers_[5,:].reshape(19,19,order='F')\n",
      "EPI2_centroid6 = Kmeans_EPI2_OUT.cluster_centers_[6,:].reshape(19,19,order='F')\n",
      "EPI2_centroid7 = Kmeans_EPI2_OUT.cluster_centers_[7,:].reshape(19,19,order='F')\n",
      "EPI2_centroid8 = Kmeans_EPI2_OUT.cluster_centers_[8,:].reshape(19,19,order='F')\n",
      "EPI2_centroid9 = Kmeans_EPI2_OUT.cluster_centers_[9,:].reshape(19,19,order='F')"
     ],
     "language": "python",
     "metadata": {},
     "outputs": [],
     "prompt_number": 13
    },
    {
     "cell_type": "code",
     "collapsed": false,
     "input": [
      "for i in range(10):\n",
      "    EPI1Centroids = Kmeans_EPI1_OUT.cluster_centers_[i,:].reshape(19,19,order='F')\n",
      "    plt.subplot(2,5,i)\n",
      "    plt.imshow(EPI1Centroids, interpolation = 'nearest')\n",
      "    plt.clim(-1.0,1)"
     ],
     "language": "python",
     "metadata": {},
     "outputs": [
      {
       "metadata": {},
       "output_type": "display_data",
       "png": "[encoded data removed]",
       "text": [
        "<matplotlib.figure.Figure at 0x10cd203c8>"
       ]
      }
     ],
     "prompt_number": 20
    },
    {
     "cell_type": "code",
     "collapsed": false,
     "input": [
      "for i in range(10):\n",
      "    EPI2Centroids = Kmeans_EPI2_OUT.cluster_centers_[i,:].reshape(19,19,order='F')\n",
      "    plt.subplot(2,5,i)\n",
      "    plt.imshow(EPI2Centroids, interpolation = 'nearest')\n",
      "    plt.clim(-1.0,1)"
     ],
     "language": "python",
     "metadata": {},
     "outputs": [
      {
       "metadata": {},
       "output_type": "display_data",
       "png": "[encoded data removed]",
       "text": [
        "<matplotlib.figure.Figure at 0x10d815470>"
       ]
      }
     ],
     "prompt_number": 21
    },
    {
     "cell_type": "code",
     "collapsed": false,
     "input": [
      "plt.subplot(121)\n",
      "plt.imshow(EPI2_centroid0, interpolation = 'nearest')\n",
      "plt.clim(-1,1)\n",
      "plt.subplot(122)\n",
      "plt.imshow(EPI2_centroid1, interpolation = 'nearest')\n",
      "plt.clim(-1,1)"
     ],
     "language": "python",
     "metadata": {},
     "outputs": [
      {
       "metadata": {},
       "output_type": "display_data",
       "png": "[encoded data removed]",
       "text": [
        "<matplotlib.figure.Figure at 0x1071e30f0>"
       ]
      }
     ],
     "prompt_number": 14
    },
    {
     "cell_type": "code",
     "collapsed": false,
     "input": [],
     "language": "python",
     "metadata": {},
     "outputs": []
    }
   ],
   "metadata": {}
  }
 ]
}