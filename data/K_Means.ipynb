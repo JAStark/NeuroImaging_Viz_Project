{
 "metadata": {
  "name": "",
  "signature": "sha256:0c116402b1355336dd832837a15db099cd9e2d06f466c6b7931ab96613a10110"
 },
 "nbformat": 3,
 "nbformat_minor": 0,
 "worksheets": [
  {
   "cells": [
    {
     "cell_type": "code",
     "collapsed": false,
     "input": [
      "from time import time\n",
      "import numpy as np\n",
      "import matplotlib.pyplot as plt\n",
      "from sklearn import metrics\n",
      "from sklearn.cluster import KMeans\n",
      "from scipy.spatial.distance import cdist, pdist #cdist=dist computed bet. sets of obs. pdist=pairwise dist bet obs in same set\n",
      "%matplotlib inline"
     ],
     "language": "python",
     "metadata": {},
     "outputs": [],
     "prompt_number": 3
    },
    {
     "cell_type": "code",
     "collapsed": false,
     "input": [
      "data_EPI1 = np.loadtxt('WZP102B_EPI1_rois3.txt')\n",
      "data_EPI2 = np.loadtxt('WZP102B_EPI2_rois3.txt')\n",
      "w_EPI1 = np.corrcoef(data_EPI1.T)\n",
      "w_EPI2 = np.corrcoef(data_EPI2.T)"
     ],
     "language": "python",
     "metadata": {},
     "outputs": [],
     "prompt_number": 4
    },
    {
     "cell_type": "code",
     "collapsed": false,
     "input": [
      "bigCorrMat_EPI1 = np.zeros((data_EPI1.shape[1], data_EPI1.shape[1], data_EPI1.shape[0]-60))\n",
      "for i in range(0, data_EPI1.shape[0]-60):\n",
      "    bigCorrMat_EPI1[:,:,i] = np.corrcoef(data_EPI1[i:i+60,:].T)\n",
      "    \n",
      "bigCorrMat_EPI2 = np.zeros((data_EPI2.shape[1], data_EPI2.shape[1], data_EPI2.shape[0]-30))\n",
      "for i in range(0, data_EPI2.shape[0]-30):\n",
      "    bigCorrMat_EPI2[:,:,i] = np.corrcoef(data_EPI2[i:i+30,:].T)\n",
      "    \n",
      "print(bigCorrMat_EPI1.shape)\n",
      "print(bigCorrMat_EPI2.shape)"
     ],
     "language": "python",
     "metadata": {},
     "outputs": [
      {
       "output_type": "stream",
       "stream": "stdout",
       "text": [
        "(19, 19, 496)\n",
        "(19, 19, 246)\n"
       ]
      }
     ],
     "prompt_number": 5
    },
    {
     "cell_type": "code",
     "collapsed": false,
     "input": [
      "##give this to kmeans!! When get more people,\n",
      "#contatenate downwards so that 496 is a multiple of subjects, but 361 (FEATURES) remains the same. \n",
      "Kmeans_EPI1 = bigCorrMat_EPI1.reshape((-1,bigCorrMat_EPI1.shape[2]),order='F').T \n",
      "Kmeans_EPI2 = bigCorrMat_EPI2.reshape((-1,bigCorrMat_EPI2.shape[2]),order='F').T \n",
      "\n",
      "print(Kmeans_EPI1.shape)"
     ],
     "language": "python",
     "metadata": {},
     "outputs": [
      {
       "output_type": "stream",
       "stream": "stdout",
       "text": [
        "(496, 361)\n"
       ]
      }
     ],
     "prompt_number": 6
    },
    {
     "cell_type": "code",
     "collapsed": false,
     "input": [
      "model_1 = KMeans(n_clusters=8, init='k-means++', n_init=10, max_iter=300, tol=0.0001, precompute_distances=True, verbose=1, random_state=None, copy_x=True, n_jobs=1)\n",
      "model_2 = KMeans(n_clusters=8, init='k-means++', n_init=10, max_iter=300, tol=0.0001, precompute_distances=True, verbose=1, random_state=None, copy_x=True, n_jobs=1)"
     ],
     "language": "python",
     "metadata": {},
     "outputs": [],
     "prompt_number": 101
    },
    {
     "cell_type": "code",
     "collapsed": false,
     "input": [
      "Kmeans_EPI1_OUT = model_1.fit(Kmeans_EPI1)\n",
      "Kmeans_EPI2_OUT = model_2.fit(Kmeans_EPI2)"
     ],
     "language": "python",
     "metadata": {},
     "outputs": [
      {
       "output_type": "stream",
       "stream": "stdout",
       "text": [
        "Initialization complete\n",
        "Iteration  0, inertia 3246.904\n",
        "Iteration  1, inertia 1973.632\n",
        "Iteration  2, inertia 1937.641\n",
        "Iteration  3, inertia 1930.453\n",
        "Iteration  4, inertia 1926.863\n",
        "Iteration  5, inertia 1924.102\n",
        "Iteration  6, inertia 1922.713\n",
        "Iteration  7, inertia 1922.446\n",
        "Converged at iteration 7\n",
        "Initialization complete\n",
        "Iteration  0, inertia 3138.986\n",
        "Iteration  1, inertia 2031.954\n",
        "Iteration  2, inertia 2010.241\n",
        "Iteration  3, inertia 2006.917\n",
        "Iteration  4, inertia 2003.765\n",
        "Iteration  5, inertia 1999.813\n",
        "Iteration  6, inertia 1997.943\n",
        "Iteration  7, inertia 1997.559\n",
        "Converged at iteration 7\n",
        "Initialization complete"
       ]
      },
      {
       "output_type": "stream",
       "stream": "stdout",
       "text": [
        "\n",
        "Iteration  0, inertia 3299.450\n",
        "Iteration  1, inertia 2248.923\n",
        "Iteration  2, inertia 2183.555\n",
        "Iteration  3, inertia 2155.275\n",
        "Iteration  4, inertia 2138.704\n",
        "Iteration  5, inertia 2120.959\n",
        "Iteration  6, inertia 2115.615\n",
        "Iteration  7, inertia 2095.866\n",
        "Iteration  8, inertia 2088.058\n",
        "Iteration  9, inertia 2086.555\n",
        "Iteration 10, inertia 2082.778\n",
        "Iteration 11, inertia 2082.322\n",
        "Converged at iteration 11\n",
        "Initialization complete"
       ]
      },
      {
       "output_type": "stream",
       "stream": "stdout",
       "text": [
        "\n",
        "Iteration  0, inertia 3370.730\n",
        "Iteration  1, inertia 2128.183\n",
        "Iteration  2, inertia 2076.429\n",
        "Iteration  3, inertia 2061.526\n",
        "Iteration  4, inertia 2056.321\n",
        "Iteration  5, inertia 2053.259\n",
        "Iteration  6, inertia 2053.042\n",
        "Converged at iteration 6\n",
        "Initialization complete\n",
        "Iteration  0, inertia 3383.473\n",
        "Iteration  1, inertia 2056.120\n",
        "Iteration  2, inertia 2027.239"
       ]
      },
      {
       "output_type": "stream",
       "stream": "stdout",
       "text": [
        "\n",
        "Iteration  3, inertia 2001.131\n",
        "Iteration  4, inertia 1964.748\n",
        "Iteration  5, inertia 1922.884\n",
        "Iteration  6, inertia 1919.688\n",
        "Iteration  7, inertia 1919.353\n",
        "Converged at iteration 7\n",
        "Initialization complete\n",
        "Iteration  0, inertia 3349.552\n",
        "Iteration  1, inertia 1982.740\n",
        "Iteration  2, inertia 1950.881"
       ]
      },
      {
       "output_type": "stream",
       "stream": "stdout",
       "text": [
        "\n",
        "Iteration  3, inertia 1944.515\n",
        "Iteration  4, inertia 1940.441\n",
        "Iteration  5, inertia 1939.425\n",
        "Iteration  6, inertia 1938.814\n",
        "Iteration  7, inertia 1938.355\n",
        "Iteration  8, inertia 1937.626\n",
        "Iteration  9, inertia 1934.880\n",
        "Iteration 10, inertia 1927.603\n",
        "Iteration 11, inertia 1927.217\n",
        "Iteration 12, inertia 1926.948\n",
        "Converged at iteration 12\n",
        "Initialization complete"
       ]
      },
      {
       "output_type": "stream",
       "stream": "stdout",
       "text": [
        "\n",
        "Iteration  0, inertia 3135.787\n",
        "Iteration  1, inertia 1939.064\n",
        "Iteration  2, inertia 1848.147\n",
        "Iteration  3, inertia 1836.229\n",
        "Iteration  4, inertia 1835.212\n",
        "Iteration  5, inertia 1833.820\n",
        "Iteration  6, inertia 1833.367\n",
        "Iteration  7, inertia 1833.145\n",
        "Converged at iteration 7\n",
        "Initialization complete\n",
        "Iteration  0, inertia 3081.658"
       ]
      },
      {
       "output_type": "stream",
       "stream": "stdout",
       "text": [
        "\n",
        "Iteration  1, inertia 1966.967\n",
        "Iteration  2, inertia 1917.733\n",
        "Iteration  3, inertia 1898.670\n",
        "Iteration  4, inertia 1894.196\n",
        "Iteration  5, inertia 1888.936\n",
        "Iteration  6, inertia 1882.674\n",
        "Iteration  7, inertia 1874.699\n",
        "Iteration  8, inertia 1871.628\n",
        "Iteration  9, inertia 1870.721\n",
        "Iteration 10, inertia 1869.970\n",
        "Iteration 11, inertia 1869.027\n",
        "Converged at iteration 11\n",
        "Initialization complete"
       ]
      },
      {
       "output_type": "stream",
       "stream": "stdout",
       "text": [
        "\n",
        "Iteration  0, inertia 3159.371\n",
        "Iteration  1, inertia 1980.192\n",
        "Iteration  2, inertia 1954.040\n",
        "Iteration  3, inertia 1946.194\n",
        "Iteration  4, inertia 1938.432\n",
        "Iteration  5, inertia 1906.216\n",
        "Iteration  6, inertia 1892.463\n",
        "Iteration  7, inertia 1886.096\n",
        "Iteration  8, inertia 1882.812\n",
        "Iteration  9, inertia 1875.908\n",
        "Iteration 10, inertia 1858.271\n",
        "Iteration 11, inertia 1856.535\n",
        "Iteration 12, inertia 1855.332\n",
        "Converged at iteration 12\n",
        "Initialization complete"
       ]
      },
      {
       "output_type": "stream",
       "stream": "stdout",
       "text": [
        "\n",
        "Iteration  0, inertia 3400.552\n",
        "Iteration  1, inertia 2190.984\n",
        "Iteration  2, inertia 2084.629\n",
        "Iteration  3, inertia 2024.955\n",
        "Iteration  4, inertia 2003.839\n",
        "Iteration  5, inertia 2002.649\n",
        "Converged at iteration 5\n",
        "Initialization complete\n",
        "Iteration  0, inertia 1704.406\n",
        "Iteration  1, inertia 1084.431\n",
        "Iteration  2, inertia 1082.164\n",
        "Iteration  3, inertia 1080.773\n",
        "Iteration  4, inertia 1080.169\n",
        "Converged at iteration 4\n",
        "Initialization complete\n",
        "Iteration  0, inertia 1711.793\n",
        "Iteration  1, inertia 1076.929"
       ]
      },
      {
       "output_type": "stream",
       "stream": "stdout",
       "text": [
        "\n",
        "Iteration  2, inertia 1052.285\n",
        "Iteration  3, inertia 1043.442\n",
        "Iteration  4, inertia 1040.357\n",
        "Iteration  5, inertia 1039.189\n",
        "Converged at iteration 5\n",
        "Initialization complete\n",
        "Iteration  0, inertia 1701.908\n",
        "Iteration  1, inertia 1042.191\n",
        "Iteration  2, inertia 1038.197\n",
        "Iteration  3, inertia 1036.764\n",
        "Iteration  4, inertia 1035.881\n",
        "Iteration  5, inertia 1035.342\n",
        "Converged at iteration 5\n",
        "Initialization complete\n",
        "Iteration  0, inertia 1751.465\n",
        "Iteration  1, inertia 1079.859\n",
        "Iteration  2, inertia 1056.358\n",
        "Iteration  3, inertia 1050.118\n",
        "Iteration  4, inertia 1048.385\n",
        "Converged at iteration 4\n",
        "Initialization complete"
       ]
      },
      {
       "output_type": "stream",
       "stream": "stdout",
       "text": [
        "\n",
        "Iteration  0, inertia 1907.913\n",
        "Iteration  1, inertia 1229.012\n",
        "Iteration  2, inertia 1215.308\n",
        "Iteration  3, inertia 1194.555\n",
        "Iteration  4, inertia 1184.507\n",
        "Iteration  5, inertia 1180.997\n",
        "Iteration  6, inertia 1177.727\n",
        "Iteration  7, inertia 1174.826\n",
        "Iteration  8, inertia 1174.407\n",
        "Converged at iteration 8\n",
        "Initialization complete\n",
        "Iteration  0, inertia 1760.576\n",
        "Iteration  1, inertia 1085.026\n",
        "Iteration  2, inertia 1060.598\n",
        "Iteration  3, inertia 1056.310\n",
        "Iteration  4, inertia 1049.664\n",
        "Iteration  5, inertia 1047.819\n",
        "Converged at iteration 5\n",
        "Initialization complete\n",
        "Iteration  0, inertia 1602.397"
       ]
      },
      {
       "output_type": "stream",
       "stream": "stdout",
       "text": [
        "\n",
        "Iteration  1, inertia 1050.841\n",
        "Iteration  2, inertia 1041.991\n",
        "Iteration  3, inertia 1037.765\n",
        "Converged at iteration 3\n",
        "Initialization complete\n",
        "Iteration  0, inertia 1760.011\n",
        "Iteration  1, inertia 1087.994\n",
        "Iteration  2, inertia 1083.811\n",
        "Iteration  3, inertia 1082.758\n",
        "Iteration  4, inertia 1081.325\n",
        "Iteration  5, inertia 1080.442\n",
        "Iteration  6, inertia 1079.903\n",
        "Converged at iteration 6\n",
        "Initialization complete\n",
        "Iteration  0, inertia 1860.326\n",
        "Iteration  1, inertia 1074.624\n",
        "Iteration  2, inertia 1059.718\n",
        "Iteration  3, inertia 1051.201\n",
        "Iteration  4, inertia 1046.446\n",
        "Iteration  5, inertia 1042.509\n",
        "Iteration  6, inertia 1039.608"
       ]
      },
      {
       "output_type": "stream",
       "stream": "stdout",
       "text": [
        "\n",
        "Iteration  7, inertia 1039.189\n",
        "Converged at iteration 7\n",
        "Initialization complete\n",
        "Iteration  0, inertia 1664.042\n",
        "Iteration  1, inertia 1051.346\n",
        "Iteration  2, inertia 1049.709\n",
        "Iteration  3, inertia 1048.819\n",
        "Converged at iteration 3\n"
       ]
      }
     ],
     "prompt_number": 102
    },
    {
     "cell_type": "code",
     "collapsed": false,
     "input": [
      "print(Kmeans_EPI1_OUT)"
     ],
     "language": "python",
     "metadata": {},
     "outputs": [
      {
       "output_type": "stream",
       "stream": "stdout",
       "text": [
        "KMeans(copy_x=True, init='k-means++', max_iter=300, n_clusters=8, n_init=10,\n",
        "    n_jobs=1, precompute_distances=True, random_state=None, tol=0.0001,\n",
        "    verbose=1)\n"
       ]
      }
     ],
     "prompt_number": 103
    },
    {
     "cell_type": "code",
     "collapsed": false,
     "input": [
      "Kmeans_EPI1_OUT.labels_"
     ],
     "language": "python",
     "metadata": {},
     "outputs": [
      {
       "metadata": {},
       "output_type": "pyout",
       "prompt_number": 104,
       "text": [
        "array([7, 7, 7, 7, 7, 7, 7, 7, 7, 7, 7, 7, 7, 7, 7, 7, 7, 7, 7, 7, 7, 7, 7,\n",
        "       7, 7, 7, 7, 7, 7, 7, 7, 7, 7, 7, 7, 7, 7, 7, 7, 7, 7, 7, 7, 7, 7, 7,\n",
        "       7, 7, 7, 7, 7, 7, 7, 7, 7, 7, 6, 6, 6, 6, 6, 6, 6, 6, 6, 6, 6, 6, 6,\n",
        "       6, 6, 6, 6, 6, 6, 6, 6, 6, 6, 6, 6, 6, 6, 6, 6, 6, 6, 6, 6, 6, 6, 6,\n",
        "       6, 6, 6, 6, 6, 6, 6, 6, 6, 6, 6, 6, 6, 6, 6, 3, 3, 3, 3, 3, 3, 3, 3,\n",
        "       3, 3, 3, 3, 3, 3, 3, 3, 3, 3, 3, 3, 3, 3, 3, 3, 3, 3, 3, 3, 3, 3, 3,\n",
        "       3, 3, 3, 3, 3, 3, 3, 3, 3, 3, 3, 3, 3, 3, 3, 3, 3, 3, 3, 3, 3, 3, 3,\n",
        "       3, 3, 3, 3, 3, 3, 3, 4, 4, 4, 4, 4, 4, 4, 4, 4, 4, 4, 4, 4, 4, 4, 4,\n",
        "       4, 4, 4, 4, 4, 4, 4, 4, 4, 4, 4, 4, 4, 4, 4, 4, 4, 4, 4, 4, 4, 4, 4,\n",
        "       4, 4, 4, 4, 4, 4, 4, 4, 4, 4, 4, 4, 4, 4, 4, 4, 4, 1, 1, 1, 1, 1, 1,\n",
        "       1, 1, 1, 1, 1, 1, 1, 1, 1, 1, 1, 1, 1, 1, 1, 1, 1, 1, 1, 1, 1, 1, 1,\n",
        "       1, 1, 1, 1, 1, 1, 1, 1, 1, 1, 1, 1, 1, 1, 1, 1, 1, 1, 1, 1, 1, 1, 1,\n",
        "       1, 1, 1, 1, 1, 1, 5, 5, 5, 5, 5, 5, 5, 5, 5, 5, 5, 5, 5, 5, 5, 5, 5,\n",
        "       5, 5, 5, 5, 5, 5, 5, 5, 5, 5, 5, 5, 5, 5, 5, 5, 5, 5, 5, 5, 5, 5, 5,\n",
        "       5, 5, 5, 5, 5, 5, 5, 5, 5, 5, 5, 5, 5, 5, 5, 5, 0, 0, 0, 0, 0, 0, 0,\n",
        "       0, 0, 0, 0, 0, 0, 0, 0, 0, 0, 0, 0, 0, 0, 0, 0, 0, 0, 0, 0, 0, 0, 0,\n",
        "       0, 0, 0, 0, 0, 0, 0, 0, 0, 0, 0, 0, 0, 0, 0, 0, 0, 0, 0, 0, 0, 0, 0,\n",
        "       0, 0, 0, 0, 0, 0, 0, 0, 0, 0, 0, 0, 0, 0, 0, 0, 0, 0, 0, 0, 0, 0, 0,\n",
        "       0, 0, 0, 0, 0, 0, 0, 0, 0, 0, 0, 2, 2, 2, 2, 2, 2, 2, 2, 2, 2, 2, 2,\n",
        "       2, 2, 2, 2, 2, 2, 2, 2, 2, 2, 2, 2, 2, 2, 2, 2, 2, 2, 2, 2, 2, 2, 2,\n",
        "       2, 2, 2, 2, 2, 2, 2, 2, 2, 2, 2, 2, 2, 2, 2, 2, 2, 2, 2, 2, 2, 2, 2,\n",
        "       2, 2, 2, 2, 2, 2, 6, 6, 6, 6, 6, 6, 6], dtype=int32)"
       ]
      }
     ],
     "prompt_number": 104
    },
    {
     "cell_type": "code",
     "collapsed": false,
     "input": [
      "Kmeans_EPI1_OUT.cluster_centers_.shape"
     ],
     "language": "python",
     "metadata": {},
     "outputs": [
      {
       "metadata": {},
       "output_type": "pyout",
       "prompt_number": 105,
       "text": [
        "(8, 361)"
       ]
      }
     ],
     "prompt_number": 105
    },
    {
     "cell_type": "code",
     "collapsed": false,
     "input": [
      "EPI1_centroid0 = Kmeans_EPI1_OUT.cluster_centers_[0,:].reshape(19,19,order='F')\n",
      "EPI1_centroid1 = Kmeans_EPI1_OUT.cluster_centers_[1,:].reshape(19,19,order='F')\n",
      "EPI1_centroid2 = Kmeans_EPI1_OUT.cluster_centers_[2,:].reshape(19,19,order='F')\n",
      "EPI1_centroid3 = Kmeans_EPI1_OUT.cluster_centers_[3,:].reshape(19,19,order='F')\n",
      "EPI1_centroid4 = Kmeans_EPI1_OUT.cluster_centers_[4,:].reshape(19,19,order='F')\n",
      "EPI1_centroid5 = Kmeans_EPI1_OUT.cluster_centers_[5,:].reshape(19,19,order='F')\n",
      "EPI1_centroid6 = Kmeans_EPI1_OUT.cluster_centers_[6,:].reshape(19,19,order='F')\n",
      "EPI1_centroid7 = Kmeans_EPI1_OUT.cluster_centers_[7,:].reshape(19,19,order='F')\n",
      "\n",
      "EPI2_centroid0 = Kmeans_EPI2_OUT.cluster_centers_[0,:].reshape(19,19,order='F')\n",
      "EPI2_centroid1 = Kmeans_EPI2_OUT.cluster_centers_[1,:].reshape(19,19,order='F')\n",
      "EPI2_centroid2 = Kmeans_EPI2_OUT.cluster_centers_[2,:].reshape(19,19,order='F')\n",
      "EPI2_centroid3 = Kmeans_EPI2_OUT.cluster_centers_[3,:].reshape(19,19,order='F')\n",
      "EPI2_centroid4 = Kmeans_EPI2_OUT.cluster_centers_[4,:].reshape(19,19,order='F')\n",
      "EPI2_centroid5 = Kmeans_EPI2_OUT.cluster_centers_[5,:].reshape(19,19,order='F')\n",
      "EPI2_centroid6 = Kmeans_EPI2_OUT.cluster_centers_[6,:].reshape(19,19,order='F')\n",
      "EPI2_centroid7 = Kmeans_EPI2_OUT.cluster_centers_[7,:].reshape(19,19,order='F')"
     ],
     "language": "python",
     "metadata": {},
     "outputs": [],
     "prompt_number": 106
    },
    {
     "cell_type": "code",
     "collapsed": false,
     "input": [
      "plt.subplot(181)\n",
      "plt.imshow(EPI1_centroid0, interpolation = 'nearest')\n",
      "plt.clim(-1,1)\n",
      "plt.subplot(182)\n",
      "plt.imshow(EPI1_centroid1, interpolation = 'nearest')\n",
      "plt.clim(-1,1)\n",
      "plt.subplot(183)\n",
      "plt.imshow(EPI1_centroid2, interpolation = 'nearest')\n",
      "plt.clim(-1,1)\n",
      "plt.subplot(184)\n",
      "plt.imshow(EPI1_centroid3, interpolation = 'nearest')\n",
      "plt.clim(-1,1)\n",
      "plt.subplot(185)\n",
      "plt.imshow(EPI1_centroid4, interpolation = 'nearest')\n",
      "plt.clim(-1,1)\n",
      "plt.subplot(186)\n",
      "plt.imshow(EPI1_centroid5, interpolation = 'nearest')\n",
      "plt.clim(-1,1)\n",
      "plt.subplot(187)\n",
      "plt.imshow(EPI1_centroid6, interpolation = 'nearest')\n",
      "plt.clim(-1,1)\n",
      "plt.subplot(188)\n",
      "plt.imshow(EPI1_centroid7, interpolation = 'nearest')\n",
      "plt.clim(-1,1)"
     ],
     "language": "python",
     "metadata": {},
     "outputs": [
      {
       "metadata": {},
       "output_type": "display_data",
       "png": "[encoded data removed]",
       "text": [
        "<matplotlib.figure.Figure at 0x1085305f8>"
       ]
      }
     ],
     "prompt_number": 107
    },
    {
     "cell_type": "code",
     "collapsed": false,
     "input": [
      "plt.subplot(181)\n",
      "plt.imshow(EPI2_centroid0, interpolation = 'nearest')\n",
      "plt.clim(-1,1)\n",
      "plt.subplot(182)\n",
      "plt.imshow(EPI2_centroid1, interpolation = 'nearest')\n",
      "plt.clim(-1,1)\n",
      "plt.subplot(183)\n",
      "plt.imshow(EPI2_centroid2, interpolation = 'nearest')\n",
      "plt.clim(-1,1)\n",
      "plt.subplot(184)\n",
      "plt.imshow(EPI2_centroid3, interpolation = 'nearest')\n",
      "plt.clim(-1,1)\n",
      "plt.subplot(185)\n",
      "plt.imshow(EPI2_centroid4, interpolation = 'nearest')\n",
      "plt.clim(-1,1)\n",
      "plt.subplot(186)\n",
      "plt.imshow(EPI2_centroid5, interpolation = 'nearest')\n",
      "plt.clim(-1,1)\n",
      "plt.subplot(187)\n",
      "plt.imshow(EPI2_centroid6, interpolation = 'nearest')\n",
      "plt.clim(-1,1)\n",
      "plt.subplot(188)\n",
      "plt.imshow(EPI2_centroid7, interpolation = 'nearest')\n",
      "plt.clim(-1,1)"
     ],
     "language": "python",
     "metadata": {},
     "outputs": [
      {
       "metadata": {},
       "output_type": "display_data",
       "png": "[encoded data removed]",
       "text": [
        "<matplotlib.figure.Figure at 0x108256f98>"
       ]
      }
     ],
     "prompt_number": 108
    },
    {
     "cell_type": "code",
     "collapsed": false,
     "input": [
      "plt.subplot(121)\n",
      "plt.imshow(w_EPI1, interpolation = 'nearest')\n",
      "plt.clim(-1,1)\n",
      "plt.subplot(122)\n",
      "plt.imshow(w_EPI2, interpolation = 'nearest')\n",
      "plt.clim(-1,1)"
     ],
     "language": "python",
     "metadata": {},
     "outputs": [
      {
       "metadata": {},
       "output_type": "display_data",
       "png": "[encoded data removed]",
       "text": [
        "<matplotlib.figure.Figure at 0x10827e5f8>"
       ]
      }
     ],
     "prompt_number": 109
    },
    {
     "cell_type": "code",
     "collapsed": false,
     "input": [
      "EPI1_centroid0"
     ],
     "language": "python",
     "metadata": {},
     "outputs": [
      {
       "metadata": {},
       "output_type": "pyout",
       "prompt_number": 110,
       "text": [
        "array([[ 1.        ,  0.70281719,  0.2704708 ,  0.17514298,  0.47249378,\n",
        "         0.51226469,  0.38571874,  0.5439179 ,  0.55139352,  0.52104535,\n",
        "         0.357172  ,  0.3848718 ,  0.35827041,  0.13421632,  0.07560258,\n",
        "         0.38821562,  0.4178447 , -0.02363365, -0.40163984],\n",
        "       [ 0.70281719,  1.        ,  0.1374034 ,  0.01005598,  0.61888197,\n",
        "         0.66343427,  0.30432765,  0.56807123,  0.49949678,  0.4635144 ,\n",
        "         0.39916194,  0.46294463,  0.4403191 ,  0.3428966 ,  0.21542471,\n",
        "         0.46009017,  0.45280009, -0.07304947, -0.42501573],\n",
        "       [ 0.2704708 ,  0.1374034 ,  1.        ,  0.76181487,  0.05138676,\n",
        "         0.15524608,  0.25040968,  0.16511506,  0.23275298,  0.30547143,\n",
        "         0.19522689,  0.15805386, -0.00337543, -0.03217887, -0.04315213,\n",
        "         0.03966901,  0.03330307, -0.11011291, -0.17214791],\n",
        "       [ 0.17514298,  0.01005598,  0.76181487,  1.        , -0.0388194 ,\n",
        "        -0.02182891,  0.27807513,  0.15244516,  0.24541686,  0.3345087 ,\n",
        "         0.20849127,  0.0406319 , -0.04092611, -0.16723697, -0.02282528,\n",
        "        -0.1413542 , -0.15899617, -0.07203544, -0.01719675],\n",
        "       [ 0.47249378,  0.61888197,  0.05138676, -0.0388194 ,  1.        ,\n",
        "         0.73140076,  0.15181993,  0.47662647,  0.47223029,  0.36693718,\n",
        "         0.34401772,  0.62157691,  0.66491377,  0.44206561,  0.26968954,\n",
        "         0.36509292,  0.43812095,  0.02507324, -0.44683199],\n",
        "       [ 0.51226469,  0.66343427,  0.15524608, -0.02182891,  0.73140076,\n",
        "         1.        ,  0.11709939,  0.48747493,  0.48797297,  0.30009943,\n",
        "         0.25161692,  0.56157976,  0.61111195,  0.33818984,  0.15389659,\n",
        "         0.32697456,  0.41654694,  0.04054529, -0.37721353],\n",
        "       [ 0.38571874,  0.30432765,  0.25040968,  0.27807513,  0.15181993,\n",
        "         0.11709939,  1.        ,  0.5208838 ,  0.56655213,  0.52996677,\n",
        "         0.64336896,  0.12193776,  0.18857508,  0.02665183,  0.01575318,\n",
        "         0.27059396,  0.15707153,  0.16615625, -0.19186249],\n",
        "       [ 0.5439179 ,  0.56807123,  0.16511506,  0.15244516,  0.47662647,\n",
        "         0.48747493,  0.5208838 ,  1.        ,  0.77553325,  0.58202657,\n",
        "         0.60805046,  0.3644752 ,  0.5192654 ,  0.37255544,  0.2879501 ,\n",
        "         0.57592828,  0.53991047,  0.0741165 , -0.35848241],\n",
        "       [ 0.55139352,  0.49949678,  0.23275298,  0.24541686,  0.47223029,\n",
        "         0.48797297,  0.56655213,  0.77553325,  1.        ,  0.60039338,\n",
        "         0.59576057,  0.31991312,  0.56652717,  0.20502313,  0.20007327,\n",
        "         0.38639005,  0.41839645,  0.14055379, -0.2541645 ],\n",
        "       [ 0.52104535,  0.4635144 ,  0.30547143,  0.3345087 ,  0.36693718,\n",
        "         0.30009943,  0.52996677,  0.58202657,  0.60039338,  1.        ,\n",
        "         0.69759719,  0.29822305,  0.45773728,  0.20242274,  0.16812303,\n",
        "         0.47085851,  0.40249152,  0.02399415, -0.308136  ],\n",
        "       [ 0.357172  ,  0.39916194,  0.19522689,  0.20849127,  0.34401772,\n",
        "         0.25161692,  0.64336896,  0.60805046,  0.59576057,  0.69759719,\n",
        "         1.        ,  0.22512396,  0.44076978,  0.43928861,  0.35973038,\n",
        "         0.50723126,  0.38112069,  0.16123362, -0.29560469],\n",
        "       [ 0.3848718 ,  0.46294463,  0.15805386,  0.0406319 ,  0.62157691,\n",
        "         0.56157976,  0.12193776,  0.3644752 ,  0.31991312,  0.29822305,\n",
        "         0.22512396,  1.        ,  0.60007383,  0.46385708,  0.31155438,\n",
        "         0.35607999,  0.462859  ,  0.07088741, -0.36805299],\n",
        "       [ 0.35827041,  0.4403191 , -0.00337543, -0.04092611,  0.66491377,\n",
        "         0.61111195,  0.18857508,  0.5192654 ,  0.56652717,  0.45773728,\n",
        "         0.44076978,  0.60007383,  1.        ,  0.55147218,  0.30881741,\n",
        "         0.45047142,  0.54102188,  0.08835185, -0.42230038],\n",
        "       [ 0.13421632,  0.3428966 , -0.03217887, -0.16723697,  0.44206561,\n",
        "         0.33818984,  0.02665183,  0.37255544,  0.20502313,  0.20242274,\n",
        "         0.43928861,  0.46385708,  0.55147218,  1.        ,  0.69108906,\n",
        "         0.54885985,  0.49564299,  0.1870016 , -0.29161462],\n",
        "       [ 0.07560258,  0.21542471, -0.04315213, -0.02282528,  0.26968954,\n",
        "         0.15389659,  0.01575318,  0.2879501 ,  0.20007327,  0.16812303,\n",
        "         0.35973038,  0.31155438,  0.30881741,  0.69108906,  1.        ,\n",
        "         0.43331754,  0.38341302,  0.27338209, -0.15279658],\n",
        "       [ 0.38821562,  0.46009017,  0.03966901, -0.1413542 ,  0.36509292,\n",
        "         0.32697456,  0.27059396,  0.57592828,  0.38639005,  0.47085851,\n",
        "         0.50723126,  0.35607999,  0.45047142,  0.54885985,  0.43331754,\n",
        "         1.        ,  0.88541194,  0.14147403, -0.33787933],\n",
        "       [ 0.4178447 ,  0.45280009,  0.03330307, -0.15899617,  0.43812095,\n",
        "         0.41654694,  0.15707153,  0.53991047,  0.41839645,  0.40249152,\n",
        "         0.38112069,  0.462859  ,  0.54102188,  0.49564299,  0.38341302,\n",
        "         0.88541194,  1.        ,  0.09265575, -0.39355143],\n",
        "       [-0.02363365, -0.07304947, -0.11011291, -0.07203544,  0.02507324,\n",
        "         0.04054529,  0.16615625,  0.0741165 ,  0.14055379,  0.02399415,\n",
        "         0.16123362,  0.07088741,  0.08835185,  0.1870016 ,  0.27338209,\n",
        "         0.14147403,  0.09265575,  1.        ,  0.23236798],\n",
        "       [-0.40163984, -0.42501573, -0.17214791, -0.01719675, -0.44683199,\n",
        "        -0.37721353, -0.19186249, -0.35848241, -0.2541645 , -0.308136  ,\n",
        "        -0.29560469, -0.36805299, -0.42230038, -0.29161462, -0.15279658,\n",
        "        -0.33787933, -0.39355143,  0.23236798,  1.        ]])"
       ]
      }
     ],
     "prompt_number": 110
    },
    {
     "cell_type": "code",
     "collapsed": false,
     "input": [
      "#determine your K range\n",
      "k_range = range(2,25)\n",
      "\n",
      "# Fit kmeans model for each n_cluster = k\n",
      "k_means_var = [KMeans(n_clusters=k).fit(Kmeans_EPI1)for k in k_range]\n",
      "\n",
      "# Pull out the cluster centers for each model\n",
      "centroids = [X.cluster_centers_ for X in k_means_var]"
     ],
     "language": "python",
     "metadata": {},
     "outputs": [],
     "prompt_number": 111
    },
    {
     "cell_type": "code",
     "collapsed": false,
     "input": [
      "## Graphing the Variance:\n",
      "# Calculate the Euclidean distance from each point to each cluster center\n",
      "k_euclid = [cdist(Kmeans_EPI1, cent, 'euclidean') for cent in centroids]\n",
      "dist = [np.min(ke,axis=1) for ke in k_euclid]\n",
      "\n",
      "# Total within-cluster sum of squares\n",
      "wcss = [sum(d**2) for d in dist]\n",
      "\n",
      "# The total sum of squares\n",
      "tss = sum(pdist(Kmeans_EPI1)**2)/Kmeans_EPI1.shape[0]\n",
      "\n",
      "# The between-cluster sum of squares\n",
      "bss = tss - wcss"
     ],
     "language": "python",
     "metadata": {},
     "outputs": [],
     "prompt_number": 112
    },
    {
     "cell_type": "code",
     "collapsed": false,
     "input": [
      "bss\n",
      "plt.plot(bss/tss*100)"
     ],
     "language": "python",
     "metadata": {},
     "outputs": [
      {
       "metadata": {},
       "output_type": "pyout",
       "prompt_number": 113,
       "text": [
        "[<matplotlib.lines.Line2D at 0x108d24048>]"
       ]
      },
      {
       "metadata": {},
       "output_type": "display_data",
       "png": "[encoded data removed]",
       "text": [
        "<matplotlib.figure.Figure at 0x1086b1d30>"
       ]
      }
     ],
     "prompt_number": 113
    },
    {
     "cell_type": "code",
     "collapsed": false,
     "input": [
      "#determine your K range\n",
      "k_range = range(2,25)\n",
      "\n",
      "# Fit kmeans model for each n_cluster = k\n",
      "k_means_var = [KMeans(n_clusters=k).fit(Kmeans_EPI2)for k in k_range]\n",
      "\n",
      "# Pull out the cluster centers for each model\n",
      "centroids = [X.cluster_centers_ for X in k_means_var]"
     ],
     "language": "python",
     "metadata": {},
     "outputs": [],
     "prompt_number": 114
    },
    {
     "cell_type": "code",
     "collapsed": false,
     "input": [
      "## Graphing the Variance:\n",
      "# Calculate the Euclidean distance from each point to each cluster center\n",
      "k_euclid = [cdist(Kmeans_EPI2, cent, 'euclidean') for cent in centroids]\n",
      "dist = [np.min(ke,axis=1) for ke in k_euclid]\n",
      "\n",
      "# Total within-cluster sum of squares\n",
      "wcss = [sum(d**2) for d in dist]\n",
      "\n",
      "# The total sum of squares\n",
      "tss = sum(pdist(Kmeans_EPI2)**2)/Kmeans_EPI2.shape[0]\n",
      "\n",
      "# The between-cluster sum of squares\n",
      "bss = tss - wcss\n",
      "plt.plot(bss/tss)"
     ],
     "language": "python",
     "metadata": {},
     "outputs": [
      {
       "metadata": {},
       "output_type": "pyout",
       "prompt_number": 115,
       "text": [
        "[<matplotlib.lines.Line2D at 0x108ce1518>]"
       ]
      },
      {
       "metadata": {},
       "output_type": "display_data",
       "png": "[encoded data removed]",
       "text": [
        "<matplotlib.figure.Figure at 0x108ce7588>"
       ]
      }
     ],
     "prompt_number": 115
    }
   ],
   "metadata": {}
  }
 ]
}