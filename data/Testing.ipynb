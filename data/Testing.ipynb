{
 "metadata": {
  "name": "",
  "signature": "sha256:717aea94a3bf07a943b53bb44bef2712fcabb9dce5075c63975c9c83802d62c9"
 },
 "nbformat": 3,
 "nbformat_minor": 0,
 "worksheets": [
  {
   "cells": [
    {
     "cell_type": "code",
     "collapsed": false,
     "input": [
      "import numpy as np\n",
      "import networkx as nx\n",
      "import json\n",
      "from networkx.readwrite import json_graph\n",
      "%matplotlib inline\n",
      "import matplotlib.pyplot as plt"
     ],
     "language": "python",
     "metadata": {},
     "outputs": [],
     "prompt_number": 1
    },
    {
     "cell_type": "code",
     "collapsed": false,
     "input": [
      "D101_EPI2 = np.loadtxt('WZP101B_EPI2_rois3.txt')\n",
      "D102_EPI2 = np.loadtxt('WZP102B_EPI2_rois3.txt')\n",
      "#D103_EPI2 = np.loadtxt('WZP103B_EPI2_rois3.txt')\n",
      "data_EPI2 = [D101_EPI2, D102_EPI2]\n",
      "data_EPI2_arr = np.array(data_EPI2)"
     ],
     "language": "python",
     "metadata": {},
     "outputs": [],
     "prompt_number": 2
    },
    {
     "cell_type": "code",
     "collapsed": false,
     "input": [
      "subIDlist = [101,102, 103, 105, 107, 109, 110, 111]  # all subj numbers i want to load\n",
      "data_EPI1 = []\n",
      "data_EPI2 = []\n",
      "for subID in subIDlist:\n",
      "    data_EPI1.append(np.loadtxt('WZP' +str(subID) +'B_EPI1_rois3.txt'))\n",
      "    data_EPI2.append(np.loadtxt('WZP' +str(subID) +'B_EPI2_rois3.txt'))"
     ],
     "language": "python",
     "metadata": {},
     "outputs": [],
     "prompt_number": 3
    },
    {
     "cell_type": "code",
     "collapsed": false,
     "input": [
      "data_EPI2"
     ],
     "language": "python",
     "metadata": {},
     "outputs": [
      {
       "metadata": {},
       "output_type": "pyout",
       "prompt_number": 4,
       "text": [
        "[array([[ 0.027592,  0.869363, -0.596345, ...,  0.104477,  0.542203,\n",
        "          0.088207],\n",
        "        [-0.271625, -0.649815, -1.583217, ..., -1.192258,  0.995196,\n",
        "         -0.114702],\n",
        "        [-1.328811, -0.638808, -0.255793, ..., -0.682803,  1.591407,\n",
        "         -0.078647],\n",
        "        ..., \n",
        "        [ 1.644815,  1.38835 ,  0.640385, ..., -0.036737, -1.535417,\n",
        "          0.098656],\n",
        "        [ 1.642949,  0.967033,  1.009645, ...,  0.295769, -0.454781,\n",
        "          1.266551],\n",
        "        [ 0.324164,  0.47872 ,  1.696695, ...,  0.4152  , -1.324871,\n",
        "         -0.229726]]),\n",
        " array([[ 1.155388, -0.241239, -0.444982, ...,  0.450007,  0.050311,\n",
        "         -0.867215],\n",
        "        [ 0.977659,  0.362422, -0.216223, ...,  0.111194, -1.084015,\n",
        "          0.772391],\n",
        "        [-0.106045, -0.264396, -0.696252, ...,  0.710472, -0.993439,\n",
        "         -0.281889],\n",
        "        ..., \n",
        "        [-0.253273,  0.980581,  0.247945, ...,  1.322196, -0.489608,\n",
        "         -0.426368],\n",
        "        [-0.626588, -0.676536,  0.008615, ..., -0.013453, -1.283918,\n",
        "         -1.613835],\n",
        "        [-0.73158 , -1.117839, -2.799109, ..., -1.333414, -0.064683,\n",
        "          0.506954]]),\n",
        " array([[-0.629278, -0.199923,  0.128139, ..., -0.853645, -1.698906,\n",
        "         -1.334778],\n",
        "        [-0.237054,  0.190078, -0.535918, ..., -1.497127, -2.763337,\n",
        "         -2.549762],\n",
        "        [-0.974625, -0.740538, -1.155246, ..., -0.214981, -2.013901,\n",
        "         -2.619174],\n",
        "        ..., \n",
        "        [-1.500378, -1.002878, -1.135162, ...,  0.458164,  0.959213,\n",
        "          1.005291],\n",
        "        [-0.925768,  0.618774, -0.158402, ...,  0.070153,  0.552945,\n",
        "          0.750864],\n",
        "        [ 0.856804,  0.908793,  1.356247, ...,  0.186699,  0.636963,\n",
        "          1.172734]]),\n",
        " array([[-1.075258, -0.931568, -0.45888 , ...,  0.390361, -0.049731,\n",
        "         -0.459548],\n",
        "        [-0.905726, -1.111844, -1.297325, ..., -0.695759,  0.534367,\n",
        "         -0.008123],\n",
        "        [-1.863785, -1.025268, -0.983273, ..., -0.689732,  0.190883,\n",
        "         -0.161207],\n",
        "        ..., \n",
        "        [-0.129583,  0.337011,  1.428416, ..., -0.369886,  2.148761,\n",
        "          2.091596],\n",
        "        [-0.272005,  0.932953,  0.962066, ..., -0.25703 ,  0.876282,\n",
        "          1.252353],\n",
        "        [-0.363369,  0.258835, -0.136652, ..., -0.565401,  0.619322,\n",
        "          0.197987]]),\n",
        " array([[ 1.513489,  0.380808,  0.90841 , ..., -0.378064, -0.411147,\n",
        "          0.51244 ],\n",
        "        [-0.23252 ,  0.010006, -0.672564, ...,  0.47773 ,  0.580093,\n",
        "         -0.042924],\n",
        "        [-0.560498, -0.336253, -1.513669, ...,  1.855805,  1.249877,\n",
        "          1.266399],\n",
        "        ..., \n",
        "        [ 0.644552, -0.252729,  1.427943, ...,  0.510646, -0.961355,\n",
        "         -0.010968],\n",
        "        [-0.044382,  0.19646 , -0.167554, ..., -0.976611,  0.034631,\n",
        "          0.14702 ],\n",
        "        [ 0.02696 ,  0.335215,  0.514982, ...,  1.299509, -0.663037,\n",
        "         -0.623207]]),\n",
        " array([[ 0.048655,  1.806126,  0.091401, ..., -1.988469, -1.214691,\n",
        "          0.381532],\n",
        "        [-1.099704, -1.697724, -0.914685, ..., -0.361758, -0.920463,\n",
        "          0.107543],\n",
        "        [-0.182596, -0.031439, -0.069137, ...,  0.562685,  0.129368,\n",
        "          1.479234],\n",
        "        ..., \n",
        "        [ 0.524415,  0.751809, -1.216991, ..., -1.315711,  0.633563,\n",
        "         -1.584119],\n",
        "        [ 0.396852,  0.303947,  1.153964, ..., -0.976022,  1.62505 ,\n",
        "         -0.323051],\n",
        "        [ 0.944482,  1.181258,  1.288158, ..., -0.635628, -0.268285,\n",
        "         -0.724604]]),\n",
        " array([[ 0.928036,  1.199625,  0.531275, ..., -0.451379,  0.909811,\n",
        "          0.378213],\n",
        "        [-0.149827, -0.740399,  0.778327, ...,  1.172677,  0.429559,\n",
        "          0.208317],\n",
        "        [-0.083709, -0.332472,  1.434343, ..., -0.076368,  0.506697,\n",
        "          0.912318],\n",
        "        ..., \n",
        "        [ 0.818462,  1.030192,  1.643551, ..., -0.522479, -0.34751 ,\n",
        "          0.287041],\n",
        "        [ 1.22396 ,  0.608971,  1.639953, ..., -0.165682,  0.403661,\n",
        "          1.188128],\n",
        "        [-0.057858, -0.086507,  0.439908, ...,  0.779576,  0.828336,\n",
        "          0.055057]]),\n",
        " array([[-0.610398, -0.174818, -1.247791, ..., -0.677064,  0.619984,\n",
        "          0.406208],\n",
        "        [-0.664084, -0.399927, -0.370235, ..., -0.701021,  0.499925,\n",
        "          0.764617],\n",
        "        [-0.980973, -1.052378, -0.056992, ...,  0.152713, -1.721272,\n",
        "         -0.795024],\n",
        "        ..., \n",
        "        [ 0.545368,  0.326415,  1.159721, ...,  0.942826,  0.774636,\n",
        "          0.924308],\n",
        "        [-0.352877,  1.154935,  1.303111, ...,  0.511744,  1.247923,\n",
        "          0.148278],\n",
        "        [ 0.627418,  0.189096,  1.582854, ...,  0.316453, -0.292934,\n",
        "         -0.947446]])]"
       ]
      }
     ],
     "prompt_number": 4
    },
    {
     "cell_type": "code",
     "collapsed": false,
     "input": [
      "whl_data_EPI1 = []\n",
      "for val in data_EPI1:\n",
      "    whl_data_EPI1.append(np.corrcoef(val.T))"
     ],
     "language": "python",
     "metadata": {},
     "outputs": [],
     "prompt_number": 5
    },
    {
     "cell_type": "code",
     "collapsed": false,
     "input": [
      "whl_data_EPI2 = []\n",
      "for val in data_EPI2:\n",
      "    whl_data_EPI2.append(np.corrcoef(val.T))"
     ],
     "language": "python",
     "metadata": {},
     "outputs": [],
     "prompt_number": 6
    },
    {
     "cell_type": "code",
     "collapsed": false,
     "input": [
      "whl_data_EPI2[0].shape"
     ],
     "language": "python",
     "metadata": {},
     "outputs": [
      {
       "metadata": {},
       "output_type": "pyout",
       "prompt_number": 7,
       "text": [
        "(19, 19)"
       ]
      }
     ],
     "prompt_number": 7
    },
    {
     "cell_type": "code",
     "collapsed": false,
     "input": [
      "win_data_EPI1 = []\n",
      "for val in data_EPI1:\n",
      "    tmpCorrs = np.zeros((val.shape[1],val.shape[1],val.shape[0]-30))\n",
      "    for j in range(0,val.shape[0]-30):\n",
      "        tmpCorrs[:,:,j] = np.corrcoef(val[j:j+30,:].T)\n",
      "    win_data_EPI1.append(np.copy(tmpCorrs))\n",
      "\n",
      "win_data_EPI2 = []\n",
      "for val in data_EPI2:\n",
      "    tmpCorrs = np.zeros((val.shape[1],val.shape[1],val.shape[0]-30))\n",
      "    for j in range(0,val.shape[0]-30):\n",
      "        tmpCorrs[:,:,j] = np.corrcoef(val[j:j+30,:].T)\n",
      "    win_data_EPI2.append(np.copy(tmpCorrs))"
     ],
     "language": "python",
     "metadata": {},
     "outputs": [],
     "prompt_number": 8
    },
    {
     "cell_type": "code",
     "collapsed": false,
     "input": [
      "print(data_EPI2[1].shape)\n",
      "print(len(win_data_EPI2))\n",
      "print(win_data_EPI2[0].shape)\n",
      "print(win_data_EPI2[1].shape)"
     ],
     "language": "python",
     "metadata": {},
     "outputs": [
      {
       "output_type": "stream",
       "stream": "stdout",
       "text": [
        "(276, 19)\n",
        "8\n",
        "(19, 19, 246)\n",
        "(19, 19, 246)\n"
       ]
      }
     ],
     "prompt_number": 9
    },
    {
     "cell_type": "code",
     "collapsed": false,
     "input": [
      "data_EPI2[0].shape"
     ],
     "language": "python",
     "metadata": {},
     "outputs": [
      {
       "metadata": {},
       "output_type": "pyout",
       "prompt_number": 10,
       "text": [
        "(276, 19)"
       ]
      }
     ],
     "prompt_number": 10
    },
    {
     "cell_type": "code",
     "collapsed": false,
     "input": [
      "plt.subplot(141)\n",
      "plt.imshow(whl_data_EPI2[0], interpolation = 'nearest')\n",
      "plt.clim(-1, 1)\n",
      "plt.subplot(142)\n",
      "plt.imshow(whl_data_EPI2[1], interpolation = 'nearest')\n",
      "plt.clim(-1,1)\n",
      "plt.subplot(143)\n",
      "plt.imshow(whl_data_EPI2[2], interpolation = 'nearest')\n",
      "plt.clim(-1,1)\n",
      "plt.subplot(144)\n",
      "plt.imshow(whl_data_EPI2[3], interpolation = 'nearest')\n",
      "plt.clim(-1,1)"
     ],
     "language": "python",
     "metadata": {},
     "outputs": [
      {
       "metadata": {},
       "output_type": "display_data",
       "png": "[encoded data removed]",
       "text": [
        "<matplotlib.figure.Figure at 0x1057c7518>"
       ]
      }
     ],
     "prompt_number": 13
    },
    {
     "cell_type": "code",
     "collapsed": false,
     "input": [
      "w_D101_EPI2 = np.corrcoef(D101_EPI2.T)\n",
      "w_D102_EPI2 = np.corrcoef(D102_EPI2.T)"
     ],
     "language": "python",
     "metadata": {},
     "outputs": [],
     "prompt_number": 12
    },
    {
     "cell_type": "code",
     "collapsed": false,
     "input": [
      "plt.subplot(121)\n",
      "plt.imshow(w_D101_EPI2, interpolation = 'nearest')\n",
      "plt.clim(-1,1)\n",
      "plt.subplot(122)\n",
      "plt.imshow(w_D102_EPI2, interpolation = 'nearest')\n",
      "plt.clim(-1,1)"
     ],
     "language": "python",
     "metadata": {},
     "outputs": [
      {
       "metadata": {},
       "output_type": "display_data",
       "png": "[encoded data removed]",
       "text": [
        "<matplotlib.figure.Figure at 0x105b70518>"
       ]
      }
     ],
     "prompt_number": 87
    },
    {
     "cell_type": "code",
     "collapsed": false,
     "input": [
      "bigCorrMat_EPI2 = np.zeros((data_EPI2.shape[1], data_EPI2.shape[1], data_EPI2.shape[0]-30))\n",
      "for i in range(0, data_EPI2.shape[0]-30):\n",
      "    bigCorrMat_EPI2[:,:,i] = np.corrcoef(data_EPI2[i:i+30,:].T)\n",
      "\n",
      "print (bigCorrMat_EPI2)"
     ],
     "language": "python",
     "metadata": {},
     "outputs": [
      {
       "output_type": "stream",
       "stream": "stdout",
       "text": [
        "[[[ 1.          1.          1.         ...,  1.          1.          1.        ]\n",
        "  [ 0.70987955  0.7376711   0.7357041  ...,  0.74382729  0.7176633\n",
        "    0.71173188]\n",
        "  [-0.01363499  0.02521888  0.03257912 ...,  0.36793297  0.3649717\n",
        "    0.32890481]\n",
        "  ..., \n",
        "  [ 0.44242657  0.44232598  0.42065843 ...,  0.2801012   0.25183879\n",
        "    0.33979629]\n",
        "  [-0.24858465 -0.25304807 -0.17629293 ...,  0.04909293  0.04667042\n",
        "    0.05158509]\n",
        "  [-0.20994283 -0.15408723 -0.16940503 ...,  0.01071184  0.01619014\n",
        "   -0.00491352]]\n",
        "\n",
        " [[ 0.70987955  0.7376711   0.7357041  ...,  0.74382729  0.7176633\n",
        "    0.71173188]\n",
        "  [ 1.          1.          1.         ...,  1.          1.          1.        ]\n",
        "  [ 0.19431026  0.22234743  0.22698096 ...,  0.71318561  0.71026533\n",
        "    0.66752095]\n",
        "  ..., \n",
        "  [ 0.54070889  0.55987528  0.53706907 ...,  0.10017901  0.11012806\n",
        "    0.24773633]\n",
        "  [-0.32369431 -0.32755427 -0.29510763 ...,  0.15577899  0.09938631\n",
        "    0.10764507]\n",
        "  [-0.21095189 -0.19275153 -0.19853974 ...,  0.09694512  0.0822371\n",
        "    0.04480472]]\n",
        "\n",
        " [[-0.01363499  0.02521888  0.03257912 ...,  0.36793297  0.3649717\n",
        "    0.32890481]\n",
        "  [ 0.19431026  0.22234743  0.22698096 ...,  0.71318561  0.71026533\n",
        "    0.66752095]\n",
        "  [ 1.          1.          1.         ...,  1.          1.          1.        ]\n",
        "  ..., \n",
        "  [-0.19963904 -0.1406579  -0.13450594 ..., -0.18942369 -0.18929819\n",
        "   -0.10727924]\n",
        "  [ 0.02889462  0.01567801  0.00732296 ...,  0.06829242  0.06230449\n",
        "    0.02131786]\n",
        "  [-0.02693831 -0.01558898 -0.00987145 ...,  0.06561001  0.06448036\n",
        "   -0.02341265]]\n",
        "\n",
        " ..., \n",
        " [[ 0.44242657  0.44232598  0.42065843 ...,  0.2801012   0.25183879\n",
        "    0.33979629]\n",
        "  [ 0.54070889  0.55987528  0.53706907 ...,  0.10017901  0.11012806\n",
        "    0.24773633]\n",
        "  [-0.19963904 -0.1406579  -0.13450594 ..., -0.18942369 -0.18929819\n",
        "   -0.10727924]\n",
        "  ..., \n",
        "  [ 1.          1.          1.         ...,  1.          1.          1.        ]\n",
        "  [-0.31391483 -0.31605522 -0.39091567 ..., -0.26243323 -0.31854069\n",
        "   -0.25268632]\n",
        "  [-0.17170102 -0.12509629 -0.22605323 ..., -0.46879409 -0.47855361\n",
        "   -0.3745638 ]]\n",
        "\n",
        " [[-0.24858465 -0.25304807 -0.17629293 ...,  0.04909293  0.04667042\n",
        "    0.05158509]\n",
        "  [-0.32369431 -0.32755427 -0.29510763 ...,  0.15577899  0.09938631\n",
        "    0.10764507]\n",
        "  [ 0.02889462  0.01567801  0.00732296 ...,  0.06829242  0.06230449\n",
        "    0.02131786]\n",
        "  ..., \n",
        "  [-0.31391483 -0.31605522 -0.39091567 ..., -0.26243323 -0.31854069\n",
        "   -0.25268632]\n",
        "  [ 1.          1.          1.         ...,  1.          1.          1.        ]\n",
        "  [ 0.08068635  0.06994494  0.22950555 ...,  0.60611508  0.62183605\n",
        "    0.64357746]]\n",
        "\n",
        " [[-0.20994283 -0.15408723 -0.16940503 ...,  0.01071184  0.01619014\n",
        "   -0.00491352]\n",
        "  [-0.21095189 -0.19275153 -0.19853974 ...,  0.09694512  0.0822371\n",
        "    0.04480472]\n",
        "  [-0.02693831 -0.01558898 -0.00987145 ...,  0.06561001  0.06448036\n",
        "   -0.02341265]\n",
        "  ..., \n",
        "  [-0.17170102 -0.12509629 -0.22605323 ..., -0.46879409 -0.47855361\n",
        "   -0.3745638 ]\n",
        "  [ 0.08068635  0.06994494  0.22950555 ...,  0.60611508  0.62183605\n",
        "    0.64357746]\n",
        "  [ 1.          1.          1.         ...,  1.          1.          1.        ]]]\n"
       ]
      }
     ],
     "prompt_number": 6
    },
    {
     "cell_type": "code",
     "collapsed": false,
     "input": [
      "%matplotlib inline\n",
      "import matplotlib.pyplot as plt\n",
      "plt.subplot(131)\n",
      "plt.imshow(bigCorrMat_EPI2[:,:,20], interpolation = 'nearest')\n",
      "plt.clim(-1,1)\n",
      "plt.subplot(132)\n",
      "plt.imshow(bigCorrMat_EPI2[:,:,40], interpolation = 'nearest')\n",
      "plt.clim(-1,1)\n",
      "plt.subplot(133)\n",
      "plt.imshow(bigCorrMat_EPI2[:,:,60], interpolation = 'nearest')\n",
      "plt.clim(-1,1)"
     ],
     "language": "python",
     "metadata": {},
     "outputs": [
      {
       "metadata": {},
       "output_type": "display_data",
       "png": "[encoded data removed]",
       "text": [
        "<matplotlib.figure.Figure at 0x106343198>"
       ]
      }
     ],
     "prompt_number": 7
    },
    {
     "cell_type": "code",
     "collapsed": false,
     "input": [
      "import networkx as nx\n",
      "g_EPI2=nx.Graph(w_EPI2)"
     ],
     "language": "python",
     "metadata": {},
     "outputs": [],
     "prompt_number": 8
    },
    {
     "cell_type": "code",
     "collapsed": false,
     "input": [
      "print (g_EPI2.nodes())"
     ],
     "language": "python",
     "metadata": {},
     "outputs": [
      {
       "output_type": "stream",
       "stream": "stdout",
       "text": [
        "[0, 1, 2, 3, 4, 5, 6, 7, 8, 9, 10, 11, 12, 13, 14, 15, 16, 17, 18, 19, 20]\n"
       ]
      }
     ],
     "prompt_number": 9
    },
    {
     "cell_type": "code",
     "collapsed": false,
     "input": [
      "rois = {0:\"rPCCx\",1:\"lPCCx\",2:\"lAngG\",3:\"rAngG\",4:\"lParaHC\",5:\"rParaHC\",6:\"ACCx\",7:\"l.dPPCx\",8:\"r.dPPCx\",9:\"l.dlPFCx\",10:\"r.dlPFCx\",11:\"lAMY\",12:\"rAMY\",13:\"lIT\",14:\"rIT\",15:\"lAI\",16:\"rAI\",17:\"lTPJ\",18:\"rTPJ\",19:\"lCaud\",20:\"rCaud\"}"
     ],
     "language": "python",
     "metadata": {},
     "outputs": [],
     "prompt_number": 10
    },
    {
     "cell_type": "code",
     "collapsed": false,
     "input": [
      "print (rois)"
     ],
     "language": "python",
     "metadata": {},
     "outputs": [
      {
       "output_type": "stream",
       "stream": "stdout",
       "text": [
        "{0: 'rPCCx', 1: 'lPCCx', 2: 'lAngG', 3: 'rAngG', 4: 'lParaHC', 5: 'rParaHC', 6: 'ACCx', 7: 'l.dPPCx', 8: 'r.dPPCx', 9: 'l.dlPFCx', 10: 'r.dlPFCx', 11: 'lAMY', 12: 'rAMY', 13: 'lIT', 14: 'rIT', 15: 'lAI', 16: 'rAI', 17: 'lTPJ', 18: 'rTPJ', 19: 'lCaud', 20: 'rCaud'}\n"
       ]
      }
     ],
     "prompt_number": 11
    },
    {
     "cell_type": "code",
     "collapsed": false,
     "input": [
      "g_EPI2_labeled=nx.relabel_nodes(g_EPI2,rois)"
     ],
     "language": "python",
     "metadata": {},
     "outputs": [],
     "prompt_number": 12
    },
    {
     "cell_type": "code",
     "collapsed": false,
     "input": [
      "print (g_EPI2_labeled.nodes())"
     ],
     "language": "python",
     "metadata": {},
     "outputs": [
      {
       "output_type": "stream",
       "stream": "stdout",
       "text": [
        "['lAngG', 'r.dlPFCx', 'rTPJ', 'lAMY', 'ACCx', 'rAMY', 'l.dPPCx', 'rPCCx', 'lParaHC', 'rCaud', 'l.dlPFCx', 'lIT', 'rParaHC', 'lCaud', 'rAI', 'lPCCx', 'r.dPPCx', 'rIT', 'lTPJ', 'rAngG', 'lAI']\n"
       ]
      }
     ],
     "prompt_number": 13
    },
    {
     "cell_type": "code",
     "collapsed": false,
     "input": [
      "g_EPI2_labeled.edges(data=True)"
     ],
     "language": "python",
     "metadata": {},
     "outputs": [
      {
       "metadata": {},
       "output_type": "pyout",
       "prompt_number": 14,
       "text": [
        "[('lAngG', 'lAngG', {'weight': 1.0}),\n",
        " ('lAngG', 'rAMY', {'weight': 0.15945010225446193}),\n",
        " ('lAngG', 'lIT', {'weight': 0.32819851256413024}),\n",
        " ('lAngG', 'lTPJ', {'weight': -0.005080228738550442}),\n",
        " ('lAngG', 'l.dPPCx', {'weight': 0.39316563490035283}),\n",
        " ('lAngG', 'lParaHC', {'weight': 0.08873105786732371}),\n",
        " ('lAngG', 'rPCCx', {'weight': 0.3204470106424189}),\n",
        " ('lAngG', 'rAngG', {'weight': 0.6838989646326841}),\n",
        " ('lAngG', 'lAI', {'weight': -0.11055528266776342}),\n",
        " ('lAngG', 'rCaud', {'weight': -0.024197974632652112}),\n",
        " ('lAngG', 'lCaud', {'weight': 0.06714000379092228}),\n",
        " ('lAngG', 'l.dlPFCx', {'weight': 0.34816462287004374}),\n",
        " ('lAngG', 'lPCCx', {'weight': 0.3151427293429201}),\n",
        " ('lAngG', 'lAMY', {'weight': 0.04061704945634502}),\n",
        " ('lAngG', 'r.dPPCx', {'weight': 0.28459307585358096}),\n",
        " ('lAngG', 'ACCx', {'weight': 0.2641227652698556}),\n",
        " ('lAngG', 'rParaHC', {'weight': 0.1356239938451773}),\n",
        " ('lAngG', 'rAI', {'weight': -0.056880153126668886}),\n",
        " ('lAngG', 'r.dlPFCx', {'weight': 0.31513712653118275}),\n",
        " ('lAngG', 'rIT', {'weight': 0.3947607246095307}),\n",
        " ('lAngG', 'rTPJ', {'weight': 0.010110190009401169}),\n",
        " ('rAMY', 'rAMY', {'weight': 1.0}),\n",
        " ('rAMY', 'lIT', {'weight': 0.029724213103221132}),\n",
        " ('rAMY', 'lTPJ', {'weight': 0.2541598561371759}),\n",
        " ('rAMY', 'l.dPPCx', {'weight': 0.24917470745728376}),\n",
        " ('rAMY', 'lParaHC', {'weight': 0.371703977817363}),\n",
        " ('rAMY', 'rPCCx', {'weight': 0.2865295243261377}),\n",
        " ('rAMY', 'rAngG', {'weight': 0.16593362486966484}),\n",
        " ('rAMY', 'lAI', {'weight': 0.1640006937918646}),\n",
        " ('rAMY', 'rCaud', {'weight': -0.1902710990488648}),\n",
        " ('rAMY', 'lCaud', {'weight': -0.20536730294372615}),\n",
        " ('rAMY', 'l.dlPFCx', {'weight': 0.05513814288411618}),\n",
        " ('rAMY', 'lPCCx', {'weight': 0.2738085353621312}),\n",
        " ('rAMY', 'lAMY', {'weight': 0.382652296357146}),\n",
        " ('rAMY', 'r.dPPCx', {'weight': 0.29676842175308865}),\n",
        " ('rAMY', 'ACCx', {'weight': 0.22578665311861648}),\n",
        " ('rAMY', 'rParaHC', {'weight': 0.3973297238496551}),\n",
        " ('rAMY', 'rAI', {'weight': 0.14005501937601203}),\n",
        " ('rAMY', 'r.dlPFCx', {'weight': 0.16624029534063886}),\n",
        " ('rAMY', 'rIT', {'weight': 0.10418672439338025}),\n",
        " ('rAMY', 'rTPJ', {'weight': 0.2726569597979499}),\n",
        " ('lIT', 'lIT', {'weight': 1.0}),\n",
        " ('lIT', 'lTPJ', {'weight': -0.03808151312251116}),\n",
        " ('lIT', 'l.dPPCx', {'weight': 0.30567165392703505}),\n",
        " ('lIT', 'lParaHC', {'weight': 0.15377841019298613}),\n",
        " ('lIT', 'rPCCx', {'weight': 0.15161687217794054}),\n",
        " ('lIT', 'rAngG', {'weight': 0.3930225562208503}),\n",
        " ('lIT', 'lAI', {'weight': -0.13841461303224228}),\n",
        " ('lIT', 'rCaud', {'weight': -0.23531360204284094}),\n",
        " ('lIT', 'lCaud', {'weight': -0.07506284465227911}),\n",
        " ('lIT', 'l.dlPFCx', {'weight': 0.18577652923487425}),\n",
        " ('lIT', 'lPCCx', {'weight': 0.2722288764968762}),\n",
        " ('lIT', 'lAMY', {'weight': -0.23007940722969325}),\n",
        " ('lIT', 'r.dPPCx', {'weight': 0.32278597724777836}),\n",
        " ('lIT', 'ACCx', {'weight': 0.31671085435647717}),\n",
        " ('lIT', 'rParaHC', {'weight': 0.13921761590320328}),\n",
        " ('lIT', 'rAI', {'weight': -0.08078220530809074}),\n",
        " ('lIT', 'r.dlPFCx', {'weight': 0.29950519609396004}),\n",
        " ('lIT', 'rIT', {'weight': 0.24398894554732553}),\n",
        " ('lIT', 'rTPJ', {'weight': 0.06266328848006608}),\n",
        " ('lTPJ', 'lTPJ', {'weight': 1.0}),\n",
        " ('lTPJ', 'l.dPPCx', {'weight': 0.36381717130623265}),\n",
        " ('lTPJ', 'lParaHC', {'weight': 0.28603634474072714}),\n",
        " ('lTPJ', 'rPCCx', {'weight': 0.2839235635755027}),\n",
        " ('lTPJ', 'rAngG', {'weight': 0.011673711687547413}),\n",
        " ('lTPJ', 'lAI', {'weight': 0.3497241416058075}),\n",
        " ('lTPJ', 'rCaud', {'weight': -0.08646056265243221}),\n",
        " ('lTPJ', 'lCaud', {'weight': -0.0747586431696517}),\n",
        " ('lTPJ', 'l.dlPFCx', {'weight': 0.231205538348198}),\n",
        " ('lTPJ', 'lPCCx', {'weight': 0.259816826868266}),\n",
        " ('lTPJ', 'lAMY', {'weight': 0.18307429263747638}),\n",
        " ('lTPJ', 'r.dPPCx', {'weight': 0.34534887357448957}),\n",
        " ('lTPJ', 'ACCx', {'weight': 0.18722275156241971}),\n",
        " ('lTPJ', 'rParaHC', {'weight': 0.24518631695948784}),\n",
        " ('lTPJ', 'rAI', {'weight': 0.27559758358515557}),\n",
        " ('lTPJ', 'r.dlPFCx', {'weight': 0.2443105709504336}),\n",
        " ('lTPJ', 'rIT', {'weight': -0.03781340860834979}),\n",
        " ('lTPJ', 'rTPJ', {'weight': 0.7222817526937491}),\n",
        " ('l.dPPCx', 'l.dPPCx', {'weight': 1.0}),\n",
        " ('l.dPPCx', 'lParaHC', {'weight': 0.25331777511278847}),\n",
        " ('l.dPPCx', 'rPCCx', {'weight': 0.46275938464833877}),\n",
        " ('l.dPPCx', 'rAngG', {'weight': 0.35781039289299066}),\n",
        " ('l.dPPCx', 'lAI', {'weight': 0.006533687392265292}),\n",
        " ('l.dPPCx', 'rCaud', {'weight': -0.16754333239925281}),\n",
        " ('l.dPPCx', 'lCaud', {'weight': -0.04456296611327941}),\n",
        " ('l.dPPCx', 'l.dlPFCx', {'weight': 0.47565428153323264}),\n",
        " ('l.dPPCx', 'lPCCx', {'weight': 0.3985502018465004}),\n",
        " ('l.dPPCx', 'lAMY', {'weight': 0.06436604599035503}),\n",
        " ('l.dPPCx', 'r.dPPCx', {'weight': 0.7748123579162044}),\n",
        " ('l.dPPCx', 'ACCx', {'weight': 0.5006549167171125}),\n",
        " ('l.dPPCx', 'rParaHC', {'weight': 0.3813339574861039}),\n",
        " ('l.dPPCx', 'rAI', {'weight': -0.028997628365783217}),\n",
        " ('l.dPPCx', 'r.dlPFCx', {'weight': 0.57208079081808}),\n",
        " ('l.dPPCx', 'rIT', {'weight': 0.262497804649877}),\n",
        " ('l.dPPCx', 'rTPJ', {'weight': 0.3939121074973704}),\n",
        " ('lParaHC', 'lParaHC', {'weight': 1.0}),\n",
        " ('lParaHC', 'rPCCx', {'weight': 0.2663384796590728}),\n",
        " ('lParaHC', 'rAngG', {'weight': 0.16049499394824218}),\n",
        " ('lParaHC', 'lAI', {'weight': 0.23433113213345458}),\n",
        " ('lParaHC', 'rCaud', {'weight': -0.21805155697116793}),\n",
        " ('lParaHC', 'lCaud', {'weight': -0.1172634673246295}),\n",
        " ('lParaHC', 'l.dlPFCx', {'weight': 0.141320755161592}),\n",
        " ('lParaHC', 'lPCCx', {'weight': 0.32548118819297334}),\n",
        " ('lParaHC', 'lAMY', {'weight': 0.08260589354196314}),\n",
        " ('lParaHC', 'r.dPPCx', {'weight': 0.24931761470317948}),\n",
        " ('lParaHC', 'ACCx', {'weight': 0.06614983461430254}),\n",
        " ('lParaHC', 'rParaHC', {'weight': 0.4359774318882481}),\n",
        " ('lParaHC', 'rAI', {'weight': 0.23484930916518965}),\n",
        " ('lParaHC', 'r.dlPFCx', {'weight': 0.18193014134062158}),\n",
        " ('lParaHC', 'rIT', {'weight': 0.20114813822708477}),\n",
        " ('lParaHC', 'rTPJ', {'weight': 0.27240266361777693}),\n",
        " ('rPCCx', 'rPCCx', {'weight': 1.0}),\n",
        " ('rPCCx', 'rAngG', {'weight': 0.4049292434017595}),\n",
        " ('rPCCx', 'lAI', {'weight': 0.03127769988328759}),\n",
        " ('rPCCx', 'rCaud', {'weight': -0.1699531905589742}),\n",
        " ('rPCCx', 'lCaud', {'weight': -0.11139199316359463}),\n",
        " ('rPCCx', 'l.dlPFCx', {'weight': 0.28260950122061473}),\n",
        " ('rPCCx', 'lPCCx', {'weight': 0.5966865562282273}),\n",
        " ('rPCCx', 'lAMY', {'weight': 0.16474173999910496}),\n",
        " ('rPCCx', 'r.dPPCx', {'weight': 0.374473293309128}),\n",
        " ('rPCCx', 'ACCx', {'weight': 0.3290487764371273}),\n",
        " ('rPCCx', 'rParaHC', {'weight': 0.3090963612935771}),\n",
        " ('rPCCx', 'rAI', {'weight': 0.14327572674508615}),\n",
        " ('rPCCx', 'r.dlPFCx', {'weight': 0.35456674002564487}),\n",
        " ('rPCCx', 'rIT', {'weight': 0.13417422411405117}),\n",
        " ('rPCCx', 'rTPJ', {'weight': 0.31866897281170287}),\n",
        " ('rAngG', 'rAngG', {'weight': 1.0}),\n",
        " ('rAngG', 'lAI', {'weight': -0.02603343196329571}),\n",
        " ('rAngG', 'rCaud', {'weight': -0.17558007828164723}),\n",
        " ('rAngG', 'lCaud', {'weight': 0.01863467638552822}),\n",
        " ('rAngG', 'l.dlPFCx', {'weight': 0.3007626530162607}),\n",
        " ('rAngG', 'lPCCx', {'weight': 0.41453713669119674}),\n",
        " ('rAngG', 'lAMY', {'weight': -0.051912186359631504}),\n",
        " ('rAngG', 'r.dPPCx', {'weight': 0.345368308456272}),\n",
        " ('rAngG', 'ACCx', {'weight': 0.2794005399956916}),\n",
        " ('rAngG', 'rParaHC', {'weight': 0.16998972689614433}),\n",
        " ('rAngG', 'rAI', {'weight': 0.03978226774231896}),\n",
        " ('rAngG', 'r.dlPFCx', {'weight': 0.3173730636677708}),\n",
        " ('rAngG', 'rIT', {'weight': 0.37813106033265953}),\n",
        " ('rAngG', 'rTPJ', {'weight': 0.14606647307457943}),\n",
        " ('lAI', 'lAI', {'weight': 1.0}),\n",
        " ('lAI', 'rCaud', {'weight': -0.039002216272594065}),\n",
        " ('lAI', 'lCaud', {'weight': -0.12269169310889357}),\n",
        " ('lAI', 'l.dlPFCx', {'weight': -0.06556632733944485}),\n",
        " ('lAI', 'lPCCx', {'weight': -0.005441641920515833}),\n",
        " ('lAI', 'lAMY', {'weight': 0.17953910728918338}),\n",
        " ('lAI', 'r.dPPCx', {'weight': 0.03216265907984348}),\n",
        " ('lAI', 'ACCx', {'weight': -0.23454182027096065}),\n",
        " ('lAI', 'rParaHC', {'weight': 0.10351590739764739}),\n",
        " ('lAI', 'rAI', {'weight': 0.5716627880300321}),\n",
        " ('lAI', 'r.dlPFCx', {'weight': -0.14556000492156443}),\n",
        " ('lAI', 'rIT', {'weight': -0.0858838345202206}),\n",
        " ('lAI', 'rTPJ', {'weight': 0.31430885242077666}),\n",
        " ('rCaud', 'rCaud', {'weight': 1.0}),\n",
        " ('rCaud', 'lCaud', {'weight': 0.35537634295207815}),\n",
        " ('rCaud', 'l.dlPFCx', {'weight': -0.06631675426823536}),\n",
        " ('rCaud', 'lPCCx', {'weight': -0.26248613027612316}),\n",
        " ('rCaud', 'lAMY', {'weight': -0.0042084774425713975}),\n",
        " ('rCaud', 'r.dPPCx', {'weight': -0.23655352006287064}),\n",
        " ('rCaud', 'ACCx', {'weight': -0.06217626272268684}),\n",
        " ('rCaud', 'rParaHC', {'weight': -0.2656534189645589}),\n",
        " ('rCaud', 'rAI', {'weight': -0.05152619749159551}),\n",
        " ('rCaud', 'r.dlPFCx', {'weight': -0.08434047576106475}),\n",
        " ('rCaud', 'rIT', {'weight': -0.06376535061957128}),\n",
        " ('rCaud', 'rTPJ', {'weight': -0.22430882316785222}),\n",
        " ('lCaud', 'lCaud', {'weight': 1.0}),\n",
        " ('lCaud', 'l.dlPFCx', {'weight': -0.005422214839676429}),\n",
        " ('lCaud', 'lPCCx', {'weight': -0.16284537225751686}),\n",
        " ('lCaud', 'lAMY', {'weight': -0.07396701272352693}),\n",
        " ('lCaud', 'r.dPPCx', {'weight': -0.1771242529274578}),\n",
        " ('lCaud', 'ACCx', {'weight': 0.05352359006070851}),\n",
        " ('lCaud', 'rParaHC', {'weight': -0.1954388896208349}),\n",
        " ('lCaud', 'rAI', {'weight': -0.11589799454724302}),\n",
        " ('lCaud', 'r.dlPFCx', {'weight': 0.09549432152195318}),\n",
        " ('lCaud', 'rIT', {'weight': -0.036168938476888506}),\n",
        " ('lCaud', 'rTPJ', {'weight': -0.255620574089766}),\n",
        " ('l.dlPFCx', 'l.dlPFCx', {'weight': 1.0}),\n",
        " ('l.dlPFCx', 'lPCCx', {'weight': 0.29290376072464974}),\n",
        " ('l.dlPFCx', 'lAMY', {'weight': -0.10677988706251446}),\n",
        " ('l.dlPFCx', 'r.dPPCx', {'weight': 0.3750047365680743}),\n",
        " ('l.dlPFCx', 'ACCx', {'weight': 0.2118041099624781}),\n",
        " ('l.dlPFCx', 'rParaHC', {'weight': 0.12821021397818644}),\n",
        " ('l.dlPFCx', 'rAI', {'weight': -0.20093761569654614}),\n",
        " ('l.dlPFCx', 'r.dlPFCx', {'weight': 0.4397620922207018}),\n",
        " ('l.dlPFCx', 'rIT', {'weight': 0.20523309039754808}),\n",
        " ('l.dlPFCx', 'rTPJ', {'weight': 0.11724161424973985}),\n",
        " ('lPCCx', 'lPCCx', {'weight': 1.0}),\n",
        " ('lPCCx', 'lAMY', {'weight': -0.02805900243065768}),\n",
        " ('lPCCx', 'r.dPPCx', {'weight': 0.35129316445707254}),\n",
        " ('lPCCx', 'ACCx', {'weight': 0.39830610305751274}),\n",
        " ('lPCCx', 'rParaHC', {'weight': 0.3510318108845641}),\n",
        " ('lPCCx', 'rAI', {'weight': 0.08038808314406647}),\n",
        " ('lPCCx', 'r.dlPFCx', {'weight': 0.3061651428492879}),\n",
        " ('lPCCx', 'rIT', {'weight': 0.16205686113022225}),\n",
        " ('lPCCx', 'rTPJ', {'weight': 0.33290264415084947}),\n",
        " ('lAMY', 'lAMY', {'weight': 1.0}),\n",
        " ('lAMY', 'r.dPPCx', {'weight': 0.08968235945741262}),\n",
        " ('lAMY', 'ACCx', {'weight': 0.06769443584715681}),\n",
        " ('lAMY', 'rParaHC', {'weight': 0.09254214761168789}),\n",
        " ('lAMY', 'rAI', {'weight': 0.20013094619077804}),\n",
        " ('lAMY', 'r.dlPFCx', {'weight': -0.05493818957064048}),\n",
        " ('lAMY', 'rIT', {'weight': 0.08051160489168918}),\n",
        " ('lAMY', 'rTPJ', {'weight': 0.12933236590238587}),\n",
        " ('r.dPPCx', 'r.dPPCx', {'weight': 1.0}),\n",
        " ('r.dPPCx', 'ACCx', {'weight': 0.42121865074505377}),\n",
        " ('r.dPPCx', 'rParaHC', {'weight': 0.41869933170785156}),\n",
        " ('r.dPPCx', 'rAI', {'weight': -0.0035136441744958407}),\n",
        " ('r.dPPCx', 'r.dlPFCx', {'weight': 0.4865701528165157}),\n",
        " ('r.dPPCx', 'rIT', {'weight': 0.23899502657655752}),\n",
        " ('r.dPPCx', 'rTPJ', {'weight': 0.4453617544632686}),\n",
        " ('ACCx', 'ACCx', {'weight': 1.0}),\n",
        " ('ACCx', 'rParaHC', {'weight': 0.22720141752213757}),\n",
        " ('ACCx', 'rAI', {'weight': -0.18378339111571168}),\n",
        " ('ACCx', 'r.dlPFCx', {'weight': 0.5173908853810868}),\n",
        " ('ACCx', 'rIT', {'weight': 0.2148384939346859}),\n",
        " ('ACCx', 'rTPJ', {'weight': 0.2321183983124601}),\n",
        " ('rParaHC', 'rParaHC', {'weight': 1.0}),\n",
        " ('rParaHC', 'rAI', {'weight': 0.19565551785301863}),\n",
        " ('rParaHC', 'r.dlPFCx', {'weight': 0.2547417816148743}),\n",
        " ('rParaHC', 'rIT', {'weight': 0.1255807660585743}),\n",
        " ('rParaHC', 'rTPJ', {'weight': 0.3675332083802705}),\n",
        " ('rAI', 'rAI', {'weight': 1.0}),\n",
        " ('rAI', 'r.dlPFCx', {'weight': -0.20863665634916273}),\n",
        " ('rAI', 'rIT', {'weight': -0.03152301826450416}),\n",
        " ('rAI', 'rTPJ', {'weight': 0.33469699294532074}),\n",
        " ('r.dlPFCx', 'r.dlPFCx', {'weight': 1.0}),\n",
        " ('r.dlPFCx', 'rIT', {'weight': 0.21284407548699635}),\n",
        " ('r.dlPFCx', 'rTPJ', {'weight': 0.15501634767059516}),\n",
        " ('rIT', 'rIT', {'weight': 1.0}),\n",
        " ('rIT', 'rTPJ', {'weight': 0.08392174263001081}),\n",
        " ('rTPJ', 'rTPJ', {'weight': 1.0})]"
       ]
      }
     ],
     "prompt_number": 14
    },
    {
     "cell_type": "code",
     "collapsed": false,
     "input": [
      "nx.draw(g_EPI2_labeled)"
     ],
     "language": "python",
     "metadata": {},
     "outputs": [
      {
       "metadata": {},
       "output_type": "display_data",
       "png": "[encoded data removed]",
       "text": [
        "<matplotlib.figure.Figure at 0x10731d438>"
       ]
      }
     ],
     "prompt_number": 15
    },
    {
     "cell_type": "code",
     "collapsed": false,
     "input": [
      "JSON_EPI2_labeled = json_graph.node_link_data(g_EPI2_labeled)\n",
      "JSON_EPI2_labeled\n",
      "s = json.dumps(JSON_EPI2_labeled)\n",
      "s # ...not sure what json.dumps is supposed to do. JSON validator says this output is NOT json code.\n",
      "JSON_EPI2_labeled"
     ],
     "language": "python",
     "metadata": {},
     "outputs": [
      {
       "metadata": {},
       "output_type": "pyout",
       "prompt_number": 16,
       "text": [
        "{'directed': False,\n",
        " 'links': [{'weight': 1.0, 'target': 0, 'source': 0},\n",
        "  {'weight': 0.15945010225446193, 'target': 5, 'source': 0},\n",
        "  {'weight': 0.32819851256413024, 'target': 11, 'source': 0},\n",
        "  {'weight': -0.005080228738550442, 'target': 18, 'source': 0},\n",
        "  {'weight': 0.39316563490035283, 'target': 6, 'source': 0},\n",
        "  {'weight': 0.08873105786732371, 'target': 8, 'source': 0},\n",
        "  {'weight': 0.3204470106424189, 'target': 7, 'source': 0},\n",
        "  {'weight': 0.6838989646326841, 'target': 19, 'source': 0},\n",
        "  {'weight': -0.11055528266776342, 'target': 20, 'source': 0},\n",
        "  {'weight': -0.024197974632652112, 'target': 9, 'source': 0},\n",
        "  {'weight': 0.06714000379092228, 'target': 13, 'source': 0},\n",
        "  {'weight': 0.34816462287004374, 'target': 10, 'source': 0},\n",
        "  {'weight': 0.3151427293429201, 'target': 15, 'source': 0},\n",
        "  {'weight': 0.04061704945634502, 'target': 3, 'source': 0},\n",
        "  {'weight': 0.28459307585358096, 'target': 16, 'source': 0},\n",
        "  {'weight': 0.2641227652698556, 'target': 4, 'source': 0},\n",
        "  {'weight': 0.1356239938451773, 'target': 12, 'source': 0},\n",
        "  {'weight': -0.056880153126668886, 'target': 14, 'source': 0},\n",
        "  {'weight': 0.31513712653118275, 'target': 1, 'source': 0},\n",
        "  {'weight': 0.3947607246095307, 'target': 17, 'source': 0},\n",
        "  {'weight': 0.010110190009401169, 'target': 2, 'source': 0},\n",
        "  {'weight': 1.0, 'target': 5, 'source': 5},\n",
        "  {'weight': 0.029724213103221132, 'target': 11, 'source': 5},\n",
        "  {'weight': 0.2541598561371759, 'target': 18, 'source': 5},\n",
        "  {'weight': 0.24917470745728376, 'target': 6, 'source': 5},\n",
        "  {'weight': 0.371703977817363, 'target': 8, 'source': 5},\n",
        "  {'weight': 0.2865295243261377, 'target': 7, 'source': 5},\n",
        "  {'weight': 0.16593362486966484, 'target': 19, 'source': 5},\n",
        "  {'weight': 0.1640006937918646, 'target': 20, 'source': 5},\n",
        "  {'weight': -0.1902710990488648, 'target': 9, 'source': 5},\n",
        "  {'weight': -0.20536730294372615, 'target': 13, 'source': 5},\n",
        "  {'weight': 0.05513814288411618, 'target': 10, 'source': 5},\n",
        "  {'weight': 0.2738085353621312, 'target': 15, 'source': 5},\n",
        "  {'weight': 0.382652296357146, 'target': 3, 'source': 5},\n",
        "  {'weight': 0.29676842175308865, 'target': 16, 'source': 5},\n",
        "  {'weight': 0.22578665311861648, 'target': 4, 'source': 5},\n",
        "  {'weight': 0.3973297238496551, 'target': 12, 'source': 5},\n",
        "  {'weight': 0.14005501937601203, 'target': 14, 'source': 5},\n",
        "  {'weight': 0.16624029534063886, 'target': 1, 'source': 5},\n",
        "  {'weight': 0.10418672439338025, 'target': 17, 'source': 5},\n",
        "  {'weight': 0.2726569597979499, 'target': 2, 'source': 5},\n",
        "  {'weight': 1.0, 'target': 11, 'source': 11},\n",
        "  {'weight': -0.03808151312251116, 'target': 18, 'source': 11},\n",
        "  {'weight': 0.30567165392703505, 'target': 6, 'source': 11},\n",
        "  {'weight': 0.15377841019298613, 'target': 8, 'source': 11},\n",
        "  {'weight': 0.15161687217794054, 'target': 7, 'source': 11},\n",
        "  {'weight': 0.3930225562208503, 'target': 19, 'source': 11},\n",
        "  {'weight': -0.13841461303224228, 'target': 20, 'source': 11},\n",
        "  {'weight': -0.23531360204284094, 'target': 9, 'source': 11},\n",
        "  {'weight': -0.07506284465227911, 'target': 13, 'source': 11},\n",
        "  {'weight': 0.18577652923487425, 'target': 10, 'source': 11},\n",
        "  {'weight': 0.2722288764968762, 'target': 15, 'source': 11},\n",
        "  {'weight': -0.23007940722969325, 'target': 3, 'source': 11},\n",
        "  {'weight': 0.32278597724777836, 'target': 16, 'source': 11},\n",
        "  {'weight': 0.31671085435647717, 'target': 4, 'source': 11},\n",
        "  {'weight': 0.13921761590320328, 'target': 12, 'source': 11},\n",
        "  {'weight': -0.08078220530809074, 'target': 14, 'source': 11},\n",
        "  {'weight': 0.29950519609396004, 'target': 1, 'source': 11},\n",
        "  {'weight': 0.24398894554732553, 'target': 17, 'source': 11},\n",
        "  {'weight': 0.06266328848006608, 'target': 2, 'source': 11},\n",
        "  {'weight': 1.0, 'target': 18, 'source': 18},\n",
        "  {'weight': 0.36381717130623265, 'target': 6, 'source': 18},\n",
        "  {'weight': 0.28603634474072714, 'target': 8, 'source': 18},\n",
        "  {'weight': 0.2839235635755027, 'target': 7, 'source': 18},\n",
        "  {'weight': 0.011673711687547413, 'target': 19, 'source': 18},\n",
        "  {'weight': 0.3497241416058075, 'target': 20, 'source': 18},\n",
        "  {'weight': -0.08646056265243221, 'target': 9, 'source': 18},\n",
        "  {'weight': -0.0747586431696517, 'target': 13, 'source': 18},\n",
        "  {'weight': 0.231205538348198, 'target': 10, 'source': 18},\n",
        "  {'weight': 0.259816826868266, 'target': 15, 'source': 18},\n",
        "  {'weight': 0.18307429263747638, 'target': 3, 'source': 18},\n",
        "  {'weight': 0.34534887357448957, 'target': 16, 'source': 18},\n",
        "  {'weight': 0.18722275156241971, 'target': 4, 'source': 18},\n",
        "  {'weight': 0.24518631695948784, 'target': 12, 'source': 18},\n",
        "  {'weight': 0.27559758358515557, 'target': 14, 'source': 18},\n",
        "  {'weight': 0.2443105709504336, 'target': 1, 'source': 18},\n",
        "  {'weight': -0.03781340860834979, 'target': 17, 'source': 18},\n",
        "  {'weight': 0.7222817526937491, 'target': 2, 'source': 18},\n",
        "  {'weight': 1.0, 'target': 6, 'source': 6},\n",
        "  {'weight': 0.25331777511278847, 'target': 8, 'source': 6},\n",
        "  {'weight': 0.46275938464833877, 'target': 7, 'source': 6},\n",
        "  {'weight': 0.35781039289299066, 'target': 19, 'source': 6},\n",
        "  {'weight': 0.006533687392265292, 'target': 20, 'source': 6},\n",
        "  {'weight': -0.16754333239925281, 'target': 9, 'source': 6},\n",
        "  {'weight': -0.04456296611327941, 'target': 13, 'source': 6},\n",
        "  {'weight': 0.47565428153323264, 'target': 10, 'source': 6},\n",
        "  {'weight': 0.3985502018465004, 'target': 15, 'source': 6},\n",
        "  {'weight': 0.06436604599035503, 'target': 3, 'source': 6},\n",
        "  {'weight': 0.7748123579162044, 'target': 16, 'source': 6},\n",
        "  {'weight': 0.5006549167171125, 'target': 4, 'source': 6},\n",
        "  {'weight': 0.3813339574861039, 'target': 12, 'source': 6},\n",
        "  {'weight': -0.028997628365783217, 'target': 14, 'source': 6},\n",
        "  {'weight': 0.57208079081808, 'target': 1, 'source': 6},\n",
        "  {'weight': 0.262497804649877, 'target': 17, 'source': 6},\n",
        "  {'weight': 0.3939121074973704, 'target': 2, 'source': 6},\n",
        "  {'weight': 1.0, 'target': 8, 'source': 8},\n",
        "  {'weight': 0.2663384796590728, 'target': 7, 'source': 8},\n",
        "  {'weight': 0.16049499394824218, 'target': 19, 'source': 8},\n",
        "  {'weight': 0.23433113213345458, 'target': 20, 'source': 8},\n",
        "  {'weight': -0.21805155697116793, 'target': 9, 'source': 8},\n",
        "  {'weight': -0.1172634673246295, 'target': 13, 'source': 8},\n",
        "  {'weight': 0.141320755161592, 'target': 10, 'source': 8},\n",
        "  {'weight': 0.32548118819297334, 'target': 15, 'source': 8},\n",
        "  {'weight': 0.08260589354196314, 'target': 3, 'source': 8},\n",
        "  {'weight': 0.24931761470317948, 'target': 16, 'source': 8},\n",
        "  {'weight': 0.06614983461430254, 'target': 4, 'source': 8},\n",
        "  {'weight': 0.4359774318882481, 'target': 12, 'source': 8},\n",
        "  {'weight': 0.23484930916518965, 'target': 14, 'source': 8},\n",
        "  {'weight': 0.18193014134062158, 'target': 1, 'source': 8},\n",
        "  {'weight': 0.20114813822708477, 'target': 17, 'source': 8},\n",
        "  {'weight': 0.27240266361777693, 'target': 2, 'source': 8},\n",
        "  {'weight': 1.0, 'target': 7, 'source': 7},\n",
        "  {'weight': 0.4049292434017595, 'target': 19, 'source': 7},\n",
        "  {'weight': 0.03127769988328759, 'target': 20, 'source': 7},\n",
        "  {'weight': -0.1699531905589742, 'target': 9, 'source': 7},\n",
        "  {'weight': -0.11139199316359463, 'target': 13, 'source': 7},\n",
        "  {'weight': 0.28260950122061473, 'target': 10, 'source': 7},\n",
        "  {'weight': 0.5966865562282273, 'target': 15, 'source': 7},\n",
        "  {'weight': 0.16474173999910496, 'target': 3, 'source': 7},\n",
        "  {'weight': 0.374473293309128, 'target': 16, 'source': 7},\n",
        "  {'weight': 0.3290487764371273, 'target': 4, 'source': 7},\n",
        "  {'weight': 0.3090963612935771, 'target': 12, 'source': 7},\n",
        "  {'weight': 0.14327572674508615, 'target': 14, 'source': 7},\n",
        "  {'weight': 0.35456674002564487, 'target': 1, 'source': 7},\n",
        "  {'weight': 0.13417422411405117, 'target': 17, 'source': 7},\n",
        "  {'weight': 0.31866897281170287, 'target': 2, 'source': 7},\n",
        "  {'weight': 1.0, 'target': 19, 'source': 19},\n",
        "  {'weight': -0.02603343196329571, 'target': 20, 'source': 19},\n",
        "  {'weight': -0.17558007828164723, 'target': 9, 'source': 19},\n",
        "  {'weight': 0.01863467638552822, 'target': 13, 'source': 19},\n",
        "  {'weight': 0.3007626530162607, 'target': 10, 'source': 19},\n",
        "  {'weight': 0.41453713669119674, 'target': 15, 'source': 19},\n",
        "  {'weight': -0.051912186359631504, 'target': 3, 'source': 19},\n",
        "  {'weight': 0.345368308456272, 'target': 16, 'source': 19},\n",
        "  {'weight': 0.2794005399956916, 'target': 4, 'source': 19},\n",
        "  {'weight': 0.16998972689614433, 'target': 12, 'source': 19},\n",
        "  {'weight': 0.03978226774231896, 'target': 14, 'source': 19},\n",
        "  {'weight': 0.3173730636677708, 'target': 1, 'source': 19},\n",
        "  {'weight': 0.37813106033265953, 'target': 17, 'source': 19},\n",
        "  {'weight': 0.14606647307457943, 'target': 2, 'source': 19},\n",
        "  {'weight': 1.0, 'target': 20, 'source': 20},\n",
        "  {'weight': -0.039002216272594065, 'target': 9, 'source': 20},\n",
        "  {'weight': -0.12269169310889357, 'target': 13, 'source': 20},\n",
        "  {'weight': -0.06556632733944485, 'target': 10, 'source': 20},\n",
        "  {'weight': -0.005441641920515833, 'target': 15, 'source': 20},\n",
        "  {'weight': 0.17953910728918338, 'target': 3, 'source': 20},\n",
        "  {'weight': 0.03216265907984348, 'target': 16, 'source': 20},\n",
        "  {'weight': -0.23454182027096065, 'target': 4, 'source': 20},\n",
        "  {'weight': 0.10351590739764739, 'target': 12, 'source': 20},\n",
        "  {'weight': 0.5716627880300321, 'target': 14, 'source': 20},\n",
        "  {'weight': -0.14556000492156443, 'target': 1, 'source': 20},\n",
        "  {'weight': -0.0858838345202206, 'target': 17, 'source': 20},\n",
        "  {'weight': 0.31430885242077666, 'target': 2, 'source': 20},\n",
        "  {'weight': 1.0, 'target': 9, 'source': 9},\n",
        "  {'weight': 0.35537634295207815, 'target': 13, 'source': 9},\n",
        "  {'weight': -0.06631675426823536, 'target': 10, 'source': 9},\n",
        "  {'weight': -0.26248613027612316, 'target': 15, 'source': 9},\n",
        "  {'weight': -0.0042084774425713975, 'target': 3, 'source': 9},\n",
        "  {'weight': -0.23655352006287064, 'target': 16, 'source': 9},\n",
        "  {'weight': -0.06217626272268684, 'target': 4, 'source': 9},\n",
        "  {'weight': -0.2656534189645589, 'target': 12, 'source': 9},\n",
        "  {'weight': -0.05152619749159551, 'target': 14, 'source': 9},\n",
        "  {'weight': -0.08434047576106475, 'target': 1, 'source': 9},\n",
        "  {'weight': -0.06376535061957128, 'target': 17, 'source': 9},\n",
        "  {'weight': -0.22430882316785222, 'target': 2, 'source': 9},\n",
        "  {'weight': 1.0, 'target': 13, 'source': 13},\n",
        "  {'weight': -0.005422214839676429, 'target': 10, 'source': 13},\n",
        "  {'weight': -0.16284537225751686, 'target': 15, 'source': 13},\n",
        "  {'weight': -0.07396701272352693, 'target': 3, 'source': 13},\n",
        "  {'weight': -0.1771242529274578, 'target': 16, 'source': 13},\n",
        "  {'weight': 0.05352359006070851, 'target': 4, 'source': 13},\n",
        "  {'weight': -0.1954388896208349, 'target': 12, 'source': 13},\n",
        "  {'weight': -0.11589799454724302, 'target': 14, 'source': 13},\n",
        "  {'weight': 0.09549432152195318, 'target': 1, 'source': 13},\n",
        "  {'weight': -0.036168938476888506, 'target': 17, 'source': 13},\n",
        "  {'weight': -0.255620574089766, 'target': 2, 'source': 13},\n",
        "  {'weight': 1.0, 'target': 10, 'source': 10},\n",
        "  {'weight': 0.29290376072464974, 'target': 15, 'source': 10},\n",
        "  {'weight': -0.10677988706251446, 'target': 3, 'source': 10},\n",
        "  {'weight': 0.3750047365680743, 'target': 16, 'source': 10},\n",
        "  {'weight': 0.2118041099624781, 'target': 4, 'source': 10},\n",
        "  {'weight': 0.12821021397818644, 'target': 12, 'source': 10},\n",
        "  {'weight': -0.20093761569654614, 'target': 14, 'source': 10},\n",
        "  {'weight': 0.4397620922207018, 'target': 1, 'source': 10},\n",
        "  {'weight': 0.20523309039754808, 'target': 17, 'source': 10},\n",
        "  {'weight': 0.11724161424973985, 'target': 2, 'source': 10},\n",
        "  {'weight': 1.0, 'target': 15, 'source': 15},\n",
        "  {'weight': -0.02805900243065768, 'target': 3, 'source': 15},\n",
        "  {'weight': 0.35129316445707254, 'target': 16, 'source': 15},\n",
        "  {'weight': 0.39830610305751274, 'target': 4, 'source': 15},\n",
        "  {'weight': 0.3510318108845641, 'target': 12, 'source': 15},\n",
        "  {'weight': 0.08038808314406647, 'target': 14, 'source': 15},\n",
        "  {'weight': 0.3061651428492879, 'target': 1, 'source': 15},\n",
        "  {'weight': 0.16205686113022225, 'target': 17, 'source': 15},\n",
        "  {'weight': 0.33290264415084947, 'target': 2, 'source': 15},\n",
        "  {'weight': 1.0, 'target': 3, 'source': 3},\n",
        "  {'weight': 0.08968235945741262, 'target': 16, 'source': 3},\n",
        "  {'weight': 0.06769443584715681, 'target': 4, 'source': 3},\n",
        "  {'weight': 0.09254214761168789, 'target': 12, 'source': 3},\n",
        "  {'weight': 0.20013094619077804, 'target': 14, 'source': 3},\n",
        "  {'weight': -0.05493818957064048, 'target': 1, 'source': 3},\n",
        "  {'weight': 0.08051160489168918, 'target': 17, 'source': 3},\n",
        "  {'weight': 0.12933236590238587, 'target': 2, 'source': 3},\n",
        "  {'weight': 1.0, 'target': 16, 'source': 16},\n",
        "  {'weight': 0.42121865074505377, 'target': 4, 'source': 16},\n",
        "  {'weight': 0.41869933170785156, 'target': 12, 'source': 16},\n",
        "  {'weight': -0.0035136441744958407, 'target': 14, 'source': 16},\n",
        "  {'weight': 0.4865701528165157, 'target': 1, 'source': 16},\n",
        "  {'weight': 0.23899502657655752, 'target': 17, 'source': 16},\n",
        "  {'weight': 0.4453617544632686, 'target': 2, 'source': 16},\n",
        "  {'weight': 1.0, 'target': 4, 'source': 4},\n",
        "  {'weight': 0.22720141752213757, 'target': 12, 'source': 4},\n",
        "  {'weight': -0.18378339111571168, 'target': 14, 'source': 4},\n",
        "  {'weight': 0.5173908853810868, 'target': 1, 'source': 4},\n",
        "  {'weight': 0.2148384939346859, 'target': 17, 'source': 4},\n",
        "  {'weight': 0.2321183983124601, 'target': 2, 'source': 4},\n",
        "  {'weight': 1.0, 'target': 12, 'source': 12},\n",
        "  {'weight': 0.19565551785301863, 'target': 14, 'source': 12},\n",
        "  {'weight': 0.2547417816148743, 'target': 1, 'source': 12},\n",
        "  {'weight': 0.1255807660585743, 'target': 17, 'source': 12},\n",
        "  {'weight': 0.3675332083802705, 'target': 2, 'source': 12},\n",
        "  {'weight': 1.0, 'target': 14, 'source': 14},\n",
        "  {'weight': -0.20863665634916273, 'target': 1, 'source': 14},\n",
        "  {'weight': -0.03152301826450416, 'target': 17, 'source': 14},\n",
        "  {'weight': 0.33469699294532074, 'target': 2, 'source': 14},\n",
        "  {'weight': 1.0, 'target': 1, 'source': 1},\n",
        "  {'weight': 0.21284407548699635, 'target': 17, 'source': 1},\n",
        "  {'weight': 0.15501634767059516, 'target': 2, 'source': 1},\n",
        "  {'weight': 1.0, 'target': 17, 'source': 17},\n",
        "  {'weight': 0.08392174263001081, 'target': 2, 'source': 17},\n",
        "  {'weight': 1.0, 'target': 2, 'source': 2}],\n",
        " 'graph': [('name', '()')],\n",
        " 'nodes': [{'id': 'lAngG'},\n",
        "  {'id': 'r.dlPFCx'},\n",
        "  {'id': 'rTPJ'},\n",
        "  {'id': 'lAMY'},\n",
        "  {'id': 'ACCx'},\n",
        "  {'id': 'rAMY'},\n",
        "  {'id': 'l.dPPCx'},\n",
        "  {'id': 'rPCCx'},\n",
        "  {'id': 'lParaHC'},\n",
        "  {'id': 'rCaud'},\n",
        "  {'id': 'l.dlPFCx'},\n",
        "  {'id': 'lIT'},\n",
        "  {'id': 'rParaHC'},\n",
        "  {'id': 'lCaud'},\n",
        "  {'id': 'rAI'},\n",
        "  {'id': 'lPCCx'},\n",
        "  {'id': 'r.dPPCx'},\n",
        "  {'id': 'rIT'},\n",
        "  {'id': 'lTPJ'},\n",
        "  {'id': 'rAngG'},\n",
        "  {'id': 'lAI'}],\n",
        " 'multigraph': False}"
       ]
      }
     ],
     "prompt_number": 16
    },
    {
     "cell_type": "code",
     "collapsed": false,
     "input": [
      "g_EPI2_labeled.add_node('rAngG',{\"NW\": \"DMN\"})\n",
      "g_EPI2_labeled.add_node('lAngG',{\"NW\": \"DMN\"})\n",
      "g_EPI2_labeled.add_node('lPCCx',{\"NW\": \"DMN\"})\n",
      "g_EPI2_labeled.add_node('rPCCx',{\"NW\": \"DMN\"})\n",
      "g_EPI2_labeled.add_node('rParaHC',{\"NW\": \"DMN\"})\n",
      "g_EPI2_labeled.add_node('lParaHC',{\"NW\": \"DMN\"})\n",
      "g_EPI2_labeled.add_node('ACCx',{\"NW\": \"ECN\"})\n",
      "g_EPI2_labeled.add_node('l.dPPCx',{\"NW\": \"ECN\"})\n",
      "g_EPI2_labeled.add_node('r.dPPCx',{\"NW\": \"ECN\"})\n",
      "g_EPI2_labeled.add_node('r.dlPFCx',{\"NW\": \"ECN\"})\n",
      "g_EPI2_labeled.add_node('l.dlPFCx',{\"NW\": \"ECN\"})\n",
      "g_EPI2_labeled.add_node('lAI',{\"NW\": \"SN\"})\n",
      "g_EPI2_labeled.add_node('rAI',{\"NW\": \"SN\"})\n",
      "g_EPI2_labeled.add_node('lAMY',{\"NW\": \"SN\"})\n",
      "g_EPI2_labeled.add_node('rAMY',{\"NW\": \"SN\"})\n",
      "g_EPI2_labeled.add_node('lIT',{\"NW\": \"SN\"})\n",
      "g_EPI2_labeled.add_node('rIT',{\"NW\": \"SN\"})\n",
      "g_EPI2_labeled.add_node('rTPJ',{\"NW\": \"SN\"})\n",
      "g_EPI2_labeled.add_node('lTPJ',{\"NW\": \"SN\"})\n",
      "g_EPI2_labeled.add_node('lCaud',{\"NW\": \"BG\"})\n",
      "g_EPI2_labeled.add_node('rCaud',{\"NW\": \"BG\"})\n",
      "g_EPI2_labeled.nodes(data=True)"
     ],
     "language": "python",
     "metadata": {},
     "outputs": [
      {
       "metadata": {},
       "output_type": "pyout",
       "prompt_number": 17,
       "text": [
        "[('lAngG', {'NW': 'DMN'}),\n",
        " ('r.dlPFCx', {'NW': 'ECN'}),\n",
        " ('rTPJ', {'NW': 'SN'}),\n",
        " ('lAMY', {'NW': 'SN'}),\n",
        " ('ACCx', {'NW': 'ECN'}),\n",
        " ('rAMY', {'NW': 'SN'}),\n",
        " ('l.dPPCx', {'NW': 'ECN'}),\n",
        " ('rPCCx', {'NW': 'DMN'}),\n",
        " ('lParaHC', {'NW': 'DMN'}),\n",
        " ('rCaud', {'NW': 'BG'}),\n",
        " ('l.dlPFCx', {'NW': 'ECN'}),\n",
        " ('lIT', {'NW': 'SN'}),\n",
        " ('rParaHC', {'NW': 'DMN'}),\n",
        " ('lCaud', {'NW': 'BG'}),\n",
        " ('rAI', {'NW': 'SN'}),\n",
        " ('lPCCx', {'NW': 'DMN'}),\n",
        " ('r.dPPCx', {'NW': 'ECN'}),\n",
        " ('rIT', {'NW': 'SN'}),\n",
        " ('lTPJ', {'NW': 'SN'}),\n",
        " ('rAngG', {'NW': 'DMN'}),\n",
        " ('lAI', {'NW': 'SN'})]"
       ]
      }
     ],
     "prompt_number": 17
    },
    {
     "cell_type": "code",
     "collapsed": false,
     "input": [
      "JSON_EPI2_labeled = json_graph.node_link_data(g_EPI2_labeled)\n",
      "JSON_EPI2_labeled"
     ],
     "language": "python",
     "metadata": {},
     "outputs": [
      {
       "metadata": {},
       "output_type": "pyout",
       "prompt_number": 18,
       "text": [
        "{'directed': False,\n",
        " 'links': [{'weight': 1.0, 'target': 0, 'source': 0},\n",
        "  {'weight': 0.15945010225446193, 'target': 5, 'source': 0},\n",
        "  {'weight': 0.32819851256413024, 'target': 11, 'source': 0},\n",
        "  {'weight': -0.005080228738550442, 'target': 18, 'source': 0},\n",
        "  {'weight': 0.39316563490035283, 'target': 6, 'source': 0},\n",
        "  {'weight': 0.08873105786732371, 'target': 8, 'source': 0},\n",
        "  {'weight': 0.3204470106424189, 'target': 7, 'source': 0},\n",
        "  {'weight': 0.6838989646326841, 'target': 19, 'source': 0},\n",
        "  {'weight': -0.11055528266776342, 'target': 20, 'source': 0},\n",
        "  {'weight': -0.024197974632652112, 'target': 9, 'source': 0},\n",
        "  {'weight': 0.06714000379092228, 'target': 13, 'source': 0},\n",
        "  {'weight': 0.34816462287004374, 'target': 10, 'source': 0},\n",
        "  {'weight': 0.3151427293429201, 'target': 15, 'source': 0},\n",
        "  {'weight': 0.04061704945634502, 'target': 3, 'source': 0},\n",
        "  {'weight': 0.28459307585358096, 'target': 16, 'source': 0},\n",
        "  {'weight': 0.2641227652698556, 'target': 4, 'source': 0},\n",
        "  {'weight': 0.1356239938451773, 'target': 12, 'source': 0},\n",
        "  {'weight': -0.056880153126668886, 'target': 14, 'source': 0},\n",
        "  {'weight': 0.31513712653118275, 'target': 1, 'source': 0},\n",
        "  {'weight': 0.3947607246095307, 'target': 17, 'source': 0},\n",
        "  {'weight': 0.010110190009401169, 'target': 2, 'source': 0},\n",
        "  {'weight': 1.0, 'target': 5, 'source': 5},\n",
        "  {'weight': 0.029724213103221132, 'target': 11, 'source': 5},\n",
        "  {'weight': 0.2541598561371759, 'target': 18, 'source': 5},\n",
        "  {'weight': 0.24917470745728376, 'target': 6, 'source': 5},\n",
        "  {'weight': 0.371703977817363, 'target': 8, 'source': 5},\n",
        "  {'weight': 0.2865295243261377, 'target': 7, 'source': 5},\n",
        "  {'weight': 0.16593362486966484, 'target': 19, 'source': 5},\n",
        "  {'weight': 0.1640006937918646, 'target': 20, 'source': 5},\n",
        "  {'weight': -0.1902710990488648, 'target': 9, 'source': 5},\n",
        "  {'weight': -0.20536730294372615, 'target': 13, 'source': 5},\n",
        "  {'weight': 0.05513814288411618, 'target': 10, 'source': 5},\n",
        "  {'weight': 0.2738085353621312, 'target': 15, 'source': 5},\n",
        "  {'weight': 0.382652296357146, 'target': 3, 'source': 5},\n",
        "  {'weight': 0.29676842175308865, 'target': 16, 'source': 5},\n",
        "  {'weight': 0.22578665311861648, 'target': 4, 'source': 5},\n",
        "  {'weight': 0.3973297238496551, 'target': 12, 'source': 5},\n",
        "  {'weight': 0.14005501937601203, 'target': 14, 'source': 5},\n",
        "  {'weight': 0.16624029534063886, 'target': 1, 'source': 5},\n",
        "  {'weight': 0.10418672439338025, 'target': 17, 'source': 5},\n",
        "  {'weight': 0.2726569597979499, 'target': 2, 'source': 5},\n",
        "  {'weight': 1.0, 'target': 11, 'source': 11},\n",
        "  {'weight': -0.03808151312251116, 'target': 18, 'source': 11},\n",
        "  {'weight': 0.30567165392703505, 'target': 6, 'source': 11},\n",
        "  {'weight': 0.15377841019298613, 'target': 8, 'source': 11},\n",
        "  {'weight': 0.15161687217794054, 'target': 7, 'source': 11},\n",
        "  {'weight': 0.3930225562208503, 'target': 19, 'source': 11},\n",
        "  {'weight': -0.13841461303224228, 'target': 20, 'source': 11},\n",
        "  {'weight': -0.23531360204284094, 'target': 9, 'source': 11},\n",
        "  {'weight': -0.07506284465227911, 'target': 13, 'source': 11},\n",
        "  {'weight': 0.18577652923487425, 'target': 10, 'source': 11},\n",
        "  {'weight': 0.2722288764968762, 'target': 15, 'source': 11},\n",
        "  {'weight': -0.23007940722969325, 'target': 3, 'source': 11},\n",
        "  {'weight': 0.32278597724777836, 'target': 16, 'source': 11},\n",
        "  {'weight': 0.31671085435647717, 'target': 4, 'source': 11},\n",
        "  {'weight': 0.13921761590320328, 'target': 12, 'source': 11},\n",
        "  {'weight': -0.08078220530809074, 'target': 14, 'source': 11},\n",
        "  {'weight': 0.29950519609396004, 'target': 1, 'source': 11},\n",
        "  {'weight': 0.24398894554732553, 'target': 17, 'source': 11},\n",
        "  {'weight': 0.06266328848006608, 'target': 2, 'source': 11},\n",
        "  {'weight': 1.0, 'target': 18, 'source': 18},\n",
        "  {'weight': 0.36381717130623265, 'target': 6, 'source': 18},\n",
        "  {'weight': 0.28603634474072714, 'target': 8, 'source': 18},\n",
        "  {'weight': 0.2839235635755027, 'target': 7, 'source': 18},\n",
        "  {'weight': 0.011673711687547413, 'target': 19, 'source': 18},\n",
        "  {'weight': 0.3497241416058075, 'target': 20, 'source': 18},\n",
        "  {'weight': -0.08646056265243221, 'target': 9, 'source': 18},\n",
        "  {'weight': -0.0747586431696517, 'target': 13, 'source': 18},\n",
        "  {'weight': 0.231205538348198, 'target': 10, 'source': 18},\n",
        "  {'weight': 0.259816826868266, 'target': 15, 'source': 18},\n",
        "  {'weight': 0.18307429263747638, 'target': 3, 'source': 18},\n",
        "  {'weight': 0.34534887357448957, 'target': 16, 'source': 18},\n",
        "  {'weight': 0.18722275156241971, 'target': 4, 'source': 18},\n",
        "  {'weight': 0.24518631695948784, 'target': 12, 'source': 18},\n",
        "  {'weight': 0.27559758358515557, 'target': 14, 'source': 18},\n",
        "  {'weight': 0.2443105709504336, 'target': 1, 'source': 18},\n",
        "  {'weight': -0.03781340860834979, 'target': 17, 'source': 18},\n",
        "  {'weight': 0.7222817526937491, 'target': 2, 'source': 18},\n",
        "  {'weight': 1.0, 'target': 6, 'source': 6},\n",
        "  {'weight': 0.25331777511278847, 'target': 8, 'source': 6},\n",
        "  {'weight': 0.46275938464833877, 'target': 7, 'source': 6},\n",
        "  {'weight': 0.35781039289299066, 'target': 19, 'source': 6},\n",
        "  {'weight': 0.006533687392265292, 'target': 20, 'source': 6},\n",
        "  {'weight': -0.16754333239925281, 'target': 9, 'source': 6},\n",
        "  {'weight': -0.04456296611327941, 'target': 13, 'source': 6},\n",
        "  {'weight': 0.47565428153323264, 'target': 10, 'source': 6},\n",
        "  {'weight': 0.3985502018465004, 'target': 15, 'source': 6},\n",
        "  {'weight': 0.06436604599035503, 'target': 3, 'source': 6},\n",
        "  {'weight': 0.7748123579162044, 'target': 16, 'source': 6},\n",
        "  {'weight': 0.5006549167171125, 'target': 4, 'source': 6},\n",
        "  {'weight': 0.3813339574861039, 'target': 12, 'source': 6},\n",
        "  {'weight': -0.028997628365783217, 'target': 14, 'source': 6},\n",
        "  {'weight': 0.57208079081808, 'target': 1, 'source': 6},\n",
        "  {'weight': 0.262497804649877, 'target': 17, 'source': 6},\n",
        "  {'weight': 0.3939121074973704, 'target': 2, 'source': 6},\n",
        "  {'weight': 1.0, 'target': 8, 'source': 8},\n",
        "  {'weight': 0.2663384796590728, 'target': 7, 'source': 8},\n",
        "  {'weight': 0.16049499394824218, 'target': 19, 'source': 8},\n",
        "  {'weight': 0.23433113213345458, 'target': 20, 'source': 8},\n",
        "  {'weight': -0.21805155697116793, 'target': 9, 'source': 8},\n",
        "  {'weight': -0.1172634673246295, 'target': 13, 'source': 8},\n",
        "  {'weight': 0.141320755161592, 'target': 10, 'source': 8},\n",
        "  {'weight': 0.32548118819297334, 'target': 15, 'source': 8},\n",
        "  {'weight': 0.08260589354196314, 'target': 3, 'source': 8},\n",
        "  {'weight': 0.24931761470317948, 'target': 16, 'source': 8},\n",
        "  {'weight': 0.06614983461430254, 'target': 4, 'source': 8},\n",
        "  {'weight': 0.4359774318882481, 'target': 12, 'source': 8},\n",
        "  {'weight': 0.23484930916518965, 'target': 14, 'source': 8},\n",
        "  {'weight': 0.18193014134062158, 'target': 1, 'source': 8},\n",
        "  {'weight': 0.20114813822708477, 'target': 17, 'source': 8},\n",
        "  {'weight': 0.27240266361777693, 'target': 2, 'source': 8},\n",
        "  {'weight': 1.0, 'target': 7, 'source': 7},\n",
        "  {'weight': 0.4049292434017595, 'target': 19, 'source': 7},\n",
        "  {'weight': 0.03127769988328759, 'target': 20, 'source': 7},\n",
        "  {'weight': -0.1699531905589742, 'target': 9, 'source': 7},\n",
        "  {'weight': -0.11139199316359463, 'target': 13, 'source': 7},\n",
        "  {'weight': 0.28260950122061473, 'target': 10, 'source': 7},\n",
        "  {'weight': 0.5966865562282273, 'target': 15, 'source': 7},\n",
        "  {'weight': 0.16474173999910496, 'target': 3, 'source': 7},\n",
        "  {'weight': 0.374473293309128, 'target': 16, 'source': 7},\n",
        "  {'weight': 0.3290487764371273, 'target': 4, 'source': 7},\n",
        "  {'weight': 0.3090963612935771, 'target': 12, 'source': 7},\n",
        "  {'weight': 0.14327572674508615, 'target': 14, 'source': 7},\n",
        "  {'weight': 0.35456674002564487, 'target': 1, 'source': 7},\n",
        "  {'weight': 0.13417422411405117, 'target': 17, 'source': 7},\n",
        "  {'weight': 0.31866897281170287, 'target': 2, 'source': 7},\n",
        "  {'weight': 1.0, 'target': 19, 'source': 19},\n",
        "  {'weight': -0.02603343196329571, 'target': 20, 'source': 19},\n",
        "  {'weight': -0.17558007828164723, 'target': 9, 'source': 19},\n",
        "  {'weight': 0.01863467638552822, 'target': 13, 'source': 19},\n",
        "  {'weight': 0.3007626530162607, 'target': 10, 'source': 19},\n",
        "  {'weight': 0.41453713669119674, 'target': 15, 'source': 19},\n",
        "  {'weight': -0.051912186359631504, 'target': 3, 'source': 19},\n",
        "  {'weight': 0.345368308456272, 'target': 16, 'source': 19},\n",
        "  {'weight': 0.2794005399956916, 'target': 4, 'source': 19},\n",
        "  {'weight': 0.16998972689614433, 'target': 12, 'source': 19},\n",
        "  {'weight': 0.03978226774231896, 'target': 14, 'source': 19},\n",
        "  {'weight': 0.3173730636677708, 'target': 1, 'source': 19},\n",
        "  {'weight': 0.37813106033265953, 'target': 17, 'source': 19},\n",
        "  {'weight': 0.14606647307457943, 'target': 2, 'source': 19},\n",
        "  {'weight': 1.0, 'target': 20, 'source': 20},\n",
        "  {'weight': -0.039002216272594065, 'target': 9, 'source': 20},\n",
        "  {'weight': -0.12269169310889357, 'target': 13, 'source': 20},\n",
        "  {'weight': -0.06556632733944485, 'target': 10, 'source': 20},\n",
        "  {'weight': -0.005441641920515833, 'target': 15, 'source': 20},\n",
        "  {'weight': 0.17953910728918338, 'target': 3, 'source': 20},\n",
        "  {'weight': 0.03216265907984348, 'target': 16, 'source': 20},\n",
        "  {'weight': -0.23454182027096065, 'target': 4, 'source': 20},\n",
        "  {'weight': 0.10351590739764739, 'target': 12, 'source': 20},\n",
        "  {'weight': 0.5716627880300321, 'target': 14, 'source': 20},\n",
        "  {'weight': -0.14556000492156443, 'target': 1, 'source': 20},\n",
        "  {'weight': -0.0858838345202206, 'target': 17, 'source': 20},\n",
        "  {'weight': 0.31430885242077666, 'target': 2, 'source': 20},\n",
        "  {'weight': 1.0, 'target': 9, 'source': 9},\n",
        "  {'weight': 0.35537634295207815, 'target': 13, 'source': 9},\n",
        "  {'weight': -0.06631675426823536, 'target': 10, 'source': 9},\n",
        "  {'weight': -0.26248613027612316, 'target': 15, 'source': 9},\n",
        "  {'weight': -0.0042084774425713975, 'target': 3, 'source': 9},\n",
        "  {'weight': -0.23655352006287064, 'target': 16, 'source': 9},\n",
        "  {'weight': -0.06217626272268684, 'target': 4, 'source': 9},\n",
        "  {'weight': -0.2656534189645589, 'target': 12, 'source': 9},\n",
        "  {'weight': -0.05152619749159551, 'target': 14, 'source': 9},\n",
        "  {'weight': -0.08434047576106475, 'target': 1, 'source': 9},\n",
        "  {'weight': -0.06376535061957128, 'target': 17, 'source': 9},\n",
        "  {'weight': -0.22430882316785222, 'target': 2, 'source': 9},\n",
        "  {'weight': 1.0, 'target': 13, 'source': 13},\n",
        "  {'weight': -0.005422214839676429, 'target': 10, 'source': 13},\n",
        "  {'weight': -0.16284537225751686, 'target': 15, 'source': 13},\n",
        "  {'weight': -0.07396701272352693, 'target': 3, 'source': 13},\n",
        "  {'weight': -0.1771242529274578, 'target': 16, 'source': 13},\n",
        "  {'weight': 0.05352359006070851, 'target': 4, 'source': 13},\n",
        "  {'weight': -0.1954388896208349, 'target': 12, 'source': 13},\n",
        "  {'weight': -0.11589799454724302, 'target': 14, 'source': 13},\n",
        "  {'weight': 0.09549432152195318, 'target': 1, 'source': 13},\n",
        "  {'weight': -0.036168938476888506, 'target': 17, 'source': 13},\n",
        "  {'weight': -0.255620574089766, 'target': 2, 'source': 13},\n",
        "  {'weight': 1.0, 'target': 10, 'source': 10},\n",
        "  {'weight': 0.29290376072464974, 'target': 15, 'source': 10},\n",
        "  {'weight': -0.10677988706251446, 'target': 3, 'source': 10},\n",
        "  {'weight': 0.3750047365680743, 'target': 16, 'source': 10},\n",
        "  {'weight': 0.2118041099624781, 'target': 4, 'source': 10},\n",
        "  {'weight': 0.12821021397818644, 'target': 12, 'source': 10},\n",
        "  {'weight': -0.20093761569654614, 'target': 14, 'source': 10},\n",
        "  {'weight': 0.4397620922207018, 'target': 1, 'source': 10},\n",
        "  {'weight': 0.20523309039754808, 'target': 17, 'source': 10},\n",
        "  {'weight': 0.11724161424973985, 'target': 2, 'source': 10},\n",
        "  {'weight': 1.0, 'target': 15, 'source': 15},\n",
        "  {'weight': -0.02805900243065768, 'target': 3, 'source': 15},\n",
        "  {'weight': 0.35129316445707254, 'target': 16, 'source': 15},\n",
        "  {'weight': 0.39830610305751274, 'target': 4, 'source': 15},\n",
        "  {'weight': 0.3510318108845641, 'target': 12, 'source': 15},\n",
        "  {'weight': 0.08038808314406647, 'target': 14, 'source': 15},\n",
        "  {'weight': 0.3061651428492879, 'target': 1, 'source': 15},\n",
        "  {'weight': 0.16205686113022225, 'target': 17, 'source': 15},\n",
        "  {'weight': 0.33290264415084947, 'target': 2, 'source': 15},\n",
        "  {'weight': 1.0, 'target': 3, 'source': 3},\n",
        "  {'weight': 0.08968235945741262, 'target': 16, 'source': 3},\n",
        "  {'weight': 0.06769443584715681, 'target': 4, 'source': 3},\n",
        "  {'weight': 0.09254214761168789, 'target': 12, 'source': 3},\n",
        "  {'weight': 0.20013094619077804, 'target': 14, 'source': 3},\n",
        "  {'weight': -0.05493818957064048, 'target': 1, 'source': 3},\n",
        "  {'weight': 0.08051160489168918, 'target': 17, 'source': 3},\n",
        "  {'weight': 0.12933236590238587, 'target': 2, 'source': 3},\n",
        "  {'weight': 1.0, 'target': 16, 'source': 16},\n",
        "  {'weight': 0.42121865074505377, 'target': 4, 'source': 16},\n",
        "  {'weight': 0.41869933170785156, 'target': 12, 'source': 16},\n",
        "  {'weight': -0.0035136441744958407, 'target': 14, 'source': 16},\n",
        "  {'weight': 0.4865701528165157, 'target': 1, 'source': 16},\n",
        "  {'weight': 0.23899502657655752, 'target': 17, 'source': 16},\n",
        "  {'weight': 0.4453617544632686, 'target': 2, 'source': 16},\n",
        "  {'weight': 1.0, 'target': 4, 'source': 4},\n",
        "  {'weight': 0.22720141752213757, 'target': 12, 'source': 4},\n",
        "  {'weight': -0.18378339111571168, 'target': 14, 'source': 4},\n",
        "  {'weight': 0.5173908853810868, 'target': 1, 'source': 4},\n",
        "  {'weight': 0.2148384939346859, 'target': 17, 'source': 4},\n",
        "  {'weight': 0.2321183983124601, 'target': 2, 'source': 4},\n",
        "  {'weight': 1.0, 'target': 12, 'source': 12},\n",
        "  {'weight': 0.19565551785301863, 'target': 14, 'source': 12},\n",
        "  {'weight': 0.2547417816148743, 'target': 1, 'source': 12},\n",
        "  {'weight': 0.1255807660585743, 'target': 17, 'source': 12},\n",
        "  {'weight': 0.3675332083802705, 'target': 2, 'source': 12},\n",
        "  {'weight': 1.0, 'target': 14, 'source': 14},\n",
        "  {'weight': -0.20863665634916273, 'target': 1, 'source': 14},\n",
        "  {'weight': -0.03152301826450416, 'target': 17, 'source': 14},\n",
        "  {'weight': 0.33469699294532074, 'target': 2, 'source': 14},\n",
        "  {'weight': 1.0, 'target': 1, 'source': 1},\n",
        "  {'weight': 0.21284407548699635, 'target': 17, 'source': 1},\n",
        "  {'weight': 0.15501634767059516, 'target': 2, 'source': 1},\n",
        "  {'weight': 1.0, 'target': 17, 'source': 17},\n",
        "  {'weight': 0.08392174263001081, 'target': 2, 'source': 17},\n",
        "  {'weight': 1.0, 'target': 2, 'source': 2}],\n",
        " 'graph': [('name', '()')],\n",
        " 'nodes': [{'id': 'lAngG', 'NW': 'DMN'},\n",
        "  {'id': 'r.dlPFCx', 'NW': 'ECN'},\n",
        "  {'id': 'rTPJ', 'NW': 'SN'},\n",
        "  {'id': 'lAMY', 'NW': 'SN'},\n",
        "  {'id': 'ACCx', 'NW': 'ECN'},\n",
        "  {'id': 'rAMY', 'NW': 'SN'},\n",
        "  {'id': 'l.dPPCx', 'NW': 'ECN'},\n",
        "  {'id': 'rPCCx', 'NW': 'DMN'},\n",
        "  {'id': 'lParaHC', 'NW': 'DMN'},\n",
        "  {'id': 'rCaud', 'NW': 'BG'},\n",
        "  {'id': 'l.dlPFCx', 'NW': 'ECN'},\n",
        "  {'id': 'lIT', 'NW': 'SN'},\n",
        "  {'id': 'rParaHC', 'NW': 'DMN'},\n",
        "  {'id': 'lCaud', 'NW': 'BG'},\n",
        "  {'id': 'rAI', 'NW': 'SN'},\n",
        "  {'id': 'lPCCx', 'NW': 'DMN'},\n",
        "  {'id': 'r.dPPCx', 'NW': 'ECN'},\n",
        "  {'id': 'rIT', 'NW': 'SN'},\n",
        "  {'id': 'lTPJ', 'NW': 'SN'},\n",
        "  {'id': 'rAngG', 'NW': 'DMN'},\n",
        "  {'id': 'lAI', 'NW': 'SN'}],\n",
        " 'multigraph': False}"
       ]
      }
     ],
     "prompt_number": 18
    },
    {
     "cell_type": "code",
     "collapsed": false,
     "input": [
      "#G.add_node(1, time='5pm')\n",
      "#G.add_nodes_from([3], time='2pm')\n",
      "#G.node[1]\n",
      "#{'time': '5pm'}\n",
      "#G.node[1]['room'] = 714\n",
      "#G.nodes(data=True)\n",
      "#[(1, {'room': 714, 'time': '5pm'}), (3, {'time': '2pm'})]"
     ],
     "language": "python",
     "metadata": {},
     "outputs": [],
     "prompt_number": 19
    },
    {
     "cell_type": "code",
     "collapsed": false,
     "input": [
      "rois_v2 = { 0:{\"type\": \"DMN\", \"name\": \"rPCCx\"},\n",
      "            1:{\"type\": \"DMN\",\"name\": \"lPCCx\"},\n",
      "            2:{\"type\": \"DMN\",\"name\": \"lAngG\"},\n",
      "            3:{\"type\": \"DMN\",\"name\": \"rAngG\"},\n",
      "            4:{\"type\": \"DMN\",\"name\": \"lParaHC\"},\n",
      "            5:{\"type\": \"DMN\",\"name\": \"rParaHC\"},\n",
      "            6:{\"type\": \"ECN\",\"name\": \"ACCx\"},\n",
      "            7:{\"type\": \"ECN\",\"name\": \"l.dPPCx\"},\n",
      "            8:{\"type\": \"ECN\",\"name\": \"r.dPPCx\",},\n",
      "            9:{\"type\": \"ECN\",\"name\": \"l.dlPFCx\"},\n",
      "            10:{\"type\": \"ECN\",\"name\": \"r.dlPFCx\"},\n",
      "            11:{\"type\": \"SN\",\"name\": \"lAMY\"},\n",
      "            12:{\"type\": \"SN\",\"name\": \"rAMY\"},\n",
      "            13:{\"type\": \"SN\",\"name\": \"lIT\"},\n",
      "            14:{\"type\": \"SN\",\"name\": \"rIT\"},\n",
      "            15:{\"type\": \"SN\",\"name\": \"lAI\"},\n",
      "            16:{\"type\": \"SN\",\"name\": \"rAI\"},\n",
      "            17:{\"type\": \"SN\",\"name\": \"lTPJ\"},\n",
      "            18:{\"type\": \"SN\",\"name\": \"rTPJ\"},\n",
      "            19:{\"type\": \"BG\",\"name\": \"lCaud\"},\n",
      "            20:{\"type\": \"BG\",\"name\": \"rCaud\"}}"
     ],
     "language": "python",
     "metadata": {},
     "outputs": [],
     "prompt_number": 20
    },
    {
     "cell_type": "code",
     "collapsed": false,
     "input": [
      "rois_v2"
     ],
     "language": "python",
     "metadata": {},
     "outputs": [
      {
       "metadata": {},
       "output_type": "pyout",
       "prompt_number": 21,
       "text": [
        "{0: {'name': 'rPCCx', 'type': 'DMN'},\n",
        " 1: {'name': 'lPCCx', 'type': 'DMN'},\n",
        " 2: {'name': 'lAngG', 'type': 'DMN'},\n",
        " 3: {'name': 'rAngG', 'type': 'DMN'},\n",
        " 4: {'name': 'lParaHC', 'type': 'DMN'},\n",
        " 5: {'name': 'rParaHC', 'type': 'DMN'},\n",
        " 6: {'name': 'ACCx', 'type': 'ECN'},\n",
        " 7: {'name': 'l.dPPCx', 'type': 'ECN'},\n",
        " 8: {'name': 'r.dPPCx', 'type': 'ECN'},\n",
        " 9: {'name': 'l.dlPFCx', 'type': 'ECN'},\n",
        " 10: {'name': 'r.dlPFCx', 'type': 'ECN'},\n",
        " 11: {'name': 'lAMY', 'type': 'SN'},\n",
        " 12: {'name': 'rAMY', 'type': 'SN'},\n",
        " 13: {'name': 'lIT', 'type': 'SN'},\n",
        " 14: {'name': 'rIT', 'type': 'SN'},\n",
        " 15: {'name': 'lAI', 'type': 'SN'},\n",
        " 16: {'name': 'rAI', 'type': 'SN'},\n",
        " 17: {'name': 'lTPJ', 'type': 'SN'},\n",
        " 18: {'name': 'rTPJ', 'type': 'SN'},\n",
        " 19: {'name': 'lCaud', 'type': 'BG'},\n",
        " 20: {'name': 'rCaud', 'type': 'BG'}}"
       ]
      }
     ],
     "prompt_number": 21
    },
    {
     "cell_type": "code",
     "collapsed": false,
     "input": [
      "g_EPI2_labeled.nodes()"
     ],
     "language": "python",
     "metadata": {},
     "outputs": [
      {
       "metadata": {},
       "output_type": "pyout",
       "prompt_number": 22,
       "text": [
        "['lAngG',\n",
        " 'r.dlPFCx',\n",
        " 'rTPJ',\n",
        " 'lAMY',\n",
        " 'ACCx',\n",
        " 'rAMY',\n",
        " 'l.dPPCx',\n",
        " 'rPCCx',\n",
        " 'lParaHC',\n",
        " 'rCaud',\n",
        " 'l.dlPFCx',\n",
        " 'lIT',\n",
        " 'rParaHC',\n",
        " 'lCaud',\n",
        " 'rAI',\n",
        " 'lPCCx',\n",
        " 'r.dPPCx',\n",
        " 'rIT',\n",
        " 'lTPJ',\n",
        " 'rAngG',\n",
        " 'lAI']"
       ]
      }
     ],
     "prompt_number": 22
    },
    {
     "cell_type": "code",
     "collapsed": false,
     "input": [
      "# the above wont work due to:\n",
      "# http://stackoverflow.com/questions/13264511/typeerror-unhashable-type-dict"
     ],
     "language": "python",
     "metadata": {},
     "outputs": [],
     "prompt_number": 24
    },
    {
     "cell_type": "code",
     "collapsed": false,
     "input": [
      "# Trying to figure out how to change node labels, so import .txt file and do calcs without headers, THEN add node lables...\n",
      "\n",
      "# from: http://www.python-course.eu/networkx.php\n",
      "\n",
      "#import networkx as nx\n",
      "#import matplotlib.pyplot as plt\n",
      "\n",
      "#G=nx.path_graph(4)\n",
      "#cities = {0:\"Toronto\",1:\"London\",2:\"Berlin\",3:\"New York\"}\n",
      "\n",
      "#H=nx.relabel_nodes(G,cities)\n",
      " \n",
      "#print(\"Nodes of graph: \")\n",
      "#print(H.nodes())\n",
      "#print(\"Edges of graph: \")\n",
      "#print(H.edges())\n",
      "#nx.draw(H)\n",
      "#plt.savefig(\"path_graph_cities.png\")\n",
      "#plt.show()"
     ],
     "language": "python",
     "metadata": {},
     "outputs": [],
     "prompt_number": 25
    },
    {
     "cell_type": "code",
     "collapsed": false,
     "input": [
      "print (nx.connected_components(g_EPI2_labeled))"
     ],
     "language": "python",
     "metadata": {},
     "outputs": [
      {
       "output_type": "stream",
       "stream": "stdout",
       "text": [
        "[['lAngG', 'rAMY', 'lIT', 'lTPJ', 'l.dPPCx', 'lParaHC', 'rAI', 'rTPJ', 'rAngG', 'lAI', 'rCaud', 'rPCCx', 'l.dlPFCx', 'lPCCx', 'lAMY', 'r.dPPCx', 'ACCx', 'rParaHC', 'r.dlPFCx', 'rIT', 'lCaud']]\n"
       ]
      }
     ],
     "prompt_number": 26
    },
    {
     "cell_type": "code",
     "collapsed": false,
     "input": [
      "graphs = list(nx.connected_component_subgraphs(g_EPI2_labeled))"
     ],
     "language": "python",
     "metadata": {},
     "outputs": [],
     "prompt_number": 27
    },
    {
     "cell_type": "code",
     "collapsed": false,
     "input": [
      "graphs"
     ],
     "language": "python",
     "metadata": {},
     "outputs": [
      {
       "metadata": {},
       "output_type": "pyout",
       "prompt_number": 28,
       "text": [
        "[<networkx.classes.graph.Graph at 0x106346550>]"
       ]
      }
     ],
     "prompt_number": 28
    },
    {
     "cell_type": "code",
     "collapsed": false,
     "input": [
      "DMN = w_EPI2.T[0:6, 0:6]\n",
      "total = 0\n",
      "for i in DMN:\n",
      "    total += i\n",
      "average = total/6\n",
      "print(total/6)"
     ],
     "language": "python",
     "metadata": {},
     "outputs": [
      {
       "output_type": "stream",
       "stream": "stdout",
       "text": [
        "[ 0.48291628  0.5004799   0.42397396  0.47230834  0.37950386  0.40028655]\n"
       ]
      }
     ],
     "prompt_number": 72
    },
    {
     "cell_type": "code",
     "collapsed": false,
     "input": [
      "print (DMN)"
     ],
     "language": "python",
     "metadata": {},
     "outputs": [
      {
       "output_type": "stream",
       "stream": "stdout",
       "text": [
        "[[ 1.          0.59668656  0.32044701  0.40492924  0.26633848  0.30909636]\n",
        " [ 0.59668656  1.          0.31514273  0.41453714  0.32548119  0.35103181]\n",
        " [ 0.32044701  0.31514273  1.          0.68389896  0.08873106  0.13562399]\n",
        " [ 0.40492924  0.41453714  0.68389896  1.          0.16049499  0.16998973]\n",
        " [ 0.26633848  0.32548119  0.08873106  0.16049499  1.          0.43597743]\n",
        " [ 0.30909636  0.35103181  0.13562399  0.16998973  0.43597743  1.        ]]\n"
       ]
      }
     ],
     "prompt_number": 73
    },
    {
     "cell_type": "code",
     "collapsed": false,
     "input": [
      "print (total)"
     ],
     "language": "python",
     "metadata": {},
     "outputs": [
      {
       "output_type": "stream",
       "stream": "stdout",
       "text": [
        "[ 2.89749765  3.00287942  2.54384376  2.83385007  2.27702315  2.40171932]\n"
       ]
      }
     ],
     "prompt_number": 74
    },
    {
     "cell_type": "code",
     "collapsed": false,
     "input": [
      "print(average)"
     ],
     "language": "python",
     "metadata": {},
     "outputs": [
      {
       "output_type": "stream",
       "stream": "stdout",
       "text": [
        "[ 0.48291628  0.5004799   0.42397396  0.47230834  0.37950386  0.40028655]\n"
       ]
      }
     ],
     "prompt_number": 75
    },
    {
     "cell_type": "code",
     "collapsed": false,
     "input": [
      "np.sum(average)"
     ],
     "language": "python",
     "metadata": {},
     "outputs": [
      {
       "metadata": {},
       "output_type": "pyout",
       "prompt_number": 76,
       "text": [
        "2.6594688951381764"
       ]
      }
     ],
     "prompt_number": 76
    },
    {
     "cell_type": "code",
     "collapsed": false,
     "input": [
      "b = average/6\n",
      "print (b)"
     ],
     "language": "python",
     "metadata": {},
     "outputs": [
      {
       "output_type": "stream",
       "stream": "stdout",
       "text": [
        "[ 0.08048605  0.08341332  0.07066233  0.07871806  0.06325064  0.06671443]\n"
       ]
      }
     ],
     "prompt_number": 77
    },
    {
     "cell_type": "code",
     "collapsed": false,
     "input": [
      "c = b[0]+b[1]+b[2]+b[3]+b[4]+b[5]\n",
      "print(c)"
     ],
     "language": "python",
     "metadata": {},
     "outputs": [
      {
       "output_type": "stream",
       "stream": "stdout",
       "text": [
        "0.443244815856\n"
       ]
      }
     ],
     "prompt_number": 80
    },
    {
     "cell_type": "code",
     "collapsed": false,
     "input": [
      "DMN_l = np.tril(DMN)"
     ],
     "language": "python",
     "metadata": {},
     "outputs": [],
     "prompt_number": 88
    },
    {
     "cell_type": "code",
     "collapsed": false,
     "input": [
      "DMN_lk = np.tril(DMN,-1)"
     ],
     "language": "python",
     "metadata": {},
     "outputs": [],
     "prompt_number": 89
    },
    {
     "cell_type": "code",
     "collapsed": false,
     "input": [
      "print(DMN_l)"
     ],
     "language": "python",
     "metadata": {},
     "outputs": [
      {
       "output_type": "stream",
       "stream": "stdout",
       "text": [
        "[[ 1.          0.          0.          0.          0.          0.        ]\n",
        " [ 0.59668656  1.          0.          0.          0.          0.        ]\n",
        " [ 0.32044701  0.31514273  1.          0.          0.          0.        ]\n",
        " [ 0.40492924  0.41453714  0.68389896  1.          0.          0.        ]\n",
        " [ 0.26633848  0.32548119  0.08873106  0.16049499  1.          0.        ]\n",
        " [ 0.30909636  0.35103181  0.13562399  0.16998973  0.43597743  1.        ]]\n"
       ]
      }
     ],
     "prompt_number": 90
    },
    {
     "cell_type": "code",
     "collapsed": false,
     "input": [
      "print(DMN_lk)"
     ],
     "language": "python",
     "metadata": {},
     "outputs": [
      {
       "output_type": "stream",
       "stream": "stdout",
       "text": [
        "[[ 0.          0.          0.          0.          0.          0.        ]\n",
        " [ 0.59668656  0.          0.          0.          0.          0.        ]\n",
        " [ 0.32044701  0.31514273  0.          0.          0.          0.        ]\n",
        " [ 0.40492924  0.41453714  0.68389896  0.          0.          0.        ]\n",
        " [ 0.26633848  0.32548119  0.08873106  0.16049499  0.          0.        ]\n",
        " [ 0.30909636  0.35103181  0.13562399  0.16998973  0.43597743  0.        ]]\n"
       ]
      }
     ],
     "prompt_number": 91
    },
    {
     "cell_type": "code",
     "collapsed": false,
     "input": [
      "(DMN_lk[0:6, 0:6])"
     ],
     "language": "python",
     "metadata": {},
     "outputs": [
      {
       "metadata": {},
       "output_type": "pyout",
       "prompt_number": 98,
       "text": [
        "array([ 1.89749765,  1.40619287,  0.90825402,  0.33048472,  0.43597743,  0.        ])"
       ]
      }
     ],
     "prompt_number": 98
    },
    {
     "cell_type": "code",
     "collapsed": false,
     "input": [
      "sum(DMN_l)"
     ],
     "language": "python",
     "metadata": {},
     "outputs": [
      {
       "metadata": {},
       "output_type": "pyout",
       "prompt_number": 97,
       "text": [
        "array([ 2.89749765,  2.40619287,  1.90825402,  1.33048472,  1.43597743,  1.        ])"
       ]
      }
     ],
     "prompt_number": 97
    },
    {
     "cell_type": "code",
     "collapsed": false,
     "input": [
      "total_lk = 0\n",
      "for i in DMN_lk:\n",
      "    total_lk += i\n",
      "    \n",
      "print(total_lk)"
     ],
     "language": "python",
     "metadata": {},
     "outputs": [
      {
       "output_type": "stream",
       "stream": "stdout",
       "text": [
        "[ 1.89749765  1.40619287  0.90825402  0.33048472  0.43597743  0.        ]\n"
       ]
      }
     ],
     "prompt_number": 101
    },
    {
     "cell_type": "code",
     "collapsed": false,
     "input": [
      "poop = np.average(total_lk)/15\n",
      "print (poop)"
     ],
     "language": "python",
     "metadata": {},
     "outputs": [
      {
       "output_type": "stream",
       "stream": "stdout",
       "text": [
        "0.0553156298379\n"
       ]
      }
     ],
     "prompt_number": 111
    },
    {
     "cell_type": "code",
     "collapsed": false,
     "input": [
      "total_l = 0\n",
      "for i in DMN_l:\n",
      "    total_l += i\n",
      "\n",
      "poop2 = np.average(total_l)/10\n",
      "print(poop2)"
     ],
     "language": "python",
     "metadata": {},
     "outputs": [
      {
       "output_type": "stream",
       "stream": "stdout",
       "text": [
        "0.182973444757\n"
       ]
      }
     ],
     "prompt_number": 112
    },
    {
     "cell_type": "code",
     "collapsed": false,
     "input": [
      "DMN = w_EPI2.T[0:6, 0:6]\n",
      "DMN_lower = np.tril(DMN,-1)\n",
      "\n",
      "total = 0\n",
      "for i in DMN_lower:\n",
      "    total += i\n",
      "DMN_mean = np.sum(total)/15\n",
      "print(DMN_mean)"
     ],
     "language": "python",
     "metadata": {},
     "outputs": [
      {
       "output_type": "stream",
       "stream": "stdout",
       "text": [
        "0.331893779028\n"
       ]
      }
     ],
     "prompt_number": 115
    },
    {
     "cell_type": "code",
     "collapsed": false,
     "input": [
      "ECN = w_EPI2.T[6:11, 6:11]\n",
      "ECN_lower = np.tril(ECN,-1)\n",
      "\n",
      "total = 0\n",
      "for i in ECN_lower:\n",
      "    total += i\n",
      "ECN_mean = np.sum(total)/10\n",
      "print(ECN_mean)"
     ],
     "language": "python",
     "metadata": {},
     "outputs": [
      {
       "output_type": "stream",
       "stream": "stdout",
       "text": [
        "0.477495297468\n"
       ]
      }
     ],
     "prompt_number": 116
    },
    {
     "cell_type": "code",
     "collapsed": false,
     "input": [
      "print(ECN)"
     ],
     "language": "python",
     "metadata": {},
     "outputs": [
      {
       "output_type": "stream",
       "stream": "stdout",
       "text": [
        "[[ 1.          0.50065492  0.42121865  0.21180411  0.51739089]\n",
        " [ 0.50065492  1.          0.77481236  0.47565428  0.57208079]\n",
        " [ 0.42121865  0.77481236  1.          0.37500474  0.48657015]\n",
        " [ 0.21180411  0.47565428  0.37500474  1.          0.43976209]\n",
        " [ 0.51739089  0.57208079  0.48657015  0.43976209  1.        ]]\n"
       ]
      }
     ],
     "prompt_number": 107
    },
    {
     "cell_type": "code",
     "collapsed": false,
     "input": [
      "print(ECN_lower)"
     ],
     "language": "python",
     "metadata": {},
     "outputs": [
      {
       "output_type": "stream",
       "stream": "stdout",
       "text": [
        "[[ 0.          0.          0.          0.          0.        ]\n",
        " [ 0.50065492  0.          0.          0.          0.        ]\n",
        " [ 0.42121865  0.77481236  0.          0.          0.        ]\n",
        " [ 0.21180411  0.47565428  0.37500474  0.          0.        ]\n",
        " [ 0.51739089  0.57208079  0.48657015  0.43976209  0.        ]]\n"
       ]
      }
     ],
     "prompt_number": 108
    },
    {
     "cell_type": "code",
     "collapsed": false,
     "input": [
      "summ = sum(ECN_lower)"
     ],
     "language": "python",
     "metadata": {},
     "outputs": [],
     "prompt_number": 109
    },
    {
     "cell_type": "code",
     "collapsed": false,
     "input": [
      "print(summ)"
     ],
     "language": "python",
     "metadata": {},
     "outputs": [
      {
       "output_type": "stream",
       "stream": "stdout",
       "text": [
        "[ 1.65106856  1.82254743  0.86157489  0.43976209  0.        ]\n"
       ]
      }
     ],
     "prompt_number": 110
    },
    {
     "cell_type": "code",
     "collapsed": false,
     "input": [
      "SN = w_EPI2.T[11:20, 11:20]\n",
      "SN_lower = np.tril(SN,-1)\n",
      "\n",
      "total = 0\n",
      "for i in SN_lower:\n",
      "    total += i\n",
      "SN_mean = np.sum(total)/10\n",
      "print(SN_mean)"
     ],
     "language": "python",
     "metadata": {},
     "outputs": [
      {
       "output_type": "stream",
       "stream": "stdout",
       "text": [
        "0.347675716401\n"
       ]
      }
     ],
     "prompt_number": 120
    },
    {
     "cell_type": "code",
     "collapsed": false,
     "input": [
      "BG_mean = w_EPI2.T[20,19]\n",
      "print(BG_mean)"
     ],
     "language": "python",
     "metadata": {},
     "outputs": [
      {
       "output_type": "stream",
       "stream": "stdout",
       "text": [
        "0.355376342952\n"
       ]
      }
     ],
     "prompt_number": 168
    },
    {
     "cell_type": "code",
     "collapsed": false,
     "input": [
      "print (BG_lower)"
     ],
     "language": "python",
     "metadata": {},
     "outputs": [
      {
       "output_type": "stream",
       "stream": "stdout",
       "text": [
        "[[-0.16995319 -0.26248613 -0.02419797 -0.17558008 -0.21805156 -0.26565342\n",
        "  -0.06217626 -0.16754333 -0.23655352 -0.06631675 -0.08434048 -0.00420848\n",
        "  -0.1902711  -0.2353136  -0.06376535 -0.03900222 -0.0515262  -0.08646056\n",
        "  -0.22430882  0.35537634  1.        ]]\n"
       ]
      }
     ],
     "prompt_number": 150
    },
    {
     "cell_type": "code",
     "collapsed": false,
     "input": [
      "print(w_EPI2.shape)"
     ],
     "language": "python",
     "metadata": {},
     "outputs": [
      {
       "output_type": "stream",
       "stream": "stdout",
       "text": [
        "(21, 21)\n"
       ]
      }
     ],
     "prompt_number": 123
    },
    {
     "cell_type": "code",
     "collapsed": false,
     "input": [
      "print(DMN.shape)"
     ],
     "language": "python",
     "metadata": {},
     "outputs": [
      {
       "output_type": "stream",
       "stream": "stdout",
       "text": [
        "(6, 6)\n"
       ]
      }
     ],
     "prompt_number": 127
    },
    {
     "cell_type": "code",
     "collapsed": false,
     "input": [
      "print(ECN.shape)"
     ],
     "language": "python",
     "metadata": {},
     "outputs": [
      {
       "output_type": "stream",
       "stream": "stdout",
       "text": [
        "(5, 5)\n"
       ]
      }
     ],
     "prompt_number": 128
    },
    {
     "cell_type": "code",
     "collapsed": false,
     "input": [
      "print(SN.shape)"
     ],
     "language": "python",
     "metadata": {},
     "outputs": [
      {
       "output_type": "stream",
       "stream": "stdout",
       "text": [
        "(9, 9)\n"
       ]
      }
     ],
     "prompt_number": 129
    },
    {
     "cell_type": "code",
     "collapsed": false,
     "input": [
      "print(BG.shape)"
     ],
     "language": "python",
     "metadata": {},
     "outputs": [
      {
       "output_type": "stream",
       "stream": "stdout",
       "text": [
        "(1, 1)\n"
       ]
      }
     ],
     "prompt_number": 130
    },
    {
     "cell_type": "code",
     "collapsed": false,
     "input": [
      "print(w_EPI2[20:21,])"
     ],
     "language": "python",
     "metadata": {},
     "outputs": [
      {
       "output_type": "stream",
       "stream": "stdout",
       "text": [
        "[[-0.16995319 -0.26248613 -0.02419797 -0.17558008 -0.21805156 -0.26565342\n",
        "  -0.06217626 -0.16754333 -0.23655352 -0.06631675 -0.08434048 -0.00420848\n",
        "  -0.1902711  -0.2353136  -0.06376535 -0.03900222 -0.0515262  -0.08646056\n",
        "  -0.22430882  0.35537634  1.        ]]\n"
       ]
      }
     ],
     "prompt_number": 152
    },
    {
     "cell_type": "code",
     "collapsed": false,
     "input": [
      "print(w_EPI2[20,19])"
     ],
     "language": "python",
     "metadata": {},
     "outputs": [
      {
       "output_type": "stream",
       "stream": "stdout",
       "text": [
        "0.355376342952\n"
       ]
      }
     ],
     "prompt_number": 165
    },
    {
     "cell_type": "code",
     "collapsed": false,
     "input": [
      "print(DMN_lower)"
     ],
     "language": "python",
     "metadata": {},
     "outputs": [
      {
       "output_type": "stream",
       "stream": "stdout",
       "text": [
        "[[ 0.          0.          0.          0.          0.          0.        ]\n",
        " [ 0.59668656  0.          0.          0.          0.          0.        ]\n",
        " [ 0.32044701  0.31514273  0.          0.          0.          0.        ]\n",
        " [ 0.40492924  0.41453714  0.68389896  0.          0.          0.        ]\n",
        " [ 0.26633848  0.32548119  0.08873106  0.16049499  0.          0.        ]\n",
        " [ 0.30909636  0.35103181  0.13562399  0.16998973  0.43597743  0.        ]]\n"
       ]
      }
     ],
     "prompt_number": 145
    },
    {
     "cell_type": "code",
     "collapsed": false,
     "input": [
      "print(ECN_lower)"
     ],
     "language": "python",
     "metadata": {},
     "outputs": [
      {
       "output_type": "stream",
       "stream": "stdout",
       "text": [
        "[[ 0.          0.          0.          0.          0.        ]\n",
        " [ 0.50065492  0.          0.          0.          0.        ]\n",
        " [ 0.42121865  0.77481236  0.          0.          0.        ]\n",
        " [ 0.21180411  0.47565428  0.37500474  0.          0.        ]\n",
        " [ 0.51739089  0.57208079  0.48657015  0.43976209  0.        ]]\n"
       ]
      }
     ],
     "prompt_number": 146
    },
    {
     "cell_type": "code",
     "collapsed": false,
     "input": [
      "print(SN_lower)"
     ],
     "language": "python",
     "metadata": {},
     "outputs": [
      {
       "output_type": "stream",
       "stream": "stdout",
       "text": [
        "[[ 0.          0.         -0.          0.          0.          0.          0.\n",
        "   0.         -0.        ]\n",
        " [ 0.3826523   0.          0.          0.          0.          0.          0.\n",
        "   0.         -0.        ]\n",
        " [-0.23007941  0.02972421  0.          0.         -0.         -0.         -0.\n",
        "   0.         -0.        ]\n",
        " [ 0.0805116   0.10418672  0.24398895  0.         -0.         -0.         -0.\n",
        "   0.         -0.        ]\n",
        " [ 0.17953911  0.16400069 -0.13841461 -0.08588383  0.          0.          0.\n",
        "   0.         -0.        ]\n",
        " [ 0.20013095  0.14005502 -0.08078221 -0.03152302  0.57166279  0.          0.\n",
        "   0.         -0.        ]\n",
        " [ 0.18307429  0.25415986 -0.03808151 -0.03781341  0.34972414  0.27559758\n",
        "   0.          0.         -0.        ]\n",
        " [ 0.12933237  0.27265696  0.06266329  0.08392174  0.31430885  0.33469699\n",
        "   0.72228175  0.         -0.        ]\n",
        " [-0.07396701 -0.2053673  -0.07506284 -0.03616894 -0.12269169 -0.11589799\n",
        "  -0.07475864 -0.25562057  0.        ]]\n"
       ]
      }
     ],
     "prompt_number": 147
    },
    {
     "cell_type": "code",
     "collapsed": false,
     "input": [
      "print(BG_lower)"
     ],
     "language": "python",
     "metadata": {},
     "outputs": [
      {
       "output_type": "stream",
       "stream": "stdout",
       "text": [
        "[[-0.16995319 -0.26248613 -0.02419797 -0.17558008 -0.21805156 -0.26565342\n",
        "  -0.06217626 -0.16754333 -0.23655352 -0.06631675 -0.08434048 -0.00420848\n",
        "  -0.1902711  -0.2353136  -0.06376535 -0.03900222 -0.0515262  -0.08646056\n",
        "  -0.22430882  0.35537634  1.        ]]\n"
       ]
      }
     ],
     "prompt_number": 148
    }
   ],
   "metadata": {}
  }
 ]
}