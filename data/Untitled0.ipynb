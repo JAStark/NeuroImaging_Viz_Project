{
 "metadata": {
  "name": "",
  "signature": "sha256:7fa6d6824c2ba772f175854eff849ad9c6f5bd90c162fb2d88680023da74c3e6"
 },
 "nbformat": 3,
 "nbformat_minor": 0,
 "worksheets": [
  {
   "cells": [
    {
     "cell_type": "code",
     "collapsed": false,
     "input": [
      "lloyd = {\n",
      "    \"name\": \"Lloyd\",\n",
      "    \"homework\": [90.0, 97.0, 75.0, 92.0],\n",
      "    \"quizzes\": [88.0, 40.0, 94.0],\n",
      "    \"tests\": [75.0, 90.0]\n",
      "}\n",
      "alice = {\n",
      "    \"name\": \"Alice\",\n",
      "    \"homework\": [100.0, 92.0, 98.0, 100.0],\n",
      "    \"quizzes\": [82.0, 83.0, 91.0],\n",
      "    \"tests\": [89.0, 97.0]\n",
      "}\n",
      "tyler = {\n",
      "    \"name\": \"Tyler\",\n",
      "    \"homework\": [0.0, 87.0, 75.0, 22.0],\n",
      "    \"quizzes\": [0.0, 75.0, 78.0],\n",
      "    \"tests\": [100.0, 100.0]\n",
      "}\n",
      "\n",
      "# Add your function below!\n",
      "def average(numbers):\n",
      "    total = sum(numbers)\n",
      "    total = float(total)\n",
      "    return total/len(numbers)\n",
      "    \n",
      "def get_average(student):\n",
      "    homework = average(student[\"homework\"])\n",
      "    quizzes = average(student[\"quizzes\"])\n",
      "    tests = average(student[\"tests\"])\n",
      "    return 0.1 * homework + 0.3 * quizzes + 0.6 * tests\n",
      "    \n",
      "def get_letter_grade(score):\n",
      "    if score >= 90:\n",
      "            return \"A\"\n",
      "    elif score >=80:\n",
      "            return \"B\"\n",
      "    elif score >= 70:\n",
      "            return \"C\"\n",
      "    elif score >= 60:\n",
      "            return \"D\"\n",
      "    else:\n",
      "        return \"F\"\n",
      "\n",
      "\n",
      "student = [lloyd, alice, tyler]\n",
      "\n",
      "def get_class_average(students):\n",
      "    results = []\n",
      "    for student in students:\n",
      "        results.append(get_average(student))\n",
      "    return average(results)\n",
      "    \n",
      "print (get_class_average(student))\n",
      "print (get_letter_grade(get_class_average(student)))"
     ],
     "language": "python",
     "metadata": {},
     "outputs": [
      {
       "output_type": "stream",
       "stream": "stdout",
       "text": [
        "83.86666666666666\n",
        "B\n"
       ]
      }
     ],
     "prompt_number": 50
    },
    {
     "cell_type": "code",
     "collapsed": false,
     "input": [],
     "language": "python",
     "metadata": {},
     "outputs": []
    }
   ],
   "metadata": {}
  }
 ]
}