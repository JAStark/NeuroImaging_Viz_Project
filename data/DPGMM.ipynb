{
 "metadata": {
  "name": "",
  "signature": "sha256:6376785e5460b561d02a698c6fe023138f968fb0faa6c087b44b394a1ab1ac64"
 },
 "nbformat": 3,
 "nbformat_minor": 0,
 "worksheets": [
  {
   "cells": [
    {
     "cell_type": "code",
     "collapsed": false,
     "input": [
      "import numpy as np\n",
      "import matplotlib.pyplot as plt\n",
      "from sklearn import metrics\n",
      "from sklearn.mixture import DPGMM\n",
      "import sklearn.mixture\n",
      "import scipy as sp\n",
      "%matplotlib inline\n",
      "from statsmodels.tsa.stattools import acf\n",
      "from statsmodels.tsa.stattools import ccf"
     ],
     "language": "python",
     "metadata": {},
     "outputs": [],
     "prompt_number": 1
    },
    {
     "cell_type": "code",
     "collapsed": false,
     "input": [
      "subIDlist = [101,102,103,104,106,108,109,110,111,112]  # all subj numbers i want to load\n",
      "data_EPI1 = []\n",
      "data_EPI2 = []\n",
      "for subID in subIDlist:\n",
      "    data_EPI1.append(np.loadtxt('WZP' +str(subID) +'B_EPI1_rois5.txt'))\n",
      "    data_EPI2.append(np.loadtxt('WZP' +str(subID) +'B_EPI2_rois5.txt'))"
     ],
     "language": "python",
     "metadata": {},
     "outputs": [],
     "prompt_number": 16
    },
    {
     "cell_type": "code",
     "collapsed": false,
     "input": [
      "whl_data_EPI1 = []\n",
      "for val in data_EPI1:\n",
      "    whl_data_EPI1.append(sp.arctanh(np.corrcoef(val.T)))\n",
      "\n",
      "whl_data_EPI2 = []\n",
      "for val in data_EPI2:\n",
      "    whl_data_EPI2.append(sp.stats.mstats.zscore(np.corrcoef(val.T)))\n",
      "    \n",
      "print(len(data_EPI1))\n",
      "print(len(whl_data_EPI1))\n",
      "print(data_EPI1[0].shape)\n",
      "print(whl_data_EPI1[0].shape)"
     ],
     "language": "python",
     "metadata": {},
     "outputs": [
      {
       "output_type": "stream",
       "stream": "stdout",
       "text": [
        "10\n",
        "10\n",
        "(556, 19)\n",
        "(19, 19)\n"
       ]
      }
     ],
     "prompt_number": 17
    },
    {
     "cell_type": "code",
     "collapsed": false,
     "input": [
      "win_data_EPI1 = []\n",
      "for val in data_EPI1:\n",
      "    tmpCorrs = np.zeros((val.shape[1],val.shape[1],val.shape[0]-60))\n",
      "    for j in range(0,val.shape[0]-60):\n",
      "        tmpCorrs[:,:,j] = np.corrcoef(val[j:j+60,:].T)\n",
      "    win_data_EPI1.append(np.copy(tmpCorrs))\n",
      "\n",
      "win_data_EPI2 = []\n",
      "for val in data_EPI2:\n",
      "    tmpCorrs = np.zeros((val.shape[1],val.shape[1],val.shape[0]-30))\n",
      "    for j in range(0,val.shape[0]-30):\n",
      "        tmpCorrs[:,:,j] = np.corrcoef(val[j:j+30,:].T)\n",
      "    win_data_EPI2.append(np.copy(tmpCorrs))\n",
      "    \n",
      "print(win_data_EPI1[0].shape)\n",
      "print(win_data_EPI2[0].shape)"
     ],
     "language": "python",
     "metadata": {},
     "outputs": [
      {
       "output_type": "stream",
       "stream": "stdout",
       "text": [
        "(19, 19, 496)\n",
        "(19, 19, 246)\n"
       ]
      }
     ],
     "prompt_number": 18
    },
    {
     "cell_type": "code",
     "collapsed": false,
     "input": [
      "###give this to kmeans!! When get more people,\n",
      "###contatenate downwards so that 496 is a multiple of subjects, but 361 (FEATURES) remains the same. \n",
      "\n",
      "#19 rois x 19 rois = 361 features\n",
      "#496 = # of windows for EPI1???\n",
      "\n",
      "Kmeans_EPI1 = []\n",
      "for val in win_data_EPI1:\n",
      "    Kmeans_EPI1.append(val.reshape((-1,val.shape[2]),order='F').T)\n",
      "    \n",
      "Kmeans_EPI2 = []\n",
      "for val in win_data_EPI2:\n",
      "    Kmeans_EPI2.append(val.reshape((-1,val.shape[2]),order='F').T)"
     ],
     "language": "python",
     "metadata": {},
     "outputs": [],
     "prompt_number": 19
    },
    {
     "cell_type": "code",
     "collapsed": false,
     "input": [
      "print(Kmeans_EPI1[0].shape)\n",
      "#print(Kmeans_EPI1_arr.shape)\n",
      "print(win_data_EPI1[0].shape)"
     ],
     "language": "python",
     "metadata": {},
     "outputs": [
      {
       "output_type": "stream",
       "stream": "stdout",
       "text": [
        "(496, 361)\n",
        "(19, 19, 496)\n"
       ]
      }
     ],
     "prompt_number": 20
    },
    {
     "cell_type": "code",
     "collapsed": false,
     "input": [
      "Kmeans_EPI1_arr = np.array(Kmeans_EPI1)\n",
      "Kmeans_EPI2_arr = np.array(Kmeans_EPI2)\n",
      "print(len(Kmeans_EPI1_arr))\n",
      "print(Kmeans_EPI1_arr.shape)\n",
      "print(len(Kmeans_EPI2_arr))\n",
      "print(Kmeans_EPI2_arr.shape)"
     ],
     "language": "python",
     "metadata": {},
     "outputs": [
      {
       "output_type": "stream",
       "stream": "stdout",
       "text": [
        "10\n",
        "(10, 496, 361)\n",
        "10\n",
        "(10, 246, 361)\n"
       ]
      }
     ],
     "prompt_number": 21
    },
    {
     "cell_type": "code",
     "collapsed": false,
     "input": [
      "#for val in Kmeans_EPI1_arr:\n",
      "#    for i in range(0,val.shape[0]):    #for range 0-496 time windows in axis 0 of val\n",
      "#         val[i:,] = val[i:,]-(np.mean(val[i:,]))\n",
      "            \n",
      "#for val in Kmeans_EPI2_arr:\n",
      "#    for i in range(0,val.shape[0]):    #for range 0-496 time windows in axis 0 of val\n",
      "#         val[i:,] = val[i:,]-(np.mean(val[i:,]))\n",
      "\n",
      "# Brenton's correction:\n",
      "\n",
      "Kmeans_EPI1_arr = Kmeans_EPI1_arr - np.mean(Kmeans_EPI1_arr,axis=1,keepdims=True)\n",
      "Kmeans_EPI2_arr = Kmeans_EPI2_arr - np.mean(Kmeans_EPI2_arr,axis=1,keepdims=True)"
     ],
     "language": "python",
     "metadata": {},
     "outputs": [],
     "prompt_number": 22
    },
    {
     "cell_type": "code",
     "collapsed": true,
     "input": [
      "print(Kmeans_EPI1_arr.shape)\n",
      "print(Kmeans_EPI2_arr.shape)"
     ],
     "language": "python",
     "metadata": {},
     "outputs": [
      {
       "output_type": "stream",
       "stream": "stdout",
       "text": [
        "(10, 496, 361)\n",
        "(10, 246, 361)\n"
       ]
      }
     ],
     "prompt_number": 23
    },
    {
     "cell_type": "code",
     "collapsed": false,
     "input": [
      "Kmeans_EPI1_arr = np.transpose(Kmeans_EPI1_arr,[2,1,0]).reshape(361,-1,order='F')\n",
      "Kmeans_EPI1_arr = Kmeans_EPI1_arr.T\n",
      "print(Kmeans_EPI1_arr.shape)\n",
      "\n",
      "Kmeans_EPI2_arr = np.transpose(Kmeans_EPI2_arr,[2,1,0]).reshape(361,-1,order='F')\n",
      "Kmeans_EPI2_arr = Kmeans_EPI2_arr.T\n",
      "print(Kmeans_EPI2_arr.shape)"
     ],
     "language": "python",
     "metadata": {},
     "outputs": [
      {
       "output_type": "stream",
       "stream": "stdout",
       "text": [
        "(4960, 361)\n",
        "(2460, 361)\n"
       ]
      }
     ],
     "prompt_number": 24
    },
    {
     "cell_type": "code",
     "collapsed": false,
     "input": [
      "plt.subplot(121)\n",
      "testConcat_EPI1 = np.mean(Kmeans_EPI1_arr,axis=0).reshape(19,19)\n",
      "plt.imshow(testConcat_EPI1,interpolation='nearest',clim=[-1,1])\n",
      "plt.subplot(122)\n",
      "testConcat_EPI2 = np.mean(Kmeans_EPI2_arr,axis=0).reshape(19,19)\n",
      "plt.imshow(testConcat_EPI2,interpolation='nearest',clim=[-.2,0.2])"
     ],
     "language": "python",
     "metadata": {},
     "outputs": [
      {
       "metadata": {},
       "output_type": "pyout",
       "prompt_number": 25,
       "text": [
        "<matplotlib.image.AxesImage at 0x10c944358>"
       ]
      },
      {
       "metadata": {},
       "output_type": "display_data",
       "png": "[encoded data removed]",
       "text": [
        "<matplotlib.figure.Figure at 0x10d61aa58>"
       ]
      }
     ],
     "prompt_number": 25
    },
    {
     "cell_type": "code",
     "collapsed": false,
     "input": [
      "k_range = range(1,10)\n",
      "\n",
      "# Fit kmeans model for each n_cluster = k\n",
      "DPGMM_var1_EPI1 = [DPGMM(n_components=k, n_iter=100, alpha=0.1).fit(Kmeans_EPI1_arr)for k in k_range]"
     ],
     "language": "python",
     "metadata": {},
     "outputs": [],
     "prompt_number": 12
    },
    {
     "cell_type": "code",
     "collapsed": false,
     "input": [
      "bicList1_EPI1 = [model.aic(Kmeans_EPI1_arr) for model in DPGMM_var1_EPI1]"
     ],
     "language": "python",
     "metadata": {},
     "outputs": [],
     "prompt_number": 13
    },
    {
     "cell_type": "heading",
     "level": 4,
     "metadata": {},
     "source": [
      "Result for EPI1 AIC is 3 clusters & alpha = 0.1 is best. Using BIC, 2 clusters came out as optimal."
     ]
    },
    {
     "cell_type": "code",
     "collapsed": false,
     "input": [
      "plt.plot(bicList1_EPI1)"
     ],
     "language": "python",
     "metadata": {},
     "outputs": [
      {
       "metadata": {},
       "output_type": "pyout",
       "prompt_number": 14,
       "text": [
        "[<matplotlib.lines.Line2D at 0x10f21fcc0>]"
       ]
      },
      {
       "metadata": {},
       "output_type": "display_data",
       "png": "[encoded data removed]",
       "text": [
        "<matplotlib.figure.Figure at 0x102bc7ef0>"
       ]
      }
     ],
     "prompt_number": 14
    },
    {
     "cell_type": "code",
     "collapsed": false,
     "input": [
      "k_range = range(1,10)\n",
      "\n",
      "# Fit kmeans model for each n_cluster = k\n",
      "DPGMM_var1_EPI2 = [DPGMM(n_components=k, n_iter=100, alpha=0.1).fit(Kmeans_EPI2_arr)for k in k_range]"
     ],
     "language": "python",
     "metadata": {},
     "outputs": [
      {
       "ename": "KeyboardInterrupt",
       "evalue": "",
       "output_type": "pyerr",
       "traceback": [
        "\u001b[0;31m---------------------------------------------------------------------------\u001b[0m\n\u001b[0;31mKeyboardInterrupt\u001b[0m                         Traceback (most recent call last)",
        "\u001b[0;32m<ipython-input-15-6479e94daba3>\u001b[0m in \u001b[0;36m<module>\u001b[0;34m()\u001b[0m\n\u001b[1;32m      2\u001b[0m \u001b[0;34m\u001b[0m\u001b[0m\n\u001b[1;32m      3\u001b[0m \u001b[0;31m# Fit kmeans model for each n_cluster = k\u001b[0m\u001b[0;34m\u001b[0m\u001b[0;34m\u001b[0m\u001b[0m\n\u001b[0;32m----> 4\u001b[0;31m \u001b[0mDPGMM_var1_EPI2\u001b[0m \u001b[0;34m=\u001b[0m \u001b[0;34m[\u001b[0m\u001b[0mDPGMM\u001b[0m\u001b[0;34m(\u001b[0m\u001b[0mn_components\u001b[0m\u001b[0;34m=\u001b[0m\u001b[0mk\u001b[0m\u001b[0;34m,\u001b[0m \u001b[0mn_iter\u001b[0m\u001b[0;34m=\u001b[0m\u001b[0;36m100\u001b[0m\u001b[0;34m,\u001b[0m \u001b[0malpha\u001b[0m\u001b[0;34m=\u001b[0m\u001b[0;36m0.1\u001b[0m\u001b[0;34m)\u001b[0m\u001b[0;34m.\u001b[0m\u001b[0mfit\u001b[0m\u001b[0;34m(\u001b[0m\u001b[0mKmeans_EPI2_arr\u001b[0m\u001b[0;34m)\u001b[0m\u001b[0;32mfor\u001b[0m \u001b[0mk\u001b[0m \u001b[0;32min\u001b[0m \u001b[0mk_range\u001b[0m\u001b[0;34m]\u001b[0m\u001b[0;34m\u001b[0m\u001b[0m\n\u001b[0m",
        "\u001b[0;32m<ipython-input-15-6479e94daba3>\u001b[0m in \u001b[0;36m<listcomp>\u001b[0;34m(.0)\u001b[0m\n\u001b[1;32m      2\u001b[0m \u001b[0;34m\u001b[0m\u001b[0m\n\u001b[1;32m      3\u001b[0m \u001b[0;31m# Fit kmeans model for each n_cluster = k\u001b[0m\u001b[0;34m\u001b[0m\u001b[0;34m\u001b[0m\u001b[0m\n\u001b[0;32m----> 4\u001b[0;31m \u001b[0mDPGMM_var1_EPI2\u001b[0m \u001b[0;34m=\u001b[0m \u001b[0;34m[\u001b[0m\u001b[0mDPGMM\u001b[0m\u001b[0;34m(\u001b[0m\u001b[0mn_components\u001b[0m\u001b[0;34m=\u001b[0m\u001b[0mk\u001b[0m\u001b[0;34m,\u001b[0m \u001b[0mn_iter\u001b[0m\u001b[0;34m=\u001b[0m\u001b[0;36m100\u001b[0m\u001b[0;34m,\u001b[0m \u001b[0malpha\u001b[0m\u001b[0;34m=\u001b[0m\u001b[0;36m0.1\u001b[0m\u001b[0;34m)\u001b[0m\u001b[0;34m.\u001b[0m\u001b[0mfit\u001b[0m\u001b[0;34m(\u001b[0m\u001b[0mKmeans_EPI2_arr\u001b[0m\u001b[0;34m)\u001b[0m\u001b[0;32mfor\u001b[0m \u001b[0mk\u001b[0m \u001b[0;32min\u001b[0m \u001b[0mk_range\u001b[0m\u001b[0;34m]\u001b[0m\u001b[0;34m\u001b[0m\u001b[0m\n\u001b[0m",
        "\u001b[0;32m/Users/jastark1/anaconda/lib/python3.4/site-packages/sklearn/mixture/dpgmm.py\u001b[0m in \u001b[0;36mfit\u001b[0;34m(self, X)\u001b[0m\n\u001b[1;32m    577\u001b[0m \u001b[0;34m\u001b[0m\u001b[0m\n\u001b[1;32m    578\u001b[0m             \u001b[0;31m# Maximization step\u001b[0m\u001b[0;34m\u001b[0m\u001b[0;34m\u001b[0m\u001b[0m\n\u001b[0;32m--> 579\u001b[0;31m             \u001b[0mself\u001b[0m\u001b[0;34m.\u001b[0m\u001b[0m_do_mstep\u001b[0m\u001b[0;34m(\u001b[0m\u001b[0mX\u001b[0m\u001b[0;34m,\u001b[0m \u001b[0mz\u001b[0m\u001b[0;34m,\u001b[0m \u001b[0mself\u001b[0m\u001b[0;34m.\u001b[0m\u001b[0mparams\u001b[0m\u001b[0;34m)\u001b[0m\u001b[0;34m\u001b[0m\u001b[0m\n\u001b[0m\u001b[1;32m    580\u001b[0m \u001b[0;34m\u001b[0m\u001b[0m\n\u001b[1;32m    581\u001b[0m         \u001b[0mself\u001b[0m\u001b[0;34m.\u001b[0m\u001b[0m_set_weights\u001b[0m\u001b[0;34m(\u001b[0m\u001b[0;34m)\u001b[0m\u001b[0;34m\u001b[0m\u001b[0m\n",
        "\u001b[0;32m/Users/jastark1/anaconda/lib/python3.4/site-packages/sklearn/mixture/dpgmm.py\u001b[0m in \u001b[0;36m_do_mstep\u001b[0;34m(self, X, z, params)\u001b[0m\n\u001b[1;32m    382\u001b[0m         \u001b[0mself\u001b[0m\u001b[0;34m.\u001b[0m\u001b[0m_monitor\u001b[0m\u001b[0;34m(\u001b[0m\u001b[0mX\u001b[0m\u001b[0;34m,\u001b[0m \u001b[0mz\u001b[0m\u001b[0;34m,\u001b[0m \u001b[0;34m\"mu\"\u001b[0m\u001b[0;34m)\u001b[0m\u001b[0;34m\u001b[0m\u001b[0m\n\u001b[1;32m    383\u001b[0m         \u001b[0;32mif\u001b[0m \u001b[0;34m'c'\u001b[0m \u001b[0;32min\u001b[0m \u001b[0mparams\u001b[0m\u001b[0;34m:\u001b[0m\u001b[0;34m\u001b[0m\u001b[0m\n\u001b[0;32m--> 384\u001b[0;31m             \u001b[0mself\u001b[0m\u001b[0;34m.\u001b[0m\u001b[0m_update_precisions\u001b[0m\u001b[0;34m(\u001b[0m\u001b[0mX\u001b[0m\u001b[0;34m,\u001b[0m \u001b[0mz\u001b[0m\u001b[0;34m)\u001b[0m\u001b[0;34m\u001b[0m\u001b[0m\n\u001b[0m\u001b[1;32m    385\u001b[0m         \u001b[0mself\u001b[0m\u001b[0;34m.\u001b[0m\u001b[0m_monitor\u001b[0m\u001b[0;34m(\u001b[0m\u001b[0mX\u001b[0m\u001b[0;34m,\u001b[0m \u001b[0mz\u001b[0m\u001b[0;34m,\u001b[0m \u001b[0;34m\"a and b\"\u001b[0m\u001b[0;34m,\u001b[0m \u001b[0mend\u001b[0m\u001b[0;34m=\u001b[0m\u001b[0;32mTrue\u001b[0m\u001b[0;34m)\u001b[0m\u001b[0;34m\u001b[0m\u001b[0m\n\u001b[1;32m    386\u001b[0m \u001b[0;34m\u001b[0m\u001b[0m\n",
        "\u001b[0;32m/Users/jastark1/anaconda/lib/python3.4/site-packages/sklearn/mixture/dpgmm.py\u001b[0m in \u001b[0;36m_update_precisions\u001b[0;34m(self, X, z)\u001b[0m\n\u001b[1;32m    321\u001b[0m             \u001b[0;32mfor\u001b[0m \u001b[0mk\u001b[0m \u001b[0;32min\u001b[0m \u001b[0mrange\u001b[0m\u001b[0;34m(\u001b[0m\u001b[0mself\u001b[0m\u001b[0;34m.\u001b[0m\u001b[0mn_components\u001b[0m\u001b[0;34m)\u001b[0m\u001b[0;34m:\u001b[0m\u001b[0;34m\u001b[0m\u001b[0m\n\u001b[1;32m    322\u001b[0m                 \u001b[0mself\u001b[0m\u001b[0;34m.\u001b[0m\u001b[0mdof_\u001b[0m\u001b[0;34m[\u001b[0m\u001b[0mk\u001b[0m\u001b[0;34m]\u001b[0m\u001b[0;34m.\u001b[0m\u001b[0mfill\u001b[0m\u001b[0;34m(\u001b[0m\u001b[0;36m1.\u001b[0m \u001b[0;34m+\u001b[0m \u001b[0;36m0.5\u001b[0m \u001b[0;34m*\u001b[0m \u001b[0mnp\u001b[0m\u001b[0;34m.\u001b[0m\u001b[0msum\u001b[0m\u001b[0;34m(\u001b[0m\u001b[0mz\u001b[0m\u001b[0;34m.\u001b[0m\u001b[0mT\u001b[0m\u001b[0;34m[\u001b[0m\u001b[0mk\u001b[0m\u001b[0;34m]\u001b[0m\u001b[0;34m,\u001b[0m \u001b[0maxis\u001b[0m\u001b[0;34m=\u001b[0m\u001b[0;36m0\u001b[0m\u001b[0;34m)\u001b[0m\u001b[0;34m)\u001b[0m\u001b[0;34m\u001b[0m\u001b[0m\n\u001b[0;32m--> 323\u001b[0;31m                 \u001b[0msq_diff\u001b[0m \u001b[0;34m=\u001b[0m \u001b[0;34m(\u001b[0m\u001b[0mX\u001b[0m \u001b[0;34m-\u001b[0m \u001b[0mself\u001b[0m\u001b[0;34m.\u001b[0m\u001b[0mmeans_\u001b[0m\u001b[0;34m[\u001b[0m\u001b[0mk\u001b[0m\u001b[0;34m]\u001b[0m\u001b[0;34m)\u001b[0m \u001b[0;34m**\u001b[0m \u001b[0;36m2\u001b[0m  \u001b[0;31m# see comment above\u001b[0m\u001b[0;34m\u001b[0m\u001b[0m\n\u001b[0m\u001b[1;32m    324\u001b[0m                 self.scale_[k] = np.ones(n_features) + 0.5 * np.dot(\n\u001b[1;32m    325\u001b[0m                     z.T[k], (sq_diff + 1))\n",
        "\u001b[0;31mKeyboardInterrupt\u001b[0m: "
       ]
      }
     ],
     "prompt_number": 15
    },
    {
     "cell_type": "code",
     "collapsed": false,
     "input": [
      "bicList1_EPI2 = [model.aic(Kmeans_EPI2_arr) for model in DPGMM_var1_EPI2]"
     ],
     "language": "python",
     "metadata": {},
     "outputs": []
    },
    {
     "cell_type": "heading",
     "level": 4,
     "metadata": {},
     "source": [
      "Result for EPI2 AIC is 2 clusters & alpha = 0.1 is best. Using BIC also gave 2 clusters as being optimal."
     ]
    },
    {
     "cell_type": "code",
     "collapsed": false,
     "input": [
      "plt.plot(bicList1_EPI2)"
     ],
     "language": "python",
     "metadata": {},
     "outputs": []
    },
    {
     "cell_type": "code",
     "collapsed": false,
     "input": [
      "k_range = range(1,10)\n",
      "\n",
      "# Fit kmeans model for each n_cluster = k\n",
      "DPGMM_var2_EPI1 = [DPGMM(n_components=k, n_iter=100, alpha=0.5).fit(Kmeans_EPI1_arr)for k in k_range]"
     ],
     "language": "python",
     "metadata": {},
     "outputs": []
    },
    {
     "cell_type": "code",
     "collapsed": false,
     "input": [
      "bicList2_EPI1 = [model.aic(Kmeans_EPI1_arr) for model in DPGMM_var2_EPI1]"
     ],
     "language": "python",
     "metadata": {},
     "outputs": []
    },
    {
     "cell_type": "heading",
     "level": 4,
     "metadata": {},
     "source": [
      "Result for EPI1 is 5-6 clusters with alpha = 0.5"
     ]
    },
    {
     "cell_type": "code",
     "collapsed": false,
     "input": [
      "plt.plot(bicList2_EPI1)"
     ],
     "language": "python",
     "metadata": {},
     "outputs": []
    },
    {
     "cell_type": "code",
     "collapsed": false,
     "input": [
      "k_range = range(1,10)\n",
      "\n",
      "# Fit kmeans model for each n_cluster = k\n",
      "DPGMM_var2_EPI2 = [DPGMM(n_components=k, n_iter=100, alpha=0.5).fit(Kmeans_EPI2_arr)for k in k_range]"
     ],
     "language": "python",
     "metadata": {},
     "outputs": []
    },
    {
     "cell_type": "code",
     "collapsed": false,
     "input": [
      "bicList2_EPI2 = [model.aic(Kmeans_EPI2_arr) for model in DPGMM_var2_EPI2]"
     ],
     "language": "python",
     "metadata": {},
     "outputs": []
    },
    {
     "cell_type": "heading",
     "level": 4,
     "metadata": {},
     "source": [
      "Result for EPI2 is 2 clusters best with alpha= 0.5"
     ]
    },
    {
     "cell_type": "code",
     "collapsed": false,
     "input": [
      "plt.plot(bicList2_EPI2)"
     ],
     "language": "python",
     "metadata": {},
     "outputs": []
    },
    {
     "cell_type": "code",
     "collapsed": false,
     "input": [
      "k_range = range(1,10)\n",
      "\n",
      "# Fit kmeans model for each n_cluster = k\n",
      "DPGMM_var3_EPI1 = [DPGMM(n_components=k, n_iter=100, alpha=0.5).fit(Kmeans_EPI1_arr[0::2,:])for k in k_range]"
     ],
     "language": "python",
     "metadata": {},
     "outputs": []
    },
    {
     "cell_type": "code",
     "collapsed": false,
     "input": [
      "bicList3_EPI1 = [model.aic(Kmeans_EPI1_arr[0::2,:]) for model in DPGMM_var3_EPI1]   #### SHouldnt this be Kmeans_EPI1_arr[0::2,:]   ????"
     ],
     "language": "python",
     "metadata": {},
     "outputs": []
    },
    {
     "cell_type": "heading",
     "level": 4,
     "metadata": {},
     "source": [
      "Result for EPI1 using every other window to better mimic EPI2 in terms of data point, gives 4 clusters as best, with alpha=0.5"
     ]
    },
    {
     "cell_type": "code",
     "collapsed": false,
     "input": [
      "plt.plot(bicList3_EPI1)"
     ],
     "language": "python",
     "metadata": {},
     "outputs": []
    },
    {
     "cell_type": "code",
     "collapsed": false,
     "input": [
      "EPI1_centroid0 = DPGMM_var3_EPI1[3].means_[0,:].reshape(19,19,order='F')\n",
      "EPI1_centroid1 = DPGMM_var3_EPI1[3].means_[1,:].reshape(19,19,order='F')\n",
      "EPI1_centroid2 = DPGMM_var3_EPI1[3].means_[2,:].reshape(19,19,order='F')\n",
      "EPI1_centroid3 = DPGMM_var3_EPI1[3].means_[3,:].reshape(19,19,order='F')"
     ],
     "language": "python",
     "metadata": {},
     "outputs": []
    },
    {
     "cell_type": "code",
     "collapsed": false,
     "input": [
      "plt.subplot(141)\n",
      "plt.imshow(EPI1_centroid0, interpolation = 'nearest')\n",
      "plt.clim(-0.5,0.5)\n",
      "plt.subplot(142)\n",
      "plt.imshow(EPI1_centroid1, interpolation = 'nearest')\n",
      "plt.clim(-0.5,0.5)\n",
      "plt.subplot(143)\n",
      "plt.imshow(EPI1_centroid2, interpolation = 'nearest')\n",
      "plt.clim(-0.5,0.5)\n",
      "plt.subplot(144)\n",
      "plt.imshow(EPI1_centroid3, interpolation = 'nearest')\n",
      "plt.clim(-0.5,0.5)"
     ],
     "language": "python",
     "metadata": {},
     "outputs": []
    },
    {
     "cell_type": "code",
     "collapsed": false,
     "input": [
      "np.where(DPGMM_var3_EPI1[3].predict(Kmeans_EPI1_arr[0::2,:])==0)[0]   ###  ==3 means centroid 3"
     ],
     "language": "python",
     "metadata": {},
     "outputs": []
    },
    {
     "cell_type": "code",
     "collapsed": false,
     "input": [
      "np.where(DPGMM_var3_EPI1[3].predict(Kmeans_EPI1_arr[0::2,:])==1)[0]"
     ],
     "language": "python",
     "metadata": {},
     "outputs": []
    },
    {
     "cell_type": "code",
     "collapsed": false,
     "input": [
      "np.where(DPGMM_var3_EPI1[3].predict(Kmeans_EPI1_arr[0::2,:])==2)[0]"
     ],
     "language": "python",
     "metadata": {},
     "outputs": []
    },
    {
     "cell_type": "code",
     "collapsed": false,
     "input": [
      "np.where(DPGMM_var3_EPI1[3].predict(Kmeans_EPI1_arr[0::2,:])==3)[0]"
     ],
     "language": "python",
     "metadata": {},
     "outputs": []
    },
    {
     "cell_type": "code",
     "collapsed": false,
     "input": [
      "k_range = range(1,10)\n",
      "\n",
      "# Fit kmeans model for each n_cluster = k\n",
      "DPGMM_var4_EPI1 = [DPGMM(n_components=k, n_iter=100, alpha=0.75).fit(Kmeans_EPI1_arr)for k in k_range]"
     ],
     "language": "python",
     "metadata": {},
     "outputs": []
    },
    {
     "cell_type": "code",
     "collapsed": false,
     "input": [
      "bicList4_EPI1 = [model.aic(Kmeans_EPI1_arr) for model in DPGMM_var4_EPI1]"
     ],
     "language": "python",
     "metadata": {},
     "outputs": []
    },
    {
     "cell_type": "code",
     "collapsed": false,
     "input": [
      "plt.plot(bicList4_EPI1)"
     ],
     "language": "python",
     "metadata": {},
     "outputs": []
    },
    {
     "cell_type": "code",
     "collapsed": false,
     "input": [
      "k_range = range(1,10)\n",
      "\n",
      "# Fit kmeans model for each n_cluster = k\n",
      "DPGMM_var4_EPI2 = [DPGMM(n_components=k, n_iter=100, alpha=0.75).fit(Kmeans_EPI2_arr)for k in k_range]"
     ],
     "language": "python",
     "metadata": {},
     "outputs": []
    },
    {
     "cell_type": "code",
     "collapsed": false,
     "input": [
      "bicList4_EPI2 = [model.aic(Kmeans_EPI2_arr) for model in DPGMM_var4_EPI2]"
     ],
     "language": "python",
     "metadata": {},
     "outputs": []
    },
    {
     "cell_type": "code",
     "collapsed": false,
     "input": [
      "plt.plot(bicList4_EPI2)"
     ],
     "language": "python",
     "metadata": {},
     "outputs": []
    },
    {
     "cell_type": "code",
     "collapsed": false,
     "input": [
      "k_range = range(1,10)\n",
      "\n",
      "# Fit kmeans model for each n_cluster = k\n",
      "DPGMM_var5_EPI1 = [DPGMM(n_components=k, n_iter=100, alpha=0.75).fit(Kmeans_EPI1_arr[0::2,:])for k in k_range]"
     ],
     "language": "python",
     "metadata": {},
     "outputs": []
    },
    {
     "cell_type": "code",
     "collapsed": false,
     "input": [
      "bicList5_EPI1 = [model.aic(Kmeans_EPI1_arr[0::2,:]) for model in DPGMM_var5_EPI1]"
     ],
     "language": "python",
     "metadata": {},
     "outputs": []
    },
    {
     "cell_type": "code",
     "collapsed": false,
     "input": [
      "plt.plot(bicList5_EPI1)"
     ],
     "language": "python",
     "metadata": {},
     "outputs": []
    },
    {
     "cell_type": "code",
     "collapsed": false,
     "input": [
      "k_range = range(1,10)\n",
      "\n",
      "# Fit kmeans model for each n_cluster = k\n",
      "DPGMM_var6_EPI1 = [DPGMM(n_components=k, n_iter=100, alpha=1).fit(Kmeans_EPI1_arr)for k in k_range]"
     ],
     "language": "python",
     "metadata": {},
     "outputs": [],
     "prompt_number": 26
    },
    {
     "cell_type": "code",
     "collapsed": false,
     "input": [
      "bicList6_EPI1 = [model.aic(Kmeans_EPI1_arr) for model in DPGMM_var6_EPI1]"
     ],
     "language": "python",
     "metadata": {},
     "outputs": [],
     "prompt_number": 27
    },
    {
     "cell_type": "code",
     "collapsed": false,
     "input": [
      "plt.plot(bicList6_EPI1)"
     ],
     "language": "python",
     "metadata": {},
     "outputs": [
      {
       "metadata": {},
       "output_type": "pyout",
       "prompt_number": 28,
       "text": [
        "[<matplotlib.lines.Line2D at 0x10d3e9470>]"
       ]
      },
      {
       "metadata": {},
       "output_type": "display_data",
       "png": "[encoded data removed]",
       "text": [
        "<matplotlib.figure.Figure at 0x10f225cc0>"
       ]
      }
     ],
     "prompt_number": 28
    },
    {
     "cell_type": "code",
     "collapsed": false,
     "input": [
      "k_range = range(1,10)\n",
      "\n",
      "# Fit kmeans model for each n_cluster = k\n",
      "DPGMM_var6_EPI2 = [DPGMM(n_components=k, n_iter=100, alpha=1).fit(Kmeans_EPI2_arr)for k in k_range]"
     ],
     "language": "python",
     "metadata": {},
     "outputs": [],
     "prompt_number": 29
    },
    {
     "cell_type": "code",
     "collapsed": false,
     "input": [
      "bicList6_EPI2 = [model.aic(Kmeans_EPI2_arr) for model in DPGMM_var6_EPI2]"
     ],
     "language": "python",
     "metadata": {},
     "outputs": [],
     "prompt_number": 30
    },
    {
     "cell_type": "code",
     "collapsed": false,
     "input": [
      "plt.plot(bicList6_EPI2)"
     ],
     "language": "python",
     "metadata": {},
     "outputs": [
      {
       "metadata": {},
       "output_type": "pyout",
       "prompt_number": 31,
       "text": [
        "[<matplotlib.lines.Line2D at 0x10d527ba8>]"
       ]
      },
      {
       "metadata": {},
       "output_type": "display_data",
       "png": "[encoded data removed]",
       "text": [
        "<matplotlib.figure.Figure at 0x10f22f518>"
       ]
      }
     ],
     "prompt_number": 31
    },
    {
     "cell_type": "code",
     "collapsed": false,
     "input": [
      "k_range = range(1,10)\n",
      "\n",
      "# Fit kmeans model for each n_cluster = k\n",
      "DPGMM_var7_EPI1 = [DPGMM(n_components=k, n_iter=100, alpha=1).fit(Kmeans_EPI1_arr[0::2,:])for k in k_range]"
     ],
     "language": "python",
     "metadata": {},
     "outputs": [],
     "prompt_number": 32
    },
    {
     "cell_type": "code",
     "collapsed": false,
     "input": [
      "bicList7_EPI1 = [model.aic(Kmeans_EPI1_arr[0::2,:]) for model in DPGMM_var7_EPI1]"
     ],
     "language": "python",
     "metadata": {},
     "outputs": [],
     "prompt_number": 33
    },
    {
     "cell_type": "code",
     "collapsed": false,
     "input": [
      "plt.plot(bicList7_EPI1)"
     ],
     "language": "python",
     "metadata": {},
     "outputs": [
      {
       "metadata": {},
       "output_type": "pyout",
       "prompt_number": 34,
       "text": [
        "[<matplotlib.lines.Line2D at 0x10d67fa20>]"
       ]
      },
      {
       "metadata": {},
       "output_type": "display_data",
       "png": "[encoded data removed]",
       "text": [
        "<matplotlib.figure.Figure at 0x10d5492b0>"
       ]
      }
     ],
     "prompt_number": 34
    },
    {
     "cell_type": "code",
     "collapsed": false,
     "input": [
      "DPGMM_EPI1_skipFinal = DPGMM(n_components=2, n_iter=100).fit(Kmeans_EPI1_arr[0::2,:])"
     ],
     "language": "python",
     "metadata": {},
     "outputs": []
    },
    {
     "cell_type": "code",
     "collapsed": false,
     "input": [
      "print(Kmeans_EPI1_arr[0::2,:].shape)\n",
      "print(Kmeans_EPI2_arr.shape)"
     ],
     "language": "python",
     "metadata": {},
     "outputs": []
    },
    {
     "cell_type": "code",
     "collapsed": false,
     "input": [
      "DPGMM_EPI2_Final = DPGMM(n_components=2, n_iter=100).fit(Kmeans_EPI2_arr)"
     ],
     "language": "python",
     "metadata": {},
     "outputs": []
    },
    {
     "cell_type": "code",
     "collapsed": false,
     "input": [
      "EPI1_centroid0 = DPGMM_EPI1_skipFinal.means_[0,:].reshape(19,19,order='F')\n",
      "EPI1_centroid1 = DPGMM_EPI1_skipFinal.means_[1,:].reshape(19,19,order='F')\n",
      "#EPI1_centroid2 = DPGMM_EPI1_skipFinal.means_[2,:].reshape(19,19,order='F')\n",
      "\n",
      "EPI2_centroid0 = DPGMM_EPI2_Final.means_[0,:].reshape(19,19,order='F')\n",
      "EPI2_centroid1 = DPGMM_EPI2_Final.means_[1,:].reshape(19,19,order='F')\n",
      "#EPI2_centroid2 = DPGMM_EPI2_Final.means_[2,:].reshape(19,19,order='F')"
     ],
     "language": "python",
     "metadata": {},
     "outputs": []
    },
    {
     "cell_type": "code",
     "collapsed": false,
     "input": [
      "#Recalculating the mean matrix in order to add it into the de-meaned DPGMM clusters to make them more interpretable\n",
      "\n",
      "Kmeans_EPI1_arrb = np.array(Kmeans_EPI1)\n",
      "Kmeans_EPI1_arrb = np.transpose(Kmeans_EPI1_arrb,[2,1,0]).reshape(361,-1,order='F')\n",
      "Kmeans_EPI1_arrb = Kmeans_EPI1_arrb.T\n",
      "print(Kmeans_EPI1_arrb.shape)\n",
      "\n",
      "Kmeans_EPI2_arrb = np.array(Kmeans_EPI2)\n",
      "Kmeans_EPI2_arrb = np.transpose(Kmeans_EPI2_arrb,[2,1,0]).reshape(361,-1,order='F')\n",
      "Kmeans_EPI2_arrb = Kmeans_EPI2_arrb.T\n",
      "print(Kmeans_EPI2_arrb.shape)\n",
      "\n",
      "testConcatb_EPI1 = np.mean(Kmeans_EPI1_arrb,axis=0).reshape(19,19)\n",
      "testConcatb_EPI2 = np.mean(Kmeans_EPI2_arrb,axis=0).reshape(19,19)\n"
     ],
     "language": "python",
     "metadata": {},
     "outputs": []
    },
    {
     "cell_type": "code",
     "collapsed": false,
     "input": [
      "#plotting de-meaned DPGMM clusters on top of the mean for EPI1 \n",
      "\n",
      "plt.subplot(121)\n",
      "plt.imshow(EPI1_centroid0+testConcatb_EPI1, interpolation = 'nearest')\n",
      "plt.clim(-.6,.6)\n",
      "plt.subplot(122)\n",
      "plt.imshow(EPI1_centroid1+testConcatb_EPI1, interpolation = 'nearest')\n",
      "plt.clim(-.6,.6)\n",
      "#plt.subplot(133)\n",
      "#plt.imshow(EPI1_centroid2, interpolation = 'nearest')\n",
      "#plt.clim(-0.5,0.5)"
     ],
     "language": "python",
     "metadata": {},
     "outputs": []
    },
    {
     "cell_type": "code",
     "collapsed": false,
     "input": [
      "plt.subplot(121)\n",
      "plt.imshow(EPI2_centroid0+testConcatb_EPI2, interpolation = 'nearest')\n",
      "plt.clim(-0.6,0.6)\n",
      "plt.subplot(122)\n",
      "plt.imshow(EPI2_centroid1+testConcatb_EPI2, interpolation = 'nearest')\n",
      "plt.clim(-0.6,0.6)\n",
      "#plt.subplot(133)\n",
      "#plt.imshow(EPI2_centroid2, interpolation = 'nearest')\n",
      "#plt.clim(-0.5,0.5)"
     ],
     "language": "python",
     "metadata": {},
     "outputs": []
    },
    {
     "cell_type": "code",
     "collapsed": false,
     "input": [
      "for i in range(2):\n",
      "    EPI1Covar = np.diag(DPGMM_EPI1_skipFinal._get_covars()[i]).reshape(19,19,order='F')\n",
      "    plt.subplot(1,2,i)\n",
      "    plt.imshow(EPI1Covar, interpolation = 'nearest')\n",
      "    plt.clim(1.0,1.1)"
     ],
     "language": "python",
     "metadata": {},
     "outputs": []
    },
    {
     "cell_type": "code",
     "collapsed": false,
     "input": [
      "for i in range(2):\n",
      "    EPI2Covar = np.diag(DPGMM_EPI2_Final._get_covars()[i]).reshape(19,19,order='F')\n",
      "    plt.subplot(1,2,i)\n",
      "    plt.imshow(EPI2Covar, interpolation = 'nearest')\n",
      "    plt.clim(1.0,1.1)"
     ],
     "language": "python",
     "metadata": {},
     "outputs": []
    },
    {
     "cell_type": "heading",
     "level": 4,
     "metadata": {},
     "source": [
      "Learning about time spent in each cluster (autocorrelations within clusters)"
     ]
    },
    {
     "cell_type": "code",
     "collapsed": false,
     "input": [
      "DPGMM_EPI1_score_samples = DPGMM_EPI1_skipFinal.score_samples(Kmeans_EPI1_arr[0::2,:])"
     ],
     "language": "python",
     "metadata": {},
     "outputs": []
    },
    {
     "cell_type": "code",
     "collapsed": false,
     "input": [
      "print(len(DPGMM_EPI1_score_samples))\n",
      "print(DPGMM_EPI1_score_samples[1])\n",
      "print(DPGMM_EPI1_score_samples[1].shape)"
     ],
     "language": "python",
     "metadata": {},
     "outputs": []
    },
    {
     "cell_type": "code",
     "collapsed": false,
     "input": [
      "EPI1_postProb = DPGMM_EPI1_score_samples[1]\n",
      "print(EPI1_postProb.shape)\n",
      "print(EPI1_postProb)\n",
      "EPI1_postProb_K1 = EPI1_postProb[:,0]\n",
      "EPI1_postProb_K2 = EPI1_postProb[:,1]\n",
      "#EPI1_postProb_K3 = EPI1_postProb[:,2]\n",
      "#EPI1_postProb_K4 = EPI1_postProb[:,3]"
     ],
     "language": "python",
     "metadata": {},
     "outputs": []
    },
    {
     "cell_type": "code",
     "collapsed": false,
     "input": [
      "print(type(EPI1_postProb_K1))\n",
      "\n",
      "numSubs = 10\n",
      "numLags = 15\n",
      "reshaped_K1 = EPI1_postProb_K1.reshape((248,numSubs))\n",
      "reshaped_K1_z = sp.stats.zscore(reshaped_K1,axis=0)\n",
      "\n",
      "acfMatrix_K1 = np.zeros((numLags+1,numSubs))\n",
      "for i in range(numSubs):\n",
      "    acfMatrix_K1[:,i] = sp.arctanh(acf(reshaped_K1_z[:,i], nlags=numLags))"
     ],
     "language": "python",
     "metadata": {},
     "outputs": []
    },
    {
     "cell_type": "code",
     "collapsed": false,
     "input": [
      "print(type(EPI1_postProb_K2))\n",
      "\n",
      "numSubs = 10\n",
      "numLags = 15\n",
      "reshaped_K2 = EPI1_postProb_K2.reshape((248,numSubs))\n",
      "reshaped_K2_z = sp.stats.zscore(reshaped_K2,axis=0)\n",
      "\n",
      "acfMatrix_K2 = np.zeros((numLags+1,numSubs))\n",
      "for i in range(numSubs):\n",
      "    acfMatrix_K2[:,i] = sp.arctanh(acf(reshaped_K2_z[:,i], nlags=numLags))"
     ],
     "language": "python",
     "metadata": {},
     "outputs": []
    },
    {
     "cell_type": "code",
     "collapsed": false,
     "input": [
      "print(type(EPI1_postProb_K3))\n",
      "\n",
      "numSubs = 10\n",
      "numLags = 15\n",
      "reshaped_K3 = EPI1_postProb_K3.reshape((248,numSubs))\n",
      "reshaped_K3_z = sp.stats.zscore(reshaped_K3,axis=0)\n",
      "\n",
      "acfMatrix_K3 = np.zeros((numLags+1,numSubs))\n",
      "for i in range(numSubs):\n",
      "    acfMatrix_K3[:,i] = sp.arctanh(acf(reshaped_K3_z[:,i], nlags=numLags))"
     ],
     "language": "python",
     "metadata": {},
     "outputs": []
    },
    {
     "cell_type": "code",
     "collapsed": false,
     "input": [
      "print(type(EPI1_postProb_K4))\n",
      "\n",
      "numSubs = 10\n",
      "numLags = 15\n",
      "reshaped_K4 = EPI1_postProb_K4.reshape((248,numSubs))\n",
      "reshaped_K4_z = sp.stats.zscore(reshaped_K4,axis=0)\n",
      "\n",
      "acfMatrix_K4 = np.zeros((numLags+1,numSubs))\n",
      "for i in range(numSubs):\n",
      "    acfMatrix_K4[:,i] = sp.arctanh(acf(reshaped_K4_z[:,i], nlags=numLags))"
     ],
     "language": "python",
     "metadata": {},
     "outputs": []
    },
    {
     "cell_type": "code",
     "collapsed": false,
     "input": [
      "DPGMM_EPI2_score_samples = DPGMM_EPI2_Final.score_samples(Kmeans_EPI2_arr)\n",
      "EPI2_postProb = DPGMM_EPI2_score_samples[1]\n",
      "print(EPI2_postProb.shape)\n",
      "print(EPI2_postProb)\n",
      "EPI2_postProb_K1 = EPI2_postProb[:,0]\n",
      "EPI2_postProb_K2 = EPI2_postProb[:,1]"
     ],
     "language": "python",
     "metadata": {},
     "outputs": []
    },
    {
     "cell_type": "code",
     "collapsed": false,
     "input": [
      "print(type(EPI2_postProb_K1))\n",
      "\n",
      "numSubs = 10\n",
      "numLags = 15\n",
      "EPI2_reshaped_K1 = EPI2_postProb_K1.reshape((246,numSubs))\n",
      "EPI2_reshaped_K1_z = sp.stats.zscore(EPI2_reshaped_K1,axis=0)\n",
      "\n",
      "EPI2_acfMatrix_K1 = np.zeros((numLags+1,numSubs))\n",
      "for i in range(numSubs):\n",
      "    EPI2_acfMatrix_K1[:,i] = sp.arctanh(acf(EPI2_reshaped_K1_z[:,i], nlags=numLags))"
     ],
     "language": "python",
     "metadata": {},
     "outputs": []
    },
    {
     "cell_type": "code",
     "collapsed": false,
     "input": [
      "print(type(EPI2_postProb_K2))\n",
      "\n",
      "numSubs = 10\n",
      "numLags = 15\n",
      "EPI2_reshaped_K2 = EPI2_postProb_K2.reshape((246,numSubs))\n",
      "EPI2_reshaped_K2_z = sp.stats.zscore(EPI2_reshaped_K2,axis=0)\n",
      "\n",
      "EPI2_acfMatrix_K2 = np.zeros((numLags+1,numSubs))\n",
      "for i in range(numSubs):\n",
      "    EPI2_acfMatrix_K2[:,i] = sp.arctanh(acf(EPI2_reshaped_K2_z[:,i], nlags=numLags))"
     ],
     "language": "python",
     "metadata": {},
     "outputs": []
    },
    {
     "cell_type": "code",
     "collapsed": false,
     "input": [
      "plt.subplot(121)\n",
      "plt.plot(np.mean(acfMatrix_K1,axis=1))\n",
      "plt.subplot(122)\n",
      "plt.plot(np.mean(acfMatrix_K2,axis=1))\n",
      "#plt.subplot(143)\n",
      "#plt.plot(np.mean(acfMatrix_K3,axis=1))\n",
      "#plt.subplot(144)\n",
      "#plt.plot(np.mean(acfMatrix_K4,axis=1))"
     ],
     "language": "python",
     "metadata": {},
     "outputs": []
    },
    {
     "cell_type": "code",
     "collapsed": false,
     "input": [
      "plt.subplot(121)\n",
      "plt.plot(np.mean(EPI2_acfMatrix_K1,axis=1))\n",
      "plt.subplot(122)\n",
      "plt.plot(np.mean(EPI2_acfMatrix_K2,axis=1))"
     ],
     "language": "python",
     "metadata": {},
     "outputs": []
    },
    {
     "cell_type": "heading",
     "level": 4,
     "metadata": {},
     "source": [
      "Learning about temporal orderin of clusters using cross correlation (correlating different clusters)"
     ]
    },
    {
     "cell_type": "code",
     "collapsed": false,
     "input": [
      "numSubs = 10\n",
      "numLags = 15\n",
      "EPI1_reshaped_K1 = EPI1_postProb_K1.reshape((248,numSubs))\n",
      "EPI1_reshaped_K1_z = sp.stats.zscore(reshaped_K1,axis=0)\n",
      "EPI1_reshaped_K2 = EPI1_postProb_K2.reshape((248,numSubs))\n",
      "EPI1_reshaped_K2_z = sp.stats.zscore(reshaped_K2,axis=0)\n",
      "\n",
      "EPI1_ccfMatrix_K12 = np.zeros((numLags+1,numSubs))\n",
      "for i in range(numSubs):\n",
      "    EPI1_ccfMatrix_K12[:,i] = sp.arctanh(ccf(EPI1_reshaped_K1_z[:,i],EPI1_reshaped_K2_z[:,i], unbiased=True)[0:(numLags+1)])\n",
      "    \n",
      "EPI1_ccfMatrix_K21 = np.zeros((numLags+1,numSubs))\n",
      "for i in range(numSubs):\n",
      "    EPI1_ccfMatrix_K21[:,i] = sp.arctanh(ccf(EPI1_reshaped_K2_z[:,i],EPI1_reshaped_K1_z[:,i], unbiased=True)[0:(numLags+1)])"
     ],
     "language": "python",
     "metadata": {},
     "outputs": []
    },
    {
     "cell_type": "code",
     "collapsed": false,
     "input": [
      "plt.subplot(121)\n",
      "plt.plot(np.mean(EPI1_ccfMatrix_K12,axis=1))\n",
      "plt.subplot(122)\n",
      "plt.plot(np.mean(EPI1_ccfMatrix_K21,axis=1))"
     ],
     "language": "python",
     "metadata": {},
     "outputs": []
    },
    {
     "cell_type": "code",
     "collapsed": false,
     "input": [
      "numSubs = 10\n",
      "numLags = 15\n",
      "\n",
      "EPI1_reshaped_K3 = EPI1_postProb_K3.reshape((248,numSubs))\n",
      "EPI1_reshaped_K3_z = sp.stats.zscore(reshaped_K3,axis=0)\n",
      "\n",
      "EPI1_ccfMatrix_K13 = np.zeros((numLags+1,numSubs))\n",
      "for i in range(numSubs):\n",
      "    EPI1_ccfMatrix_K13[:,i] = sp.arctanh(ccf(EPI1_reshaped_K1_z[:,i],EPI1_reshaped_K3_z[:,i], unbiased=True)[0:(numLags+1)])\n",
      "    \n",
      "EPI1_ccfMatrix_K31 = np.zeros((numLags+1,numSubs))\n",
      "for i in range(numSubs):\n",
      "    EPI1_ccfMatrix_K31[:,i] = sp.arctanh(ccf(EPI1_reshaped_K3_z[:,i],EPI1_reshaped_K1_z[:,i], unbiased=True)[0:(numLags+1)])    "
     ],
     "language": "python",
     "metadata": {},
     "outputs": []
    },
    {
     "cell_type": "code",
     "collapsed": false,
     "input": [
      "plt.subplot(121)\n",
      "plt.plot(np.mean(EPI1_ccfMatrix_K13,axis=1))\n",
      "plt.subplot(122)\n",
      "plt.plot(np.mean(EPI1_ccfMatrix_K31,axis=1))"
     ],
     "language": "python",
     "metadata": {},
     "outputs": []
    },
    {
     "cell_type": "code",
     "collapsed": false,
     "input": [
      "numSubs = 10\n",
      "numLags = 15\n",
      "\n",
      "EPI1_reshaped_K4 = EPI1_postProb_K4.reshape((248,numSubs))\n",
      "EPI1_reshaped_K4_z = sp.stats.zscore(reshaped_K4,axis=0)\n",
      "\n",
      "EPI1_ccfMatrix_K14 = np.zeros((numLags+1,numSubs))\n",
      "for i in range(numSubs):\n",
      "    EPI1_ccfMatrix_K14[:,i] = sp.arctanh(ccf(EPI1_reshaped_K1_z[:,i],EPI1_reshaped_K4_z[:,i], unbiased=True)[0:(numLags+1)])\n",
      "\n",
      "EPI1_ccfMatrix_K41 = np.zeros((numLags+1,numSubs))\n",
      "for i in range(numSubs):\n",
      "    EPI1_ccfMatrix_K41[:,i] = sp.arctanh(ccf(EPI1_reshaped_K4_z[:,i],EPI1_reshaped_K1_z[:,i], unbiased=True)[0:(numLags+1)])"
     ],
     "language": "python",
     "metadata": {},
     "outputs": []
    },
    {
     "cell_type": "code",
     "collapsed": false,
     "input": [
      "plt.subplot(121)\n",
      "plt.plot(np.mean(EPI1_ccfMatrix_K14,axis=1))\n",
      "plt.subplot(122)\n",
      "plt.plot(np.mean(EPI1_ccfMatrix_K41,axis=1))"
     ],
     "language": "python",
     "metadata": {},
     "outputs": []
    },
    {
     "cell_type": "code",
     "collapsed": false,
     "input": [
      "numSubs = 10\n",
      "numLags = 15\n",
      "\n",
      "EPI1_ccfMatrix_K23 = np.zeros((numLags+1,numSubs))\n",
      "for i in range(numSubs):\n",
      "    EPI1_ccfMatrix_K23[:,i] = sp.arctanh(ccf(EPI1_reshaped_K2_z[:,i],EPI1_reshaped_K3_z[:,i], unbiased=True)[0:(numLags+1)])\n",
      "\n",
      "EPI1_ccfMatrix_K32 = np.zeros((numLags+1,numSubs))\n",
      "for i in range(numSubs):\n",
      "    EPI1_ccfMatrix_K32[:,i] = sp.arctanh(ccf(EPI1_reshaped_K3_z[:,i],EPI1_reshaped_K2_z[:,i], unbiased=True)[0:(numLags+1)])"
     ],
     "language": "python",
     "metadata": {},
     "outputs": []
    },
    {
     "cell_type": "code",
     "collapsed": false,
     "input": [
      "plt.subplot(121)\n",
      "plt.plot(np.mean(EPI1_ccfMatrix_K23,axis=1))\n",
      "plt.subplot(122)\n",
      "plt.plot(np.mean(EPI1_ccfMatrix_K32,axis=1))"
     ],
     "language": "python",
     "metadata": {},
     "outputs": []
    },
    {
     "cell_type": "code",
     "collapsed": false,
     "input": [
      "numSubs = 10\n",
      "numLags = 15\n",
      "\n",
      "EPI1_ccfMatrix_K24 = np.zeros((numLags+1,numSubs))\n",
      "for i in range(numSubs):\n",
      "    EPI1_ccfMatrix_K24[:,i] = sp.arctanh(ccf(EPI1_reshaped_K2_z[:,i],EPI1_reshaped_K4_z[:,i], unbiased=True)[0:(numLags+1)])\n",
      "    \n",
      "EPI1_ccfMatrix_K42 = np.zeros((numLags+1,numSubs))\n",
      "for i in range(numSubs):\n",
      "    EPI1_ccfMatrix_K42[:,i] = sp.arctanh(ccf(EPI1_reshaped_K4_z[:,i],EPI1_reshaped_K2_z[:,i], unbiased=True)[0:(numLags+1)])"
     ],
     "language": "python",
     "metadata": {},
     "outputs": []
    },
    {
     "cell_type": "code",
     "collapsed": false,
     "input": [
      "plt.subplot(121)\n",
      "plt.plot(np.mean(EPI1_ccfMatrix_K24,axis=1))\n",
      "plt.subplot(122)\n",
      "plt.plot(np.mean(EPI1_ccfMatrix_K42,axis=1))"
     ],
     "language": "python",
     "metadata": {},
     "outputs": []
    },
    {
     "cell_type": "code",
     "collapsed": false,
     "input": [
      "numSubs = 10\n",
      "numLags = 15\n",
      "\n",
      "EPI1_ccfMatrix_K34 = np.zeros((numLags+1,numSubs))\n",
      "for i in range(numSubs):\n",
      "    EPI1_ccfMatrix_K34[:,i] = sp.arctanh(ccf(EPI1_reshaped_K3_z[:,i],EPI1_reshaped_K4_z[:,i], unbiased=True)[0:(numLags+1)])\n",
      "    \n",
      "EPI1_ccfMatrix_K43 = np.zeros((numLags+1,numSubs))\n",
      "for i in range(numSubs):\n",
      "    EPI1_ccfMatrix_K43[:,i] = sp.arctanh(ccf(EPI1_reshaped_K4_z[:,i],EPI1_reshaped_K3_z[:,i], unbiased=True)[0:(numLags+1)])"
     ],
     "language": "python",
     "metadata": {},
     "outputs": []
    },
    {
     "cell_type": "code",
     "collapsed": false,
     "input": [
      "plt.subplot(121)\n",
      "plt.plot(np.mean(EPI1_ccfMatrix_K34,axis=1))\n",
      "plt.subplot(122)\n",
      "plt.plot(np.mean(EPI1_ccfMatrix_K43,axis=1))"
     ],
     "language": "python",
     "metadata": {},
     "outputs": []
    },
    {
     "cell_type": "code",
     "collapsed": false,
     "input": [
      "numSubs = 10\n",
      "numLags = 15\n",
      "\n",
      "EPI2_reshaped_K1 = EPI2_postProb_K1.reshape((246,numSubs))\n",
      "EPI2_reshaped_K1_z = sp.stats.zscore(EPI2_reshaped_K1,axis=0)\n",
      "EPI2_reshaped_K2 = EPI2_postProb_K2.reshape((246,numSubs))\n",
      "EPI2_reshaped_K2_z = sp.stats.zscore(EPI2_reshaped_K2,axis=0)\n",
      "\n",
      "EPI2_ccfMatrix_K12 = np.zeros((numLags+1,numSubs))\n",
      "for i in range(numSubs):\n",
      "    EPI2_ccfMatrix_K12[:,i] = sp.arctanh(ccf(EPI2_reshaped_K1_z[:,i],EPI2_reshaped_K2_z[:,i], unbiased=True)[0:(numLags+1)])\n",
      "\n",
      "EPI2_ccfMatrix_K21 = np.zeros((numLags+1,numSubs))\n",
      "for i in range(numSubs):\n",
      "    EPI2_ccfMatrix_K21[:,i] = sp.arctanh(ccf(EPI2_reshaped_K2_z[:,i],EPI2_reshaped_K1_z[:,i], unbiased=True)[0:(numLags+1)])"
     ],
     "language": "python",
     "metadata": {},
     "outputs": []
    },
    {
     "cell_type": "code",
     "collapsed": false,
     "input": [
      "plt.subplot(121)\n",
      "plt.plot(np.mean(EPI2_ccfMatrix_K12,axis=1))\n",
      "plt.subplot(122)\n",
      "plt.plot(np.mean(EPI2_ccfMatrix_K21,axis=1))"
     ],
     "language": "python",
     "metadata": {},
     "outputs": []
    },
    {
     "cell_type": "code",
     "collapsed": false,
     "input": [
      "plt.subplot(411)\n",
      "plt.plot(EPI1_postProb_K1)\n",
      "plt.subplot(412)\n",
      "plt.plot(EPI1_postProb_K2)\n",
      "plt.subplot(413)\n",
      "plt.plot(EPI1_postProb_K3)\n",
      "plt.subplot(414)\n",
      "plt.plot(EPI1_postProb_K4)"
     ],
     "language": "python",
     "metadata": {},
     "outputs": []
    },
    {
     "cell_type": "code",
     "collapsed": false,
     "input": [
      "EPI1_Predict = DPGMM_EPI1_skipFinal.predict(Kmeans_EPI1_arr[0::2,:])"
     ],
     "language": "python",
     "metadata": {},
     "outputs": []
    },
    {
     "cell_type": "code",
     "collapsed": false,
     "input": [
      "print(EPI1_Predict[0:248])  #subj 101"
     ],
     "language": "python",
     "metadata": {},
     "outputs": []
    },
    {
     "cell_type": "code",
     "collapsed": false,
     "input": [
      "print(EPI1_Predict[248:496])  #subj 102"
     ],
     "language": "python",
     "metadata": {},
     "outputs": []
    },
    {
     "cell_type": "code",
     "collapsed": false,
     "input": [
      "print(EPI1_Predict[496:744])  #subj 103"
     ],
     "language": "python",
     "metadata": {},
     "outputs": []
    },
    {
     "cell_type": "code",
     "collapsed": false,
     "input": [
      "print(EPI1_Predict[744:992])  # subj 104"
     ],
     "language": "python",
     "metadata": {},
     "outputs": []
    },
    {
     "cell_type": "code",
     "collapsed": false,
     "input": [
      "data_EPI1_skipped = Kmeans_EPI1_arr[0::2,:]"
     ],
     "language": "python",
     "metadata": {},
     "outputs": []
    },
    {
     "cell_type": "code",
     "collapsed": false,
     "input": [
      "print(data_EPI1_skipped.shape)"
     ],
     "language": "python",
     "metadata": {},
     "outputs": []
    },
    {
     "cell_type": "code",
     "collapsed": false,
     "input": [
      "plt.plot(EPI1_Predict[744:992])"
     ],
     "language": "python",
     "metadata": {},
     "outputs": []
    },
    {
     "cell_type": "code",
     "collapsed": false,
     "input": [],
     "language": "python",
     "metadata": {},
     "outputs": []
    }
   ],
   "metadata": {}
  }
 ]
}