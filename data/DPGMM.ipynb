{
 "metadata": {
  "name": "",
  "signature": "sha256:225ab418d1c50b27ad27663b56c2d93917aea7cb20ae299a21503e659e640217"
 },
 "nbformat": 3,
 "nbformat_minor": 0,
 "worksheets": [
  {
   "cells": [
    {
     "cell_type": "code",
     "collapsed": false,
     "input": [
      "import numpy as np\n",
      "import matplotlib.pyplot as plt\n",
      "from sklearn import metrics\n",
      "from sklearn.mixture import DPGMM\n",
      "import sklearn.mixture\n",
      "import scipy as sp\n",
      "%matplotlib inline\n",
      "from statsmodels.tsa.stattools import acf\n",
      "from statsmodels.tsa.stattools import ccf"
     ],
     "language": "python",
     "metadata": {},
     "outputs": [],
     "prompt_number": 1
    },
    {
     "cell_type": "code",
     "collapsed": false,
     "input": [
      "subIDlist = [101,102,103,104,106,108,109,110,111,112]  # all subj numbers i want to load\n",
      "data_EPI1 = []\n",
      "data_EPI2 = []\n",
      "for subID in subIDlist:\n",
      "    data_EPI1.append(np.loadtxt('WZP' +str(subID) +'B_EPI1_rois5.txt'))\n",
      "#    data_EPI2.append(np.loadtxt('WZP' +str(subID) +'B_EPI2_rois5.txt'))"
     ],
     "language": "python",
     "metadata": {},
     "outputs": [],
     "prompt_number": 2
    },
    {
     "cell_type": "code",
     "collapsed": false,
     "input": [
      "subIDlist = [201,202,203,204,205,207,208,209]  # all subj numbers i want to load\n",
      "for subID in subIDlist:\n",
      "    data_EPI2.append(np.loadtxt('WZP' +str(subID) +'M_EPI3_rois5.txt'))"
     ],
     "language": "python",
     "metadata": {},
     "outputs": [],
     "prompt_number": 4
    },
    {
     "cell_type": "code",
     "collapsed": false,
     "input": [
      "whl_data_EPI1 = []\n",
      "for val in data_EPI1:\n",
      "    whl_data_EPI1.append(sp.arctanh(np.corrcoef(val.T)))\n",
      "\n",
      "whl_data_EPI2 = []\n",
      "for val in data_EPI2:\n",
      "    whl_data_EPI2.append(sp.stats.mstats.zscore(np.corrcoef(val.T)))\n",
      "    \n",
      "print(len(data_EPI1))\n",
      "print(len(whl_data_EPI1))\n",
      "print(data_EPI1[0].shape)\n",
      "print(whl_data_EPI1[0].shape)"
     ],
     "language": "python",
     "metadata": {},
     "outputs": [
      {
       "output_type": "stream",
       "stream": "stdout",
       "text": [
        "10\n",
        "10\n",
        "(556, 19)\n",
        "(19, 19)\n"
       ]
      }
     ],
     "prompt_number": 5
    },
    {
     "cell_type": "code",
     "collapsed": false,
     "input": [
      "win_data_EPI1 = []\n",
      "for val in data_EPI1:\n",
      "    tmpCorrs = np.zeros((val.shape[1],val.shape[1],val.shape[0]-60))\n",
      "    for j in range(0,val.shape[0]-60):\n",
      "        tmpCorrs[:,:,j] = np.corrcoef(val[j:j+60,:].T)\n",
      "    win_data_EPI1.append(np.copy(tmpCorrs))\n",
      "\n",
      "win_data_EPI2 = []\n",
      "for val in data_EPI2:\n",
      "    tmpCorrs = np.zeros((val.shape[1],val.shape[1],val.shape[0]-133))\n",
      "    for j in range(0,val.shape[0]-133):\n",
      "        tmpCorrs[:,:,j] = np.corrcoef(val[j:j+133,:].T)\n",
      "    win_data_EPI2.append(np.copy(tmpCorrs))\n",
      "    \n",
      "print(win_data_EPI1[0].shape)\n",
      "print(win_data_EPI2[0].shape)"
     ],
     "language": "python",
     "metadata": {},
     "outputs": [
      {
       "output_type": "stream",
       "stream": "stdout",
       "text": [
        "(19, 19, 496)\n",
        "(19, 19, 1536)\n"
       ]
      }
     ],
     "prompt_number": 6
    },
    {
     "cell_type": "code",
     "collapsed": false,
     "input": [
      "###give this to kmeans!! When get more people,\n",
      "###contatenate downwards so that 496 is a multiple of subjects, but 361 (FEATURES) remains the same. \n",
      "\n",
      "#19 rois x 19 rois = 361 features\n",
      "#496 = # of windows for EPI1???\n",
      "\n",
      "Kmeans_EPI1 = []\n",
      "for val in win_data_EPI1:\n",
      "    Kmeans_EPI1.append(val.reshape((-1,val.shape[2]),order='F').T)\n",
      "    \n",
      "Kmeans_EPI2 = []\n",
      "for val in win_data_EPI2:\n",
      "    Kmeans_EPI2.append(val.reshape((-1,val.shape[2]),order='F').T)"
     ],
     "language": "python",
     "metadata": {},
     "outputs": [],
     "prompt_number": 7
    },
    {
     "cell_type": "code",
     "collapsed": false,
     "input": [
      "print(Kmeans_EPI1[0].shape)\n",
      "#print(Kmeans_EPI1_arr.shape)\n",
      "print(win_data_EPI1[0].shape)"
     ],
     "language": "python",
     "metadata": {},
     "outputs": [
      {
       "output_type": "stream",
       "stream": "stdout",
       "text": [
        "(496, 361)\n",
        "(19, 19, 496)\n"
       ]
      }
     ],
     "prompt_number": 6
    },
    {
     "cell_type": "code",
     "collapsed": false,
     "input": [
      "Kmeans_EPI1_arr = np.array(Kmeans_EPI1)\n",
      "Kmeans_EPI2_arr = np.array(Kmeans_EPI2)\n",
      "print(len(Kmeans_EPI1_arr))\n",
      "print(Kmeans_EPI1_arr.shape)\n",
      "print(len(Kmeans_EPI2_arr))\n",
      "print(Kmeans_EPI2_arr.shape)"
     ],
     "language": "python",
     "metadata": {},
     "outputs": [
      {
       "output_type": "stream",
       "stream": "stdout",
       "text": [
        "10\n",
        "(10, 496, 361)\n",
        "8\n",
        "(8, 1536, 361)\n"
       ]
      }
     ],
     "prompt_number": 8
    },
    {
     "cell_type": "code",
     "collapsed": false,
     "input": [
      "#for val in Kmeans_EPI1_arr:\n",
      "#    for i in range(0,val.shape[0]):    #for range 0-496 time windows in axis 0 of val\n",
      "#         val[i:,] = val[i:,]-(np.mean(val[i:,]))\n",
      "            \n",
      "#for val in Kmeans_EPI2_arr:\n",
      "#    for i in range(0,val.shape[0]):    #for range 0-496 time windows in axis 0 of val\n",
      "#         val[i:,] = val[i:,]-(np.mean(val[i:,]))\n",
      "\n",
      "# Brenton's correction:\n",
      "\n",
      "Kmeans_EPI1_arr = Kmeans_EPI1_arr - np.mean(Kmeans_EPI1_arr,axis=1,keepdims=True)\n",
      "Kmeans_EPI2_arr = Kmeans_EPI2_arr - np.mean(Kmeans_EPI2_arr,axis=1,keepdims=True)"
     ],
     "language": "python",
     "metadata": {},
     "outputs": [],
     "prompt_number": 9
    },
    {
     "cell_type": "code",
     "collapsed": true,
     "input": [
      "print(Kmeans_EPI1_arr.shape)\n",
      "print(Kmeans_EPI2_arr.shape)"
     ],
     "language": "python",
     "metadata": {},
     "outputs": [
      {
       "output_type": "stream",
       "stream": "stdout",
       "text": [
        "(10, 496, 361)\n",
        "(10, 246, 361)\n"
       ]
      }
     ],
     "prompt_number": 9
    },
    {
     "cell_type": "code",
     "collapsed": false,
     "input": [
      "Kmeans_EPI1_arr = np.transpose(Kmeans_EPI1_arr,[2,1,0]).reshape(361,-1,order='F')\n",
      "Kmeans_EPI1_arr = Kmeans_EPI1_arr.T\n",
      "print(Kmeans_EPI1_arr.shape)\n",
      "\n",
      "Kmeans_EPI2_arr = np.transpose(Kmeans_EPI2_arr,[2,1,0]).reshape(361,-1,order='F')\n",
      "Kmeans_EPI2_arr = Kmeans_EPI2_arr.T\n",
      "print(Kmeans_EPI2_arr.shape)"
     ],
     "language": "python",
     "metadata": {},
     "outputs": [
      {
       "output_type": "stream",
       "stream": "stdout",
       "text": [
        "(4960, 361)\n",
        "(12288, 361)\n"
       ]
      }
     ],
     "prompt_number": 10
    },
    {
     "cell_type": "code",
     "collapsed": false,
     "input": [
      "plt.subplot(121)\n",
      "testConcat_EPI1 = np.mean(Kmeans_EPI1_arr,axis=0).reshape(19,19)\n",
      "plt.imshow(testConcat_EPI1,interpolation='nearest',clim=[-1,1])\n",
      "plt.subplot(122)\n",
      "testConcat_EPI2 = np.mean(Kmeans_EPI2_arr,axis=0).reshape(19,19)\n",
      "plt.imshow(testConcat_EPI2,interpolation='nearest',clim=[-.2,0.2])"
     ],
     "language": "python",
     "metadata": {},
     "outputs": [
      {
       "metadata": {},
       "output_type": "pyout",
       "prompt_number": 11,
       "text": [
        "<matplotlib.image.AxesImage at 0x109730a58>"
       ]
      },
      {
       "metadata": {},
       "output_type": "display_data",
       "png": "[encoded data removed]",
       "text": [
        "<matplotlib.figure.Figure at 0x1095c2cc0>"
       ]
      }
     ],
     "prompt_number": 11
    },
    {
     "cell_type": "code",
     "collapsed": false,
     "input": [
      "k_range = range(1,10)\n",
      "\n",
      "# Fit kmeans model for each n_cluster = k\n",
      "DPGMM_var1_EPI1 = [DPGMM(n_components=k, n_iter=100, alpha=0.1).fit(Kmeans_EPI1_arr)for k in k_range]"
     ],
     "language": "python",
     "metadata": {},
     "outputs": []
    },
    {
     "cell_type": "code",
     "collapsed": false,
     "input": [
      "bicList1_EPI1 = [model.aic(Kmeans_EPI1_arr) for model in DPGMM_var1_EPI1]"
     ],
     "language": "python",
     "metadata": {},
     "outputs": []
    },
    {
     "cell_type": "heading",
     "level": 4,
     "metadata": {},
     "source": [
      "Result for EPI1 AIC is 3 clusters & alpha = 0.1 is best. Using BIC, 2 clusters came out as optimal."
     ]
    },
    {
     "cell_type": "code",
     "collapsed": false,
     "input": [
      "plt.plot(bicList1_EPI1)"
     ],
     "language": "python",
     "metadata": {},
     "outputs": []
    },
    {
     "cell_type": "code",
     "collapsed": false,
     "input": [
      "k_range = range(1,10)\n",
      "\n",
      "# Fit kmeans model for each n_cluster = k\n",
      "DPGMM_var1_EPI2 = [DPGMM(n_components=k, n_iter=100, alpha=0.1).fit(Kmeans_EPI2_arr)for k in k_range]"
     ],
     "language": "python",
     "metadata": {},
     "outputs": []
    },
    {
     "cell_type": "code",
     "collapsed": false,
     "input": [
      "bicList1_EPI2 = [model.aic(Kmeans_EPI2_arr) for model in DPGMM_var1_EPI2]"
     ],
     "language": "python",
     "metadata": {},
     "outputs": []
    },
    {
     "cell_type": "heading",
     "level": 4,
     "metadata": {},
     "source": [
      "Result for EPI2 AIC is 2 clusters & alpha = 0.1 is best. Using BIC also gave 2 clusters as being optimal."
     ]
    },
    {
     "cell_type": "code",
     "collapsed": false,
     "input": [
      "plt.plot(bicList1_EPI2)"
     ],
     "language": "python",
     "metadata": {},
     "outputs": []
    },
    {
     "cell_type": "code",
     "collapsed": false,
     "input": [
      "k_range = range(1,10)\n",
      "\n",
      "# Fit kmeans model for each n_cluster = k\n",
      "DPGMM_var2_EPI1 = [DPGMM(n_components=k, n_iter=100, alpha=0.5).fit(Kmeans_EPI1_arr)for k in k_range]"
     ],
     "language": "python",
     "metadata": {},
     "outputs": []
    },
    {
     "cell_type": "code",
     "collapsed": false,
     "input": [
      "bicList2_EPI1 = [model.aic(Kmeans_EPI1_arr) for model in DPGMM_var2_EPI1]"
     ],
     "language": "python",
     "metadata": {},
     "outputs": []
    },
    {
     "cell_type": "heading",
     "level": 4,
     "metadata": {},
     "source": [
      "Result for EPI1 is 5-6 clusters with alpha = 0.5"
     ]
    },
    {
     "cell_type": "code",
     "collapsed": false,
     "input": [
      "plt.plot(bicList2_EPI1)"
     ],
     "language": "python",
     "metadata": {},
     "outputs": []
    },
    {
     "cell_type": "code",
     "collapsed": false,
     "input": [
      "k_range = range(1,10)\n",
      "\n",
      "# Fit kmeans model for each n_cluster = k\n",
      "DPGMM_var2_EPI2 = [DPGMM(n_components=k, n_iter=100, alpha=0.5).fit(Kmeans_EPI2_arr)for k in k_range]"
     ],
     "language": "python",
     "metadata": {},
     "outputs": []
    },
    {
     "cell_type": "code",
     "collapsed": false,
     "input": [
      "bicList2_EPI2 = [model.aic(Kmeans_EPI2_arr) for model in DPGMM_var2_EPI2]"
     ],
     "language": "python",
     "metadata": {},
     "outputs": []
    },
    {
     "cell_type": "heading",
     "level": 4,
     "metadata": {},
     "source": [
      "Result for EPI2 is 2 clusters best with alpha= 0.5"
     ]
    },
    {
     "cell_type": "code",
     "collapsed": false,
     "input": [
      "plt.plot(bicList2_EPI2)"
     ],
     "language": "python",
     "metadata": {},
     "outputs": []
    },
    {
     "cell_type": "code",
     "collapsed": false,
     "input": [
      "k_range = range(1,10)\n",
      "\n",
      "# Fit kmeans model for each n_cluster = k\n",
      "DPGMM_var3_EPI1 = [DPGMM(n_components=k, n_iter=100, alpha=0.5).fit(Kmeans_EPI1_arr[0::2,:])for k in k_range]"
     ],
     "language": "python",
     "metadata": {},
     "outputs": []
    },
    {
     "cell_type": "code",
     "collapsed": false,
     "input": [
      "bicList3_EPI1 = [model.aic(Kmeans_EPI1_arr[0::2,:]) for model in DPGMM_var3_EPI1]   #### SHouldnt this be Kmeans_EPI1_arr[0::2,:]   ????"
     ],
     "language": "python",
     "metadata": {},
     "outputs": []
    },
    {
     "cell_type": "heading",
     "level": 4,
     "metadata": {},
     "source": [
      "Result for EPI1 using every other window to better mimic EPI2 in terms of data point, gives 4 clusters as best, with alpha=0.5"
     ]
    },
    {
     "cell_type": "code",
     "collapsed": false,
     "input": [
      "plt.plot(bicList3_EPI1)"
     ],
     "language": "python",
     "metadata": {},
     "outputs": []
    },
    {
     "cell_type": "code",
     "collapsed": false,
     "input": [
      "EPI1_centroid0 = DPGMM_var3_EPI1[3].means_[0,:].reshape(19,19,order='F')\n",
      "EPI1_centroid1 = DPGMM_var3_EPI1[3].means_[1,:].reshape(19,19,order='F')\n",
      "EPI1_centroid2 = DPGMM_var3_EPI1[3].means_[2,:].reshape(19,19,order='F')\n",
      "EPI1_centroid3 = DPGMM_var3_EPI1[3].means_[3,:].reshape(19,19,order='F')"
     ],
     "language": "python",
     "metadata": {},
     "outputs": []
    },
    {
     "cell_type": "code",
     "collapsed": false,
     "input": [
      "plt.subplot(141)\n",
      "plt.imshow(EPI1_centroid0, interpolation = 'nearest')\n",
      "plt.clim(-0.5,0.5)\n",
      "plt.subplot(142)\n",
      "plt.imshow(EPI1_centroid1, interpolation = 'nearest')\n",
      "plt.clim(-0.5,0.5)\n",
      "plt.subplot(143)\n",
      "plt.imshow(EPI1_centroid2, interpolation = 'nearest')\n",
      "plt.clim(-0.5,0.5)\n",
      "plt.subplot(144)\n",
      "plt.imshow(EPI1_centroid3, interpolation = 'nearest')\n",
      "plt.clim(-0.5,0.5)"
     ],
     "language": "python",
     "metadata": {},
     "outputs": []
    },
    {
     "cell_type": "code",
     "collapsed": false,
     "input": [
      "np.where(DPGMM_var3_EPI1[3].predict(Kmeans_EPI1_arr[0::2,:])==0)[0]   ###  ==3 means centroid 3"
     ],
     "language": "python",
     "metadata": {},
     "outputs": []
    },
    {
     "cell_type": "code",
     "collapsed": false,
     "input": [
      "np.where(DPGMM_var3_EPI1[3].predict(Kmeans_EPI1_arr[0::2,:])==1)[0]"
     ],
     "language": "python",
     "metadata": {},
     "outputs": []
    },
    {
     "cell_type": "code",
     "collapsed": false,
     "input": [
      "np.where(DPGMM_var3_EPI1[3].predict(Kmeans_EPI1_arr[0::2,:])==2)[0]"
     ],
     "language": "python",
     "metadata": {},
     "outputs": []
    },
    {
     "cell_type": "code",
     "collapsed": false,
     "input": [
      "np.where(DPGMM_var3_EPI1[3].predict(Kmeans_EPI1_arr[0::2,:])==3)[0]"
     ],
     "language": "python",
     "metadata": {},
     "outputs": []
    },
    {
     "cell_type": "code",
     "collapsed": false,
     "input": [
      "k_range = range(1,10)\n",
      "\n",
      "# Fit kmeans model for each n_cluster = k\n",
      "DPGMM_var4_EPI1 = [DPGMM(n_components=k, n_iter=100, alpha=0.75).fit(Kmeans_EPI1_arr)for k in k_range]"
     ],
     "language": "python",
     "metadata": {},
     "outputs": []
    },
    {
     "cell_type": "code",
     "collapsed": false,
     "input": [
      "bicList4_EPI1 = [model.aic(Kmeans_EPI1_arr) for model in DPGMM_var4_EPI1]"
     ],
     "language": "python",
     "metadata": {},
     "outputs": []
    },
    {
     "cell_type": "code",
     "collapsed": false,
     "input": [
      "plt.plot(bicList4_EPI1)"
     ],
     "language": "python",
     "metadata": {},
     "outputs": []
    },
    {
     "cell_type": "code",
     "collapsed": false,
     "input": [
      "k_range = range(1,10)\n",
      "\n",
      "# Fit kmeans model for each n_cluster = k\n",
      "DPGMM_var4_EPI2 = [DPGMM(n_components=k, n_iter=100, alpha=0.75).fit(Kmeans_EPI2_arr)for k in k_range]"
     ],
     "language": "python",
     "metadata": {},
     "outputs": []
    },
    {
     "cell_type": "code",
     "collapsed": false,
     "input": [
      "bicList4_EPI2 = [model.aic(Kmeans_EPI2_arr) for model in DPGMM_var4_EPI2]"
     ],
     "language": "python",
     "metadata": {},
     "outputs": []
    },
    {
     "cell_type": "code",
     "collapsed": false,
     "input": [
      "plt.plot(bicList4_EPI2)"
     ],
     "language": "python",
     "metadata": {},
     "outputs": []
    },
    {
     "cell_type": "code",
     "collapsed": false,
     "input": [
      "k_range = range(1,10)\n",
      "\n",
      "# Fit kmeans model for each n_cluster = k\n",
      "DPGMM_var5_EPI1 = [DPGMM(n_components=k, n_iter=100, alpha=0.75).fit(Kmeans_EPI1_arr[0::2,:])for k in k_range]"
     ],
     "language": "python",
     "metadata": {},
     "outputs": []
    },
    {
     "cell_type": "code",
     "collapsed": false,
     "input": [
      "bicList5_EPI1 = [model.aic(Kmeans_EPI1_arr[0::2,:]) for model in DPGMM_var5_EPI1]"
     ],
     "language": "python",
     "metadata": {},
     "outputs": []
    },
    {
     "cell_type": "code",
     "collapsed": false,
     "input": [
      "plt.plot(bicList5_EPI1)"
     ],
     "language": "python",
     "metadata": {},
     "outputs": []
    },
    {
     "cell_type": "code",
     "collapsed": false,
     "input": [
      "k_range = range(1,10)\n",
      "\n",
      "# Fit kmeans model for each n_cluster = k\n",
      "DPGMM_var6_EPI1 = [DPGMM(n_components=k, n_iter=100, alpha=1).fit(Kmeans_EPI1_arr)for k in k_range]"
     ],
     "language": "python",
     "metadata": {},
     "outputs": []
    },
    {
     "cell_type": "code",
     "collapsed": false,
     "input": [
      "bicList6_EPI1 = [model.aic(Kmeans_EPI1_arr) for model in DPGMM_var6_EPI1]"
     ],
     "language": "python",
     "metadata": {},
     "outputs": []
    },
    {
     "cell_type": "code",
     "collapsed": false,
     "input": [
      "plt.plot(bicList6_EPI1)"
     ],
     "language": "python",
     "metadata": {},
     "outputs": []
    },
    {
     "cell_type": "code",
     "collapsed": false,
     "input": [
      "print(Kmeans_EPI2_arr[0:10312:4,:].shape)\n",
      "print(Kmeans_EPI1_arr[0::2,:].shape)"
     ],
     "language": "python",
     "metadata": {},
     "outputs": [
      {
       "output_type": "stream",
       "stream": "stdout",
       "text": [
        "(2578, 361)\n",
        "(2480, 361)\n"
       ]
      }
     ],
     "prompt_number": 17
    },
    {
     "cell_type": "code",
     "collapsed": false,
     "input": [
      "k_range = range(1,10)\n",
      "\n",
      "# Fit kmeans model for each n_cluster = k\n",
      "DPGMM_var6_EPI2 = [DPGMM(n_components=k, n_iter=100, alpha=1).fit(Kmeans_EPI2_arr)for k in k_range]"
     ],
     "language": "python",
     "metadata": {},
     "outputs": [],
     "prompt_number": 12
    },
    {
     "cell_type": "code",
     "collapsed": false,
     "input": [
      "k_range = range(1,10)\n",
      "\n",
      "# Fit kmeans model for each n_cluster = k\n",
      "DPGMM_var6_EPI2 = [DPGMM(n_components=k, n_iter=100, alpha=1).fit(Kmeans_EPI2_arr[0:10312:4,:])for k in k_range]"
     ],
     "language": "python",
     "metadata": {},
     "outputs": [],
     "prompt_number": 18
    },
    {
     "cell_type": "code",
     "collapsed": false,
     "input": [
      "bicList6_EPI2 = [model.aic(Kmeans_EPI2_arr) for model in DPGMM_var6_EPI2]"
     ],
     "language": "python",
     "metadata": {},
     "outputs": [],
     "prompt_number": 19
    },
    {
     "cell_type": "code",
     "collapsed": false,
     "input": [
      "plt.plot(bicList6_EPI2)"
     ],
     "language": "python",
     "metadata": {},
     "outputs": [
      {
       "metadata": {},
       "output_type": "pyout",
       "prompt_number": 20,
       "text": [
        "[<matplotlib.lines.Line2D at 0x10960c550>]"
       ]
      },
      {
       "metadata": {},
       "output_type": "display_data",
       "png": "[encoded data removed]",
       "text": [
        "<matplotlib.figure.Figure at 0x10979be80>"
       ]
      }
     ],
     "prompt_number": 20
    },
    {
     "cell_type": "code",
     "collapsed": false,
     "input": [
      "bicList6_EPI2"
     ],
     "language": "python",
     "metadata": {},
     "outputs": [
      {
       "metadata": {},
       "output_type": "pyout",
       "prompt_number": 23,
       "text": [
        "[12843254.924052155,\n",
        " 12825403.889476836,\n",
        " 12824930.096036781,\n",
        " 12825887.830215143,\n",
        " 12827043.992762424,\n",
        " 12829085.83749298,\n",
        " 12830585.96685881,\n",
        " 12832054.309329942,\n",
        " 12833239.294114074]"
       ]
      }
     ],
     "prompt_number": 23
    },
    {
     "cell_type": "code",
     "collapsed": false,
     "input": [
      "k_range = range(1,10)\n",
      "\n",
      "# Fit kmeans model for each n_cluster = k\n",
      "DPGMM_var7_EPI1 = [DPGMM(n_components=k, n_iter=100, alpha=1).fit(Kmeans_EPI1_arr[0::2,:])for k in k_range]"
     ],
     "language": "python",
     "metadata": {},
     "outputs": [],
     "prompt_number": 24
    },
    {
     "cell_type": "code",
     "collapsed": false,
     "input": [
      "bicList7_EPI1 = [model.aic(Kmeans_EPI1_arr[0::2,:]) for model in DPGMM_var7_EPI1]"
     ],
     "language": "python",
     "metadata": {},
     "outputs": [],
     "prompt_number": 25
    },
    {
     "cell_type": "code",
     "collapsed": false,
     "input": [
      "plt.plot(bicList7_EPI1)"
     ],
     "language": "python",
     "metadata": {},
     "outputs": [
      {
       "metadata": {},
       "output_type": "pyout",
       "prompt_number": 26,
       "text": [
        "[<matplotlib.lines.Line2D at 0x103ec8c88>]"
       ]
      },
      {
       "metadata": {},
       "output_type": "display_data",
       "png": "[encoded data removed]",
       "text": [
        "<matplotlib.figure.Figure at 0x10390de48>"
       ]
      }
     ],
     "prompt_number": 26
    },
    {
     "cell_type": "code",
     "collapsed": false,
     "input": [
      "DPGMM_EPI1_skipFinal = DPGMM(n_components=2, n_iter=100).fit(Kmeans_EPI1_arr[0::2,:])"
     ],
     "language": "python",
     "metadata": {},
     "outputs": [],
     "prompt_number": 27
    },
    {
     "cell_type": "code",
     "collapsed": false,
     "input": [
      "print(Kmeans_EPI1_arr[0::2,:].shape)\n",
      "print(Kmeans_EPI2_arr[0:10312:4,:].shape)"
     ],
     "language": "python",
     "metadata": {},
     "outputs": [
      {
       "output_type": "stream",
       "stream": "stdout",
       "text": [
        "(2480, 361)\n",
        "(2578, 361)\n"
       ]
      }
     ],
     "prompt_number": 28
    },
    {
     "cell_type": "code",
     "collapsed": false,
     "input": [
      "DPGMM_EPI2_Final = DPGMM(n_components=3, n_iter=100).fit(Kmeans_EPI2_arr[0:10312:4,:])"
     ],
     "language": "python",
     "metadata": {},
     "outputs": [],
     "prompt_number": 29
    },
    {
     "cell_type": "code",
     "collapsed": false,
     "input": [
      "EPI1_centroid0 = DPGMM_EPI1_skipFinal.means_[0,:].reshape(19,19,order='F')\n",
      "EPI1_centroid1 = DPGMM_EPI1_skipFinal.means_[1,:].reshape(19,19,order='F')\n",
      "#EPI1_centroid2 = DPGMM_EPI1_skipFinal.means_[2,:].reshape(19,19,order='F')\n",
      "\n",
      "EPI2_centroid0 = DPGMM_EPI2_Final.means_[0,:].reshape(19,19,order='F')\n",
      "EPI2_centroid1 = DPGMM_EPI2_Final.means_[1,:].reshape(19,19,order='F')\n",
      "EPI2_centroid2 = DPGMM_EPI2_Final.means_[2,:].reshape(19,19,order='F')"
     ],
     "language": "python",
     "metadata": {},
     "outputs": [],
     "prompt_number": 30
    },
    {
     "cell_type": "code",
     "collapsed": false,
     "input": [
      "#Recalculating the mean matrix in order to add it into the de-meaned DPGMM clusters to make them more interpretable\n",
      "\n",
      "Kmeans_EPI1_arrb = np.array(Kmeans_EPI1)\n",
      "Kmeans_EPI1_arrb = np.transpose(Kmeans_EPI1_arrb,[2,1,0]).reshape(361,-1,order='F')\n",
      "Kmeans_EPI1_arrb = Kmeans_EPI1_arrb.T\n",
      "print(Kmeans_EPI1_arrb.shape)\n",
      "\n",
      "Kmeans_EPI2_arrb = np.array(Kmeans_EPI2)\n",
      "Kmeans_EPI2_arrb = np.transpose(Kmeans_EPI2_arrb,[2,1,0]).reshape(361,-1,order='F')\n",
      "Kmeans_EPI2_arrb = Kmeans_EPI2_arrb.T\n",
      "print(Kmeans_EPI2_arrb.shape)\n",
      "\n",
      "testConcatb_EPI1 = np.mean(Kmeans_EPI1_arrb,axis=0).reshape(19,19)\n",
      "testConcatb_EPI2 = np.mean(Kmeans_EPI2_arrb,axis=0).reshape(19,19)\n"
     ],
     "language": "python",
     "metadata": {},
     "outputs": [
      {
       "output_type": "stream",
       "stream": "stdout",
       "text": [
        "(4960, 361)\n",
        "(12288, 361)"
       ]
      },
      {
       "output_type": "stream",
       "stream": "stdout",
       "text": [
        "\n"
       ]
      }
     ],
     "prompt_number": 31
    },
    {
     "cell_type": "code",
     "collapsed": false,
     "input": [
      "#plotting de-meaned DPGMM clusters on top of the mean for EPI1 \n",
      "\n",
      "plt.subplot(121)\n",
      "plt.imshow(EPI1_centroid0+testConcatb_EPI1, interpolation = 'nearest')\n",
      "plt.clim(-.6,.6)\n",
      "plt.subplot(122)\n",
      "plt.imshow(EPI1_centroid1+testConcatb_EPI1, interpolation = 'nearest')\n",
      "plt.clim(-.6,.6)"
     ],
     "language": "python",
     "metadata": {},
     "outputs": [
      {
       "metadata": {},
       "output_type": "display_data",
       "png": "[encoded data removed]",
       "text": [
        "<matplotlib.figure.Figure at 0x10472aa58>"
       ]
      }
     ],
     "prompt_number": 32
    },
    {
     "cell_type": "code",
     "collapsed": false,
     "input": [
      "#plotting de-meaned DPGMM clusters on top of the mean for EPI1 \n",
      "\n",
      "plt.subplot(131)\n",
      "plt.imshow(EPI2_centroid0+testConcatb_EPI2, interpolation = 'nearest')\n",
      "plt.clim(-.6,.6)\n",
      "plt.subplot(132)\n",
      "plt.imshow(EPI2_centroid1+testConcatb_EPI2, interpolation = 'nearest')\n",
      "plt.clim(-.6,.6)\n",
      "plt.subplot(133)\n",
      "plt.imshow(EPI2_centroid2+testConcatb_EPI2, interpolation = 'nearest')\n",
      "plt.clim(-.6,.6)"
     ],
     "language": "python",
     "metadata": {},
     "outputs": [
      {
       "metadata": {},
       "output_type": "display_data",
       "png": "[encoded data removed]",
       "text": [
        "<matplotlib.figure.Figure at 0x10ff6a5f8>"
       ]
      }
     ],
     "prompt_number": 33
    },
    {
     "cell_type": "code",
     "collapsed": false,
     "input": [
      "import networkx as nx\n",
      "gw_EPI1_centroid0=nx.Graph(EPI1_centroid0+testConcatb_EPI1)\n",
      "gw_EPI1_centroid1=nx.Graph(EPI1_centroid1+testConcatb_EPI1)\n",
      "#nx.write_gexf(g, 'rois_EPI2_test.gexf')\n",
      "print (gw_EPI1_centroid0.nodes())"
     ],
     "language": "python",
     "metadata": {},
     "outputs": [
      {
       "output_type": "stream",
       "stream": "stdout",
       "text": [
        "[0, 1, 2, 3, 4, 5, 6, 7, 8, 9, 10, 11, 12, 13, 14, 15, 16, 17, 18]\n"
       ]
      }
     ],
     "prompt_number": 20
    },
    {
     "cell_type": "code",
     "collapsed": false,
     "input": [
      "gw_EPI1_centroid0.edges(data=True)"
     ],
     "language": "python",
     "metadata": {},
     "outputs": [
      {
       "metadata": {},
       "output_type": "pyout",
       "prompt_number": 21,
       "text": [
        "[(0, 0, {'weight': 1.0}),\n",
        " (0, 1, {'weight': 0.6802790967082042}),\n",
        " (0, 2, {'weight': 0.31939202814119594}),\n",
        " (0, 3, {'weight': 0.3666477957266947}),\n",
        " (0, 4, {'weight': 0.4845614066859755}),\n",
        " (0, 5, {'weight': 0.4543879774722429}),\n",
        " (0, 6, {'weight': 0.30283948572962965}),\n",
        " (0, 7, {'weight': 0.43646717863521384}),\n",
        " (0, 8, {'weight': 0.411334314545653}),\n",
        " (0, 9, {'weight': 0.36606674143355533}),\n",
        " (0, 10, {'weight': 0.3397337237801606}),\n",
        " (0, 11, {'weight': 0.24410994976147882}),\n",
        " (0, 12, {'weight': 0.19157153482944783}),\n",
        " (0, 13, {'weight': 0.33063644379520307}),\n",
        " (0, 14, {'weight': 0.3421315718137512}),\n",
        " (0, 15, {'weight': 0.3356758019012973}),\n",
        " (0, 16, {'weight': 0.31560572617541166}),\n",
        " (0, 17, {'weight': 0.34513173087385707}),\n",
        " (0, 18, {'weight': 0.3148196897269151}),\n",
        " (1, 1, {'weight': 1.0}),\n",
        " (1, 2, {'weight': 0.43178292117376366}),\n",
        " (1, 3, {'weight': 0.43116608855820454}),\n",
        " (1, 4, {'weight': 0.5288825361438358}),\n",
        " (1, 5, {'weight': 0.4493827024877117}),\n",
        " (1, 6, {'weight': 0.2621538714408568}),\n",
        " (1, 7, {'weight': 0.3510728902325816}),\n",
        " (1, 8, {'weight': 0.34837831714027456}),\n",
        " (1, 9, {'weight': 0.26179563275391504}),\n",
        " (1, 10, {'weight': 0.23854029976711422}),\n",
        " (1, 11, {'weight': 0.23612998059474258}),\n",
        " (1, 12, {'weight': 0.20664422230750967}),\n",
        " (1, 13, {'weight': 0.3109872331059432}),\n",
        " (1, 14, {'weight': 0.3513016353062403}),\n",
        " (1, 15, {'weight': 0.2847905134519483}),\n",
        " (1, 16, {'weight': 0.25467126391005807}),\n",
        " (1, 17, {'weight': 0.26839719047737043}),\n",
        " (1, 18, {'weight': 0.24780191032130486}),\n",
        " (2, 2, {'weight': 1.0}),\n",
        " (2, 3, {'weight': 0.6180700811018652}),\n",
        " (2, 4, {'weight': 0.33766001380462063}),\n",
        " (2, 5, {'weight': 0.28845530765455074}),\n",
        " (2, 6, {'weight': 0.24118159048065912}),\n",
        " (2, 7, {'weight': 0.30056825498274564}),\n",
        " (2, 8, {'weight': 0.30753074450923495}),\n",
        " (2, 9, {'weight': 0.2349996351019917}),\n",
        " (2, 10, {'weight': 0.2547175402132431}),\n",
        " (2, 11, {'weight': 0.2156551337769284}),\n",
        " (2, 12, {'weight': 0.2013965389260156}),\n",
        " (2, 13, {'weight': 0.24611644249668801}),\n",
        " (2, 14, {'weight': 0.23840657309539745}),\n",
        " (2, 15, {'weight': 0.24431681292121174}),\n",
        " (2, 16, {'weight': 0.1758406915330024}),\n",
        " (2, 17, {'weight': 0.1566348562952476}),\n",
        " (2, 18, {'weight': 0.1880576846023224}),\n",
        " (3, 3, {'weight': 1.0}),\n",
        " (3, 4, {'weight': 0.3095370067508391}),\n",
        " (3, 5, {'weight': 0.29738347779104646}),\n",
        " (3, 6, {'weight': 0.23725863529636562}),\n",
        " (3, 7, {'weight': 0.26584184064524125}),\n",
        " (3, 8, {'weight': 0.25760962073151344}),\n",
        " (3, 9, {'weight': 0.21601117524422742}),\n",
        " (3, 10, {'weight': 0.2475170837067921}),\n",
        " (3, 11, {'weight': 0.23112740887827646}),\n",
        " (3, 12, {'weight': 0.20812557464453157}),\n",
        " (3, 13, {'weight': 0.22893116702897287}),\n",
        " (3, 14, {'weight': 0.24714944055416221}),\n",
        " (3, 15, {'weight': 0.23655038531417147}),\n",
        " (3, 16, {'weight': 0.23355388505498814}),\n",
        " (3, 17, {'weight': 0.16657722852211165}),\n",
        " (3, 18, {'weight': 0.22577507371578168}),\n",
        " (4, 4, {'weight': 1.0}),\n",
        " (4, 5, {'weight': 0.5510190986652272}),\n",
        " (4, 6, {'weight': 0.23021409847126134}),\n",
        " (4, 7, {'weight': 0.4005082662095142}),\n",
        " (4, 8, {'weight': 0.39262342357542135}),\n",
        " (4, 9, {'weight': 0.3139319718757957}),\n",
        " (4, 10, {'weight': 0.2812797932815597}),\n",
        " (4, 11, {'weight': 0.2696630061659655}),\n",
        " (4, 12, {'weight': 0.1971433716217172}),\n",
        " (4, 13, {'weight': 0.4339631779105301}),\n",
        " (4, 14, {'weight': 0.45451436052185645}),\n",
        " (4, 15, {'weight': 0.3290833268197006}),\n",
        " (4, 16, {'weight': 0.28176321972376484}),\n",
        " (4, 17, {'weight': 0.286615417119404}),\n",
        " (4, 18, {'weight': 0.26340912448514286}),\n",
        " (5, 5, {'weight': 1.0}),\n",
        " (5, 6, {'weight': 0.26588545619280113}),\n",
        " (5, 7, {'weight': 0.3648158192429044}),\n",
        " (5, 8, {'weight': 0.350312907844479}),\n",
        " (5, 9, {'weight': 0.265969690111083}),\n",
        " (5, 10, {'weight': 0.24815274991198386}),\n",
        " (5, 11, {'weight': 0.23405676764657768}),\n",
        " (5, 12, {'weight': 0.15961801372712922}),\n",
        " (5, 13, {'weight': 0.3268235097549164}),\n",
        " (5, 14, {'weight': 0.3901704670534647}),\n",
        " (5, 15, {'weight': 0.3003870094048956}),\n",
        " (5, 16, {'weight': 0.2827686454386667}),\n",
        " (5, 17, {'weight': 0.24329196089825922}),\n",
        " (5, 18, {'weight': 0.26468322711812176}),\n",
        " (6, 6, {'weight': 1.0}),\n",
        " (6, 7, {'weight': 0.3425280653728452}),\n",
        " (6, 8, {'weight': 0.30825599019297606}),\n",
        " (6, 9, {'weight': 0.4158687709485885}),\n",
        " (6, 10, {'weight': 0.3866695309053196}),\n",
        " (6, 11, {'weight': 0.3278680503317209}),\n",
        " (6, 12, {'weight': 0.2484329655413367}),\n",
        " (6, 13, {'weight': 0.2530724663085724}),\n",
        " (6, 14, {'weight': 0.24742250944509298}),\n",
        " (6, 15, {'weight': 0.3523436664629101}),\n",
        " (6, 16, {'weight': 0.2652930433491075}),\n",
        " (6, 17, {'weight': 0.3153951496213521}),\n",
        " (6, 18, {'weight': 0.3347507103690911}),\n",
        " (7, 7, {'weight': 1.0}),\n",
        " (7, 8, {'weight': 0.7419551149167466}),\n",
        " (7, 9, {'weight': 0.5340665131273004}),\n",
        " (7, 10, {'weight': 0.5084695601407258}),\n",
        " (7, 11, {'weight': 0.2807248108184748}),\n",
        " (7, 12, {'weight': 0.2294574076206309}),\n",
        " (7, 13, {'weight': 0.3473865836913971}),\n",
        " (7, 14, {'weight': 0.3670617570649084}),\n",
        " (7, 15, {'weight': 0.3952445716246465}),\n",
        " (7, 16, {'weight': 0.3342178234913289}),\n",
        " (7, 17, {'weight': 0.46992983183735754}),\n",
        " (7, 18, {'weight': 0.441662354020125}),\n",
        " (8, 8, {'weight': 1.0}),\n",
        " (8, 9, {'weight': 0.49331592602813}),\n",
        " (8, 10, {'weight': 0.4753444043511704}),\n",
        " (8, 11, {'weight': 0.2616023254770343}),\n",
        " (8, 12, {'weight': 0.22323915110276338}),\n",
        " (8, 13, {'weight': 0.3342145782204978}),\n",
        " (8, 14, {'weight': 0.34812173721811585}),\n",
        " (8, 15, {'weight': 0.3794692803874824}),\n",
        " (8, 16, {'weight': 0.31495292851470025}),\n",
        " (8, 17, {'weight': 0.41917124673106426}),\n",
        " (8, 18, {'weight': 0.4000764731875174}),\n",
        " (9, 9, {'weight': 1.0}),\n",
        " (9, 10, {'weight': 0.6289274256318191}),\n",
        " (9, 11, {'weight': 0.313155228334232}),\n",
        " (9, 12, {'weight': 0.23628860584064504}),\n",
        " (9, 13, {'weight': 0.29672784906238786}),\n",
        " (9, 14, {'weight': 0.2857374880932899}),\n",
        " (9, 15, {'weight': 0.4284903438074937}),\n",
        " (9, 16, {'weight': 0.3609904063677999}),\n",
        " (9, 17, {'weight': 0.4774473979322727}),\n",
        " (9, 18, {'weight': 0.40050715356692346}),\n",
        " (10, 10, {'weight': 1.0}),\n",
        " (10, 11, {'weight': 0.3058189142848715}),\n",
        " (10, 12, {'weight': 0.2496159250214454}),\n",
        " (10, 13, {'weight': 0.2454799282334215}),\n",
        " (10, 14, {'weight': 0.2896492851741097}),\n",
        " (10, 15, {'weight': 0.41367649891553965}),\n",
        " (10, 16, {'weight': 0.4420523966110604}),\n",
        " (10, 17, {'weight': 0.43527044691673983}),\n",
        " (10, 18, {'weight': 0.4247145116132066}),\n",
        " (11, 11, {'weight': 1.0}),\n",
        " (11, 12, {'weight': 0.5614129001174378}),\n",
        " (11, 13, {'weight': 0.22911681602007267}),\n",
        " (11, 14, {'weight': 0.23436271264164432}),\n",
        " (11, 15, {'weight': 0.2967928895442788}),\n",
        " (11, 16, {'weight': 0.21693778306936606}),\n",
        " (11, 17, {'weight': 0.2024666342642724}),\n",
        " (11, 18, {'weight': 0.22686863733743484}),\n",
        " (12, 12, {'weight': 1.0}),\n",
        " (12, 13, {'weight': 0.1685512623937942}),\n",
        " (12, 14, {'weight': 0.18396861135579257}),\n",
        " (12, 15, {'weight': 0.23726218587834524}),\n",
        " (12, 16, {'weight': 0.1828168705281002}),\n",
        " (12, 17, {'weight': 0.1587654345807067}),\n",
        " (12, 18, {'weight': 0.17785715882088973}),\n",
        " (13, 13, {'weight': 1.0}),\n",
        " (13, 14, {'weight': 0.5984802180431722}),\n",
        " (13, 15, {'weight': 0.28002516567819424}),\n",
        " (13, 16, {'weight': 0.21615070374104967}),\n",
        " (13, 17, {'weight': 0.26831213771205525}),\n",
        " (13, 18, {'weight': 0.2568518462926124}),\n",
        " (14, 14, {'weight': 1.0}),\n",
        " (14, 15, {'weight': 0.29820945087370904}),\n",
        " (14, 16, {'weight': 0.2787844613299182}),\n",
        " (14, 17, {'weight': 0.2889978719910668}),\n",
        " (14, 18, {'weight': 0.29784639556523856}),\n",
        " (15, 15, {'weight': 1.0}),\n",
        " (15, 16, {'weight': 0.6005150437457875}),\n",
        " (15, 17, {'weight': 0.4409423911677595}),\n",
        " (15, 18, {'weight': 0.3870590467334592}),\n",
        " (16, 16, {'weight': 1.0}),\n",
        " (16, 17, {'weight': 0.38688328362517893}),\n",
        " (16, 18, {'weight': 0.3631163653493183}),\n",
        " (17, 17, {'weight': 1.0}),\n",
        " (17, 18, {'weight': 0.5880566219308594}),\n",
        " (18, 18, {'weight': 1.0})]"
       ]
      }
     ],
     "prompt_number": 21
    },
    {
     "cell_type": "code",
     "collapsed": false,
     "input": [
      "rois = {0:\"rPCCx\",\n",
      "        1:\"lPCCx\",\n",
      "        2:\"lAngG\",\n",
      "        3:\"rAngG\",\n",
      "        4:\"lParaHC\",\n",
      "        5:\"rParaHC\",\n",
      "        6:\"ACCx\",\n",
      "        7:\"l.dPPCx\",\n",
      "        8:\"r.dPPCx\",\n",
      "        9:\"l.dlPFCx\",\n",
      "        10:\"r.dlPFCx\",\n",
      "        11:\"lCaud\",\n",
      "        12:\"rCaud\",\n",
      "        13:\"lAMY\",\n",
      "        14:\"rAMY\",\n",
      "        15:\"lAI\",\n",
      "        16:\"rAI\",\n",
      "        17:\"lTPJ\",\n",
      "        18:\"rTPJ\",\n",
      "        19:\"lCaud\"}\n",
      "print(rois)"
     ],
     "language": "python",
     "metadata": {},
     "outputs": [
      {
       "output_type": "stream",
       "stream": "stdout",
       "text": [
        "{0: 'rPCCx', 1: 'lPCCx', 2: 'lAngG', 3: 'rAngG', 4: 'lParaHC', 5: 'rParaHC', 6: 'ACCx', 7: 'l.dPPCx', 8: 'r.dPPCx', 9: 'l.dlPFCx', 10: 'r.dlPFCx', 11: 'lCaud', 12: 'rCaud', 13: 'lAMY', 14: 'rAMY', 15: 'lAI', 16: 'rAI', 17: 'lTPJ', 18: 'rTPJ', 19: 'lCaud'}\n"
       ]
      }
     ],
     "prompt_number": 22
    },
    {
     "cell_type": "code",
     "collapsed": false,
     "input": [
      "gw_EPI1_Centr0_labeled=nx.relabel_nodes(gw_EPI1_centroid0,rois)\n",
      "gw_EPI1_Centr1_labeled=nx.relabel_nodes(gw_EPI1_centroid1,rois)\n",
      "\n",
      "print (gw_EPI1_Centr0_labeled.nodes())\n",
      "print (gw_EPI1_Centr1_labeled.nodes())"
     ],
     "language": "python",
     "metadata": {},
     "outputs": [
      {
       "output_type": "stream",
       "stream": "stdout",
       "text": [
        "['lParaHC', 'rParaHC', 'r.dlPFCx', 'l.dlPFCx', 'rTPJ', 'rPCCx', 'lCaud', 'rAI', 'lTPJ', 'lAngG', 'rAMY', 'ACCx', 'lAI', 'rCaud', 'rAngG', 'l.dPPCx', 'r.dPPCx', 'lAMY', 'lPCCx']\n",
        "['lParaHC', 'rParaHC', 'r.dlPFCx', 'l.dlPFCx', 'rTPJ', 'rPCCx', 'lCaud', 'rAI', 'lTPJ', 'lAngG', 'rAMY', 'ACCx', 'lAI', 'rCaud', 'rAngG', 'l.dPPCx', 'r.dPPCx', 'lAMY', 'lPCCx']\n"
       ]
      }
     ],
     "prompt_number": 23
    },
    {
     "cell_type": "code",
     "collapsed": false,
     "input": [
      "gw_EPI1_Centr1_labeled.edges(data=True)"
     ],
     "language": "python",
     "metadata": {},
     "outputs": [
      {
       "metadata": {},
       "output_type": "pyout",
       "prompt_number": 24,
       "text": [
        "[('lParaHC', 'lParaHC', {'weight': 1.0}),\n",
        " ('lParaHC', 'lTPJ', {'weight': 0.08474160309622648}),\n",
        " ('lParaHC', 'lAngG', {'weight': 0.25853865220826305}),\n",
        " ('lParaHC', 'rPCCx', {'weight': 0.38852250404210237}),\n",
        " ('lParaHC', 'r.dPPCx', {'weight': 0.21939172787117478}),\n",
        " ('lParaHC', 'rParaHC', {'weight': 0.45221783411457805}),\n",
        " ('lParaHC', 'lCaud', {'weight': 0.1190431106913809}),\n",
        " ('lParaHC', 'r.dlPFCx', {'weight': 0.09713052579126256}),\n",
        " ('lParaHC', 'rAI', {'weight': 0.05340414216223964}),\n",
        " ('lParaHC', 'rCaud', {'weight': 0.08029995640827337}),\n",
        " ('lParaHC', 'ACCx', {'weight': 0.09596503072090477}),\n",
        " ('lParaHC', 'lAI', {'weight': 0.07986775023992497}),\n",
        " ('lParaHC', 'lAMY', {'weight': 0.2802730644244836}),\n",
        " ('lParaHC', 'l.dlPFCx', {'weight': 0.093687643759453}),\n",
        " ('lParaHC', 'rAngG', {'weight': 0.21810963391848687}),\n",
        " ('lParaHC', 'l.dPPCx', {'weight': 0.25605972311881536}),\n",
        " ('lParaHC', 'lPCCx', {'weight': 0.4486540636426999}),\n",
        " ('lParaHC', 'rAMY', {'weight': 0.29189218912477644}),\n",
        " ('lParaHC', 'rTPJ', {'weight': 0.08712504641383952}),\n",
        " ('lTPJ', 'lTPJ', {'weight': 1.0}),\n",
        " ('lTPJ', 'lAngG', {'weight': 0.014785476941119507}),\n",
        " ('lTPJ', 'rPCCx', {'weight': 0.16827820021406553}),\n",
        " ('lTPJ', 'r.dPPCx', {'weight': 0.3148050983599715}),\n",
        " ('lTPJ', 'rParaHC', {'weight': 0.06406711121816615}),\n",
        " ('lTPJ', 'lCaud', {'weight': 0.08692706682737264}),\n",
        " ('lTPJ', 'r.dlPFCx', {'weight': 0.36331127357507065}),\n",
        " ('lTPJ', 'rAI', {'weight': 0.2821574944097771}),\n",
        " ('lTPJ', 'rCaud', {'weight': 0.048708820069153114}),\n",
        " ('lTPJ', 'ACCx', {'weight': 0.22928311081089525}),\n",
        " ('lTPJ', 'lAI', {'weight': 0.32279036914618725}),\n",
        " ('lTPJ', 'lAMY', {'weight': 0.13369027397845337}),\n",
        " ('lTPJ', 'l.dlPFCx', {'weight': 0.42217738741269045}),\n",
        " ('lTPJ', 'rAngG', {'weight': 0.022145963722755457}),\n",
        " ('lTPJ', 'l.dPPCx', {'weight': 0.36562511642624557}),\n",
        " ('lTPJ', 'lPCCx', {'weight': 0.07108126521845085}),\n",
        " ('lTPJ', 'rAMY', {'weight': 0.17657051285684508}),\n",
        " ('lTPJ', 'rTPJ', {'weight': 0.5489022089893402}),\n",
        " ('lAngG', 'lAngG', {'weight': 1.0}),\n",
        " ('lAngG', 'rPCCx', {'weight': 0.2515508699963976}),\n",
        " ('lAngG', 'r.dPPCx', {'weight': 0.1948217494256075}),\n",
        " ('lAngG', 'rParaHC', {'weight': 0.19108704894112993}),\n",
        " ('lAngG', 'lCaud', {'weight': 0.1217797766666407}),\n",
        " ('lAngG', 'r.dlPFCx', {'weight': 0.1170604382072674}),\n",
        " ('lAngG', 'rAI', {'weight': 0.06054735548967436}),\n",
        " ('lAngG', 'rCaud', {'weight': 0.15588365281241962}),\n",
        " ('lAngG', 'ACCx', {'weight': 0.12703805530439347}),\n",
        " ('lAngG', 'lAI', {'weight': 0.15810237882429104}),\n",
        " ('lAngG', 'lAMY', {'weight': 0.1262434456586386}),\n",
        " ('lAngG', 'l.dlPFCx', {'weight': 0.10403217431470596}),\n",
        " ('lAngG', 'rAngG', {'weight': 0.5886840015711173}),\n",
        " ('lAngG', 'l.dPPCx', {'weight': 0.17481758695390212}),\n",
        " ('lAngG', 'lPCCx', {'weight': 0.3541264834547986}),\n",
        " ('lAngG', 'rAMY', {'weight': 0.10785472172336219}),\n",
        " ('lAngG', 'rTPJ', {'weight': 0.04446595664516739}),\n",
        " ('rPCCx', 'rPCCx', {'weight': 1.0}),\n",
        " ('rPCCx', 'r.dPPCx', {'weight': 0.29536684829379517}),\n",
        " ('rPCCx', 'rParaHC', {'weight': 0.3490646916948165}),\n",
        " ('rPCCx', 'lCaud', {'weight': 0.11122637905704774}),\n",
        " ('rPCCx', 'r.dlPFCx', {'weight': 0.17222326761957762}),\n",
        " ('rPCCx', 'rAI', {'weight': 0.10884666495850903}),\n",
        " ('rPCCx', 'rCaud', {'weight': 0.07972472475362194}),\n",
        " ('rPCCx', 'ACCx', {'weight': 0.18301825620374984}),\n",
        " ('rPCCx', 'lAI', {'weight': 0.12237998192377116}),\n",
        " ('rPCCx', 'lAMY', {'weight': 0.20012704058291558}),\n",
        " ('rPCCx', 'l.dlPFCx', {'weight': 0.18168252238613497}),\n",
        " ('rPCCx', 'rAngG', {'weight': 0.3096924628700777}),\n",
        " ('rPCCx', 'l.dPPCx', {'weight': 0.3034963783052088}),\n",
        " ('rPCCx', 'lPCCx', {'weight': 0.6108579352371067}),\n",
        " ('rPCCx', 'rAMY', {'weight': 0.20637953118882693}),\n",
        " ('rPCCx', 'rTPJ', {'weight': 0.15776217061124775}),\n",
        " ('r.dPPCx', 'r.dPPCx', {'weight': 1.0}),\n",
        " ('r.dPPCx', 'rParaHC', {'weight': 0.1847764423181111}),\n",
        " ('r.dPPCx', 'lCaud', {'weight': 0.11577091173156438}),\n",
        " ('r.dPPCx', 'r.dlPFCx', {'weight': 0.369624210496152}),\n",
        " ('r.dPPCx', 'rAI', {'weight': 0.1457980783662059}),\n",
        " ('r.dPPCx', 'rCaud', {'weight': 0.08655500482217487}),\n",
        " ('r.dPPCx', 'ACCx', {'weight': 0.1905652847677074}),\n",
        " ('r.dPPCx', 'lAI', {'weight': 0.2115637605300701}),\n",
        " ('r.dPPCx', 'lAMY', {'weight': 0.19123596437267237}),\n",
        " ('r.dPPCx', 'l.dlPFCx', {'weight': 0.3758336951056025}),\n",
        " ('r.dPPCx', 'rAngG', {'weight': 0.15448788207007}),\n",
        " ('r.dPPCx', 'l.dPPCx', {'weight': 0.6677662706986889}),\n",
        " ('r.dPPCx', 'lPCCx', {'weight': 0.22089605305666735}),\n",
        " ('r.dPPCx', 'rAMY', {'weight': 0.2032680459071662}),\n",
        " ('r.dPPCx', 'rTPJ', {'weight': 0.3442892316617722}),\n",
        " ('rParaHC', 'rParaHC', {'weight': 1.0}),\n",
        " ('rParaHC', 'lCaud', {'weight': 0.06623610496064593}),\n",
        " ('rParaHC', 'r.dlPFCx', {'weight': 0.08021594923735824}),\n",
        " ('rParaHC', 'rAI', {'weight': 0.05853305349342823}),\n",
        " ('rParaHC', 'rCaud', {'weight': 0.021267575416072215}),\n",
        " ('rParaHC', 'ACCx', {'weight': 0.09355935046906601}),\n",
        " ('rParaHC', 'lAI', {'weight': 0.05411573435658014}),\n",
        " ('rParaHC', 'lAMY', {'weight': 0.20809755818685574}),\n",
        " ('rParaHC', 'l.dlPFCx', {'weight': 0.06572288587505254}),\n",
        " ('rParaHC', 'rAngG', {'weight': 0.21356898265786564}),\n",
        " ('rParaHC', 'l.dPPCx', {'weight': 0.22021399622018345}),\n",
        " ('rParaHC', 'lPCCx', {'weight': 0.37273793937350325}),\n",
        " ('rParaHC', 'rAMY', {'weight': 0.25344967784047123}),\n",
        " ('rParaHC', 'rTPJ', {'weight': 0.10465991843808546}),\n",
        " ('lCaud', 'lCaud', {'weight': 1.0}),\n",
        " ('lCaud', 'r.dlPFCx', {'weight': 0.15843854514676775}),\n",
        " ('lCaud', 'rAI', {'weight': 0.09564682110366493}),\n",
        " ('lCaud', 'rCaud', {'weight': 0.5224711994767873}),\n",
        " ('lCaud', 'ACCx', {'weight': 0.22923904364149414}),\n",
        " ('lCaud', 'lAI', {'weight': 0.16677397575803501}),\n",
        " ('lCaud', 'lAMY', {'weight': 0.09039936095285991}),\n",
        " ('lCaud', 'l.dlPFCx', {'weight': 0.16729821902703806}),\n",
        " ('lCaud', 'rAngG', {'weight': 0.1471496850983513}),\n",
        " ('lCaud', 'l.dPPCx', {'weight': 0.13488400944979978}),\n",
        " ('lCaud', 'lPCCx', {'weight': 0.1185874899253292}),\n",
        " ('lCaud', 'rAMY', {'weight': 0.07324510954281738}),\n",
        " ('lCaud', 'rTPJ', {'weight': 0.13093289291034677}),\n",
        " ('r.dlPFCx', 'r.dlPFCx', {'weight': 1.0}),\n",
        " ('r.dlPFCx', 'rAI', {'weight': 0.3366354782780572}),\n",
        " ('r.dlPFCx', 'rCaud', {'weight': 0.10722564574858505}),\n",
        " ('r.dlPFCx', 'ACCx', {'weight': 0.28587821493391125}),\n",
        " ('r.dlPFCx', 'lAI', {'weight': 0.2736965781989552}),\n",
        " ('r.dlPFCx', 'lAMY', {'weight': 0.12819929821078804}),\n",
        " ('r.dlPFCx', 'l.dlPFCx', {'weight': 0.547910383490472}),\n",
        " ('r.dlPFCx', 'rAngG', {'weight': 0.11562629747299599}),\n",
        " ('r.dlPFCx', 'l.dPPCx', {'weight': 0.37782751402686376}),\n",
        " ('r.dlPFCx', 'lPCCx', {'weight': 0.063443795277899}),\n",
        " ('r.dlPFCx', 'rAMY', {'weight': 0.1617226376384563}),\n",
        " ('r.dlPFCx', 'rTPJ', {'weight': 0.3683261679344977}),\n",
        " ('rAI', 'rAI', {'weight': 1.0}),\n",
        " ('rAI', 'rCaud', {'weight': 0.08631964615350073}),\n",
        " ('rAI', 'ACCx', {'weight': 0.16699989739941218}),\n",
        " ('rAI', 'lAI', {'weight': 0.4871957131673866}),\n",
        " ('rAI', 'lAMY', {'weight': 0.07466393758703552}),\n",
        " ('rAI', 'l.dlPFCx', {'weight': 0.25509352972749805}),\n",
        " ('rAI', 'rAngG', {'weight': 0.12228622360778706}),\n",
        " ('rAI', 'l.dPPCx', {'weight': 0.17781778336109177}),\n",
        " ('rAI', 'lPCCx', {'weight': 0.017208229926634983}),\n",
        " ('rAI', 'rAMY', {'weight': 0.10891002057175181}),\n",
        " ('rAI', 'rTPJ', {'weight': 0.28304141164897934}),\n",
        " ('rCaud', 'rCaud', {'weight': 1.0}),\n",
        " ('rCaud', 'ACCx', {'weight': 0.16404871543503793}),\n",
        " ('rCaud', 'lAI', {'weight': 0.14086661107023574}),\n",
        " ('rCaud', 'lAMY', {'weight': 0.053694868921212856}),\n",
        " ('rCaud', 'l.dlPFCx', {'weight': 0.10208900530771611}),\n",
        " ('rCaud', 'rAngG', {'weight': 0.12702769425494018}),\n",
        " ('rCaud', 'l.dPPCx', {'weight': 0.09502801773412102}),\n",
        " ('rCaud', 'lPCCx', {'weight': 0.11421349450122525}),\n",
        " ('rCaud', 'rAMY', {'weight': 0.051420629479259704}),\n",
        " ('rCaud', 'rTPJ', {'weight': 0.09357242454656556}),\n",
        " ('ACCx', 'ACCx', {'weight': 1.0}),\n",
        " ('ACCx', 'lAI', {'weight': 0.25861899087514284}),\n",
        " ('ACCx', 'lAMY', {'weight': 0.1352751238584255}),\n",
        " ('ACCx', 'l.dlPFCx', {'weight': 0.3257229288325568}),\n",
        " ('ACCx', 'rAngG', {'weight': 0.13978529376381776}),\n",
        " ('ACCx', 'l.dPPCx', {'weight': 0.21944683931868983}),\n",
        " ('ACCx', 'lPCCx', {'weight': 0.11147350672187821}),\n",
        " ('ACCx', 'rAMY', {'weight': 0.11889636983227705}),\n",
        " ('ACCx', 'rTPJ', {'weight': 0.23938172289174742}),\n",
        " ('lAI', 'lAI', {'weight': 1.0}),\n",
        " ('lAI', 'lAMY', {'weight': 0.14014763370991382}),\n",
        " ('lAI', 'l.dlPFCx', {'weight': 0.3289649621327124}),\n",
        " ('lAI', 'rAngG', {'weight': 0.11116266028941893}),\n",
        " ('lAI', 'l.dPPCx', {'weight': 0.2182556598932585}),\n",
        " ('lAI', 'lPCCx', {'weight': 0.0481386860421123}),\n",
        " ('lAI', 'rAMY', {'weight': 0.12613272022069588}),\n",
        " ('lAI', 'rTPJ', {'weight': 0.2642148965923715}),\n",
        " ('lAMY', 'lAMY', {'weight': 1.0}),\n",
        " ('lAMY', 'l.dlPFCx', {'weight': 0.15268147823080727}),\n",
        " ('lAMY', 'rAngG', {'weight': 0.1258989327201243}),\n",
        " ('lAMY', 'l.dPPCx', {'weight': 0.2217678230571287}),\n",
        " ('lAMY', 'lPCCx', {'weight': 0.1666393283509678}),\n",
        " ('lAMY', 'rAMY', {'weight': 0.46666352129231214}),\n",
        " ('lAMY', 'rTPJ', {'weight': 0.14170452160889072}),\n",
        " ('l.dlPFCx', 'l.dlPFCx', {'weight': 1.0}),\n",
        " ('l.dlPFCx', 'rAngG', {'weight': 0.05880356269870676}),\n",
        " ('l.dlPFCx', 'l.dPPCx', {'weight': 0.3891536828178618}),\n",
        " ('l.dlPFCx', 'lPCCx', {'weight': 0.059492978613557596}),\n",
        " ('l.dlPFCx', 'rAMY', {'weight': 0.12898562509049766}),\n",
        " ('l.dlPFCx', 'rTPJ', {'weight': 0.35307007613507924}),\n",
        " ('rAngG', 'rAngG', {'weight': 1.0}),\n",
        " ('rAngG', 'l.dPPCx', {'weight': 0.14569181499514516}),\n",
        " ('rAngG', 'lPCCx', {'weight': 0.36326177409682125}),\n",
        " ('rAngG', 'rAMY', {'weight': 0.14155973624453083}),\n",
        " ('rAngG', 'rTPJ', {'weight': 0.08633163835992058}),\n",
        " ('l.dPPCx', 'l.dPPCx', {'weight': 1.0}),\n",
        " ('l.dPPCx', 'lPCCx', {'weight': 0.22382698762920625}),\n",
        " ('l.dPPCx', 'rAMY', {'weight': 0.2375211329367021}),\n",
        " ('l.dPPCx', 'rTPJ', {'weight': 0.382449289864378}),\n",
        " ('lPCCx', 'lPCCx', {'weight': 1.0}),\n",
        " ('lPCCx', 'rAMY', {'weight': 0.19672971193058714}),\n",
        " ('lPCCx', 'rTPJ', {'weight': 0.07866570780696266}),\n",
        " ('rAMY', 'rAMY', {'weight': 1.0}),\n",
        " ('rAMY', 'rTPJ', {'weight': 0.2147212363482946}),\n",
        " ('rTPJ', 'rTPJ', {'weight': 1.0})]"
       ]
      }
     ],
     "prompt_number": 24
    },
    {
     "cell_type": "code",
     "collapsed": false,
     "input": [
      "gw_EPI1_Centr1_labeled.add_node('rAngG',{\"NW\": \"DMN\"})\n",
      "gw_EPI1_Centr1_labeled.add_node('lAngG',{\"NW\": \"DMN\"})\n",
      "gw_EPI1_Centr1_labeled.add_node('lPCCx',{\"NW\": \"DMN\"})\n",
      "gw_EPI1_Centr1_labeled.add_node('rPCCx',{\"NW\": \"DMN\"})\n",
      "gw_EPI1_Centr1_labeled.add_node('rParaHC',{\"NW\": \"DMN\"})\n",
      "gw_EPI1_Centr1_labeled.add_node('lParaHC',{\"NW\": \"DMN\"})\n",
      "gw_EPI1_Centr1_labeled.add_node('ACCx',{\"NW\": \"ECN\"})\n",
      "gw_EPI1_Centr1_labeled.add_node('l.dPPCx',{\"NW\": \"ECN\"})\n",
      "gw_EPI1_Centr1_labeled.add_node('r.dPPCx',{\"NW\": \"ECN\"})\n",
      "gw_EPI1_Centr1_labeled.add_node('r.dlPFCx',{\"NW\": \"ECN\"})\n",
      "gw_EPI1_Centr1_labeled.add_node('l.dlPFCx',{\"NW\": \"ECN\"})\n",
      "gw_EPI1_Centr1_labeled.add_node('lAI',{\"NW\": \"SN\"})\n",
      "gw_EPI1_Centr1_labeled.add_node('rAI',{\"NW\": \"SN\"})\n",
      "gw_EPI1_Centr1_labeled.add_node('lAMY',{\"NW\": \"SN\"})\n",
      "gw_EPI1_Centr1_labeled.add_node('rAMY',{\"NW\": \"SN\"})\n",
      "gw_EPI1_Centr1_labeled.add_node('rTPJ',{\"NW\": \"SN\"})\n",
      "gw_EPI1_Centr1_labeled.add_node('lTPJ',{\"NW\": \"SN\"})\n",
      "gw_EPI1_Centr1_labeled.add_node('lCaud',{\"NW\": \"ECN\"})\n",
      "gw_EPI1_Centr1_labeled.add_node('rCaud',{\"NW\": \"ECN\"})\n",
      "\n",
      "\n",
      "gw_EPI1_Centr0_labeled.add_node('rAngG',{\"NW\": \"DMN\"})\n",
      "gw_EPI1_Centr0_labeled.add_node('lAngG',{\"NW\": \"DMN\"})\n",
      "gw_EPI1_Centr0_labeled.add_node('lPCCx',{\"NW\": \"DMN\"})\n",
      "gw_EPI1_Centr0_labeled.add_node('rPCCx',{\"NW\": \"DMN\"})\n",
      "gw_EPI1_Centr0_labeled.add_node('rParaHC',{\"NW\": \"DMN\"})\n",
      "gw_EPI1_Centr0_labeled.add_node('lParaHC',{\"NW\": \"DMN\"})\n",
      "gw_EPI1_Centr0_labeled.add_node('ACCx',{\"NW\": \"ECN\"})\n",
      "gw_EPI1_Centr0_labeled.add_node('l.dPPCx',{\"NW\": \"ECN\"})\n",
      "gw_EPI1_Centr0_labeled.add_node('r.dPPCx',{\"NW\": \"ECN\"})\n",
      "gw_EPI1_Centr0_labeled.add_node('r.dlPFCx',{\"NW\": \"ECN\"})\n",
      "gw_EPI1_Centr0_labeled.add_node('l.dlPFCx',{\"NW\": \"ECN\"})\n",
      "gw_EPI1_Centr0_labeled.add_node('lAI',{\"NW\": \"SN\"})\n",
      "gw_EPI1_Centr0_labeled.add_node('rAI',{\"NW\": \"SN\"})\n",
      "gw_EPI1_Centr0_labeled.add_node('lAMY',{\"NW\": \"SN\"})\n",
      "gw_EPI1_Centr0_labeled.add_node('rAMY',{\"NW\": \"SN\"})\n",
      "gw_EPI1_Centr0_labeled.add_node('rTPJ',{\"NW\": \"SN\"})\n",
      "gw_EPI1_Centr0_labeled.add_node('lTPJ',{\"NW\": \"SN\"})\n",
      "gw_EPI1_Centr0_labeled.add_node('lCaud',{\"NW\": \"ECN\"})\n",
      "gw_EPI1_Centr0_labeled.add_node('rCaud',{\"NW\": \"ECN\"})\n",
      "gw_EPI1_Centr0_labeled.nodes(data=True)"
     ],
     "language": "python",
     "metadata": {},
     "outputs": [
      {
       "metadata": {},
       "output_type": "pyout",
       "prompt_number": 25,
       "text": [
        "[('lParaHC', {'NW': 'DMN'}),\n",
        " ('rParaHC', {'NW': 'DMN'}),\n",
        " ('r.dlPFCx', {'NW': 'ECN'}),\n",
        " ('l.dlPFCx', {'NW': 'ECN'}),\n",
        " ('rTPJ', {'NW': 'SN'}),\n",
        " ('rPCCx', {'NW': 'DMN'}),\n",
        " ('lCaud', {'NW': 'ECN'}),\n",
        " ('rAI', {'NW': 'SN'}),\n",
        " ('lTPJ', {'NW': 'SN'}),\n",
        " ('lAngG', {'NW': 'DMN'}),\n",
        " ('rAMY', {'NW': 'SN'}),\n",
        " ('ACCx', {'NW': 'ECN'}),\n",
        " ('lAI', {'NW': 'SN'}),\n",
        " ('rCaud', {'NW': 'ECN'}),\n",
        " ('rAngG', {'NW': 'DMN'}),\n",
        " ('l.dPPCx', {'NW': 'ECN'}),\n",
        " ('r.dPPCx', {'NW': 'ECN'}),\n",
        " ('lAMY', {'NW': 'SN'}),\n",
        " ('lPCCx', {'NW': 'DMN'})]"
       ]
      }
     ],
     "prompt_number": 25
    },
    {
     "cell_type": "code",
     "collapsed": false,
     "input": [
      "#from networkx.readwrite import json_graph \n",
      "#JSON_EPI1_Centr0_labeled = json_graph.node_link_data(gw_EPI1_Centr0_labeled)\n",
      "#JSON_EPI1_Centr1_labeled = json_graph.node_link_data(gw_EPI1_Centr1_labeled)\n",
      "JSON_EPI1_Centr1_labeled"
     ],
     "language": "python",
     "metadata": {},
     "outputs": [
      {
       "metadata": {},
       "output_type": "pyout",
       "prompt_number": 28,
       "text": [
        "{'nodes': [{'NW': 'DMN', 'id': 'lParaHC'},\n",
        "  {'NW': 'DMN', 'id': 'rParaHC'},\n",
        "  {'NW': 'ECN', 'id': 'r.dlPFCx'},\n",
        "  {'NW': 'ECN', 'id': 'l.dlPFCx'},\n",
        "  {'NW': 'SN', 'id': 'rTPJ'},\n",
        "  {'NW': 'DMN', 'id': 'rPCCx'},\n",
        "  {'NW': 'ECN', 'id': 'lCaud'},\n",
        "  {'NW': 'SN', 'id': 'rAI'},\n",
        "  {'NW': 'SN', 'id': 'lTPJ'},\n",
        "  {'NW': 'DMN', 'id': 'lAngG'},\n",
        "  {'NW': 'SN', 'id': 'rAMY'},\n",
        "  {'NW': 'ECN', 'id': 'ACCx'},\n",
        "  {'NW': 'SN', 'id': 'lAI'},\n",
        "  {'NW': 'ECN', 'id': 'rCaud'},\n",
        "  {'NW': 'DMN', 'id': 'rAngG'},\n",
        "  {'NW': 'ECN', 'id': 'l.dPPCx'},\n",
        "  {'NW': 'ECN', 'id': 'r.dPPCx'},\n",
        "  {'NW': 'SN', 'id': 'lAMY'},\n",
        "  {'NW': 'DMN', 'id': 'lPCCx'}],\n",
        " 'multigraph': False,\n",
        " 'graph': [('name', '()')],\n",
        " 'links': [{'target': 0, 'source': 0, 'weight': 1.0},\n",
        "  {'target': 8, 'source': 0, 'weight': 0.08474160309622648},\n",
        "  {'target': 9, 'source': 0, 'weight': 0.25853865220826305},\n",
        "  {'target': 5, 'source': 0, 'weight': 0.38852250404210237},\n",
        "  {'target': 16, 'source': 0, 'weight': 0.21939172787117478},\n",
        "  {'target': 1, 'source': 0, 'weight': 0.45221783411457805},\n",
        "  {'target': 6, 'source': 0, 'weight': 0.1190431106913809},\n",
        "  {'target': 2, 'source': 0, 'weight': 0.09713052579126256},\n",
        "  {'target': 7, 'source': 0, 'weight': 0.05340414216223964},\n",
        "  {'target': 13, 'source': 0, 'weight': 0.08029995640827337},\n",
        "  {'target': 11, 'source': 0, 'weight': 0.09596503072090477},\n",
        "  {'target': 12, 'source': 0, 'weight': 0.07986775023992497},\n",
        "  {'target': 17, 'source': 0, 'weight': 0.2802730644244836},\n",
        "  {'target': 3, 'source': 0, 'weight': 0.093687643759453},\n",
        "  {'target': 14, 'source': 0, 'weight': 0.21810963391848687},\n",
        "  {'target': 15, 'source': 0, 'weight': 0.25605972311881536},\n",
        "  {'target': 18, 'source': 0, 'weight': 0.4486540636426999},\n",
        "  {'target': 10, 'source': 0, 'weight': 0.29189218912477644},\n",
        "  {'target': 4, 'source': 0, 'weight': 0.08712504641383952},\n",
        "  {'target': 8, 'source': 8, 'weight': 1.0},\n",
        "  {'target': 9, 'source': 8, 'weight': 0.014785476941119507},\n",
        "  {'target': 5, 'source': 8, 'weight': 0.16827820021406553},\n",
        "  {'target': 16, 'source': 8, 'weight': 0.3148050983599715},\n",
        "  {'target': 1, 'source': 8, 'weight': 0.06406711121816615},\n",
        "  {'target': 6, 'source': 8, 'weight': 0.08692706682737264},\n",
        "  {'target': 2, 'source': 8, 'weight': 0.36331127357507065},\n",
        "  {'target': 7, 'source': 8, 'weight': 0.2821574944097771},\n",
        "  {'target': 13, 'source': 8, 'weight': 0.048708820069153114},\n",
        "  {'target': 11, 'source': 8, 'weight': 0.22928311081089525},\n",
        "  {'target': 12, 'source': 8, 'weight': 0.32279036914618725},\n",
        "  {'target': 17, 'source': 8, 'weight': 0.13369027397845337},\n",
        "  {'target': 3, 'source': 8, 'weight': 0.42217738741269045},\n",
        "  {'target': 14, 'source': 8, 'weight': 0.022145963722755457},\n",
        "  {'target': 15, 'source': 8, 'weight': 0.36562511642624557},\n",
        "  {'target': 18, 'source': 8, 'weight': 0.07108126521845085},\n",
        "  {'target': 10, 'source': 8, 'weight': 0.17657051285684508},\n",
        "  {'target': 4, 'source': 8, 'weight': 0.5489022089893402},\n",
        "  {'target': 9, 'source': 9, 'weight': 1.0},\n",
        "  {'target': 5, 'source': 9, 'weight': 0.2515508699963976},\n",
        "  {'target': 16, 'source': 9, 'weight': 0.1948217494256075},\n",
        "  {'target': 1, 'source': 9, 'weight': 0.19108704894112993},\n",
        "  {'target': 6, 'source': 9, 'weight': 0.1217797766666407},\n",
        "  {'target': 2, 'source': 9, 'weight': 0.1170604382072674},\n",
        "  {'target': 7, 'source': 9, 'weight': 0.06054735548967436},\n",
        "  {'target': 13, 'source': 9, 'weight': 0.15588365281241962},\n",
        "  {'target': 11, 'source': 9, 'weight': 0.12703805530439347},\n",
        "  {'target': 12, 'source': 9, 'weight': 0.15810237882429104},\n",
        "  {'target': 17, 'source': 9, 'weight': 0.1262434456586386},\n",
        "  {'target': 3, 'source': 9, 'weight': 0.10403217431470596},\n",
        "  {'target': 14, 'source': 9, 'weight': 0.5886840015711173},\n",
        "  {'target': 15, 'source': 9, 'weight': 0.17481758695390212},\n",
        "  {'target': 18, 'source': 9, 'weight': 0.3541264834547986},\n",
        "  {'target': 10, 'source': 9, 'weight': 0.10785472172336219},\n",
        "  {'target': 4, 'source': 9, 'weight': 0.04446595664516739},\n",
        "  {'target': 5, 'source': 5, 'weight': 1.0},\n",
        "  {'target': 16, 'source': 5, 'weight': 0.29536684829379517},\n",
        "  {'target': 1, 'source': 5, 'weight': 0.3490646916948165},\n",
        "  {'target': 6, 'source': 5, 'weight': 0.11122637905704774},\n",
        "  {'target': 2, 'source': 5, 'weight': 0.17222326761957762},\n",
        "  {'target': 7, 'source': 5, 'weight': 0.10884666495850903},\n",
        "  {'target': 13, 'source': 5, 'weight': 0.07972472475362194},\n",
        "  {'target': 11, 'source': 5, 'weight': 0.18301825620374984},\n",
        "  {'target': 12, 'source': 5, 'weight': 0.12237998192377116},\n",
        "  {'target': 17, 'source': 5, 'weight': 0.20012704058291558},\n",
        "  {'target': 3, 'source': 5, 'weight': 0.18168252238613497},\n",
        "  {'target': 14, 'source': 5, 'weight': 0.3096924628700777},\n",
        "  {'target': 15, 'source': 5, 'weight': 0.3034963783052088},\n",
        "  {'target': 18, 'source': 5, 'weight': 0.6108579352371067},\n",
        "  {'target': 10, 'source': 5, 'weight': 0.20637953118882693},\n",
        "  {'target': 4, 'source': 5, 'weight': 0.15776217061124775},\n",
        "  {'target': 16, 'source': 16, 'weight': 1.0},\n",
        "  {'target': 1, 'source': 16, 'weight': 0.1847764423181111},\n",
        "  {'target': 6, 'source': 16, 'weight': 0.11577091173156438},\n",
        "  {'target': 2, 'source': 16, 'weight': 0.369624210496152},\n",
        "  {'target': 7, 'source': 16, 'weight': 0.1457980783662059},\n",
        "  {'target': 13, 'source': 16, 'weight': 0.08655500482217487},\n",
        "  {'target': 11, 'source': 16, 'weight': 0.1905652847677074},\n",
        "  {'target': 12, 'source': 16, 'weight': 0.2115637605300701},\n",
        "  {'target': 17, 'source': 16, 'weight': 0.19123596437267237},\n",
        "  {'target': 3, 'source': 16, 'weight': 0.3758336951056025},\n",
        "  {'target': 14, 'source': 16, 'weight': 0.15448788207007},\n",
        "  {'target': 15, 'source': 16, 'weight': 0.6677662706986889},\n",
        "  {'target': 18, 'source': 16, 'weight': 0.22089605305666735},\n",
        "  {'target': 10, 'source': 16, 'weight': 0.2032680459071662},\n",
        "  {'target': 4, 'source': 16, 'weight': 0.3442892316617722},\n",
        "  {'target': 1, 'source': 1, 'weight': 1.0},\n",
        "  {'target': 6, 'source': 1, 'weight': 0.06623610496064593},\n",
        "  {'target': 2, 'source': 1, 'weight': 0.08021594923735824},\n",
        "  {'target': 7, 'source': 1, 'weight': 0.05853305349342823},\n",
        "  {'target': 13, 'source': 1, 'weight': 0.021267575416072215},\n",
        "  {'target': 11, 'source': 1, 'weight': 0.09355935046906601},\n",
        "  {'target': 12, 'source': 1, 'weight': 0.05411573435658014},\n",
        "  {'target': 17, 'source': 1, 'weight': 0.20809755818685574},\n",
        "  {'target': 3, 'source': 1, 'weight': 0.06572288587505254},\n",
        "  {'target': 14, 'source': 1, 'weight': 0.21356898265786564},\n",
        "  {'target': 15, 'source': 1, 'weight': 0.22021399622018345},\n",
        "  {'target': 18, 'source': 1, 'weight': 0.37273793937350325},\n",
        "  {'target': 10, 'source': 1, 'weight': 0.25344967784047123},\n",
        "  {'target': 4, 'source': 1, 'weight': 0.10465991843808546},\n",
        "  {'target': 6, 'source': 6, 'weight': 1.0},\n",
        "  {'target': 2, 'source': 6, 'weight': 0.15843854514676775},\n",
        "  {'target': 7, 'source': 6, 'weight': 0.09564682110366493},\n",
        "  {'target': 13, 'source': 6, 'weight': 0.5224711994767873},\n",
        "  {'target': 11, 'source': 6, 'weight': 0.22923904364149414},\n",
        "  {'target': 12, 'source': 6, 'weight': 0.16677397575803501},\n",
        "  {'target': 17, 'source': 6, 'weight': 0.09039936095285991},\n",
        "  {'target': 3, 'source': 6, 'weight': 0.16729821902703806},\n",
        "  {'target': 14, 'source': 6, 'weight': 0.1471496850983513},\n",
        "  {'target': 15, 'source': 6, 'weight': 0.13488400944979978},\n",
        "  {'target': 18, 'source': 6, 'weight': 0.1185874899253292},\n",
        "  {'target': 10, 'source': 6, 'weight': 0.07324510954281738},\n",
        "  {'target': 4, 'source': 6, 'weight': 0.13093289291034677},\n",
        "  {'target': 2, 'source': 2, 'weight': 1.0},\n",
        "  {'target': 7, 'source': 2, 'weight': 0.3366354782780572},\n",
        "  {'target': 13, 'source': 2, 'weight': 0.10722564574858505},\n",
        "  {'target': 11, 'source': 2, 'weight': 0.28587821493391125},\n",
        "  {'target': 12, 'source': 2, 'weight': 0.2736965781989552},\n",
        "  {'target': 17, 'source': 2, 'weight': 0.12819929821078804},\n",
        "  {'target': 3, 'source': 2, 'weight': 0.547910383490472},\n",
        "  {'target': 14, 'source': 2, 'weight': 0.11562629747299599},\n",
        "  {'target': 15, 'source': 2, 'weight': 0.37782751402686376},\n",
        "  {'target': 18, 'source': 2, 'weight': 0.063443795277899},\n",
        "  {'target': 10, 'source': 2, 'weight': 0.1617226376384563},\n",
        "  {'target': 4, 'source': 2, 'weight': 0.3683261679344977},\n",
        "  {'target': 7, 'source': 7, 'weight': 1.0},\n",
        "  {'target': 13, 'source': 7, 'weight': 0.08631964615350073},\n",
        "  {'target': 11, 'source': 7, 'weight': 0.16699989739941218},\n",
        "  {'target': 12, 'source': 7, 'weight': 0.4871957131673866},\n",
        "  {'target': 17, 'source': 7, 'weight': 0.07466393758703552},\n",
        "  {'target': 3, 'source': 7, 'weight': 0.25509352972749805},\n",
        "  {'target': 14, 'source': 7, 'weight': 0.12228622360778706},\n",
        "  {'target': 15, 'source': 7, 'weight': 0.17781778336109177},\n",
        "  {'target': 18, 'source': 7, 'weight': 0.017208229926634983},\n",
        "  {'target': 10, 'source': 7, 'weight': 0.10891002057175181},\n",
        "  {'target': 4, 'source': 7, 'weight': 0.28304141164897934},\n",
        "  {'target': 13, 'source': 13, 'weight': 1.0},\n",
        "  {'target': 11, 'source': 13, 'weight': 0.16404871543503793},\n",
        "  {'target': 12, 'source': 13, 'weight': 0.14086661107023574},\n",
        "  {'target': 17, 'source': 13, 'weight': 0.053694868921212856},\n",
        "  {'target': 3, 'source': 13, 'weight': 0.10208900530771611},\n",
        "  {'target': 14, 'source': 13, 'weight': 0.12702769425494018},\n",
        "  {'target': 15, 'source': 13, 'weight': 0.09502801773412102},\n",
        "  {'target': 18, 'source': 13, 'weight': 0.11421349450122525},\n",
        "  {'target': 10, 'source': 13, 'weight': 0.051420629479259704},\n",
        "  {'target': 4, 'source': 13, 'weight': 0.09357242454656556},\n",
        "  {'target': 11, 'source': 11, 'weight': 1.0},\n",
        "  {'target': 12, 'source': 11, 'weight': 0.25861899087514284},\n",
        "  {'target': 17, 'source': 11, 'weight': 0.1352751238584255},\n",
        "  {'target': 3, 'source': 11, 'weight': 0.3257229288325568},\n",
        "  {'target': 14, 'source': 11, 'weight': 0.13978529376381776},\n",
        "  {'target': 15, 'source': 11, 'weight': 0.21944683931868983},\n",
        "  {'target': 18, 'source': 11, 'weight': 0.11147350672187821},\n",
        "  {'target': 10, 'source': 11, 'weight': 0.11889636983227705},\n",
        "  {'target': 4, 'source': 11, 'weight': 0.23938172289174742},\n",
        "  {'target': 12, 'source': 12, 'weight': 1.0},\n",
        "  {'target': 17, 'source': 12, 'weight': 0.14014763370991382},\n",
        "  {'target': 3, 'source': 12, 'weight': 0.3289649621327124},\n",
        "  {'target': 14, 'source': 12, 'weight': 0.11116266028941893},\n",
        "  {'target': 15, 'source': 12, 'weight': 0.2182556598932585},\n",
        "  {'target': 18, 'source': 12, 'weight': 0.0481386860421123},\n",
        "  {'target': 10, 'source': 12, 'weight': 0.12613272022069588},\n",
        "  {'target': 4, 'source': 12, 'weight': 0.2642148965923715},\n",
        "  {'target': 17, 'source': 17, 'weight': 1.0},\n",
        "  {'target': 3, 'source': 17, 'weight': 0.15268147823080727},\n",
        "  {'target': 14, 'source': 17, 'weight': 0.1258989327201243},\n",
        "  {'target': 15, 'source': 17, 'weight': 0.2217678230571287},\n",
        "  {'target': 18, 'source': 17, 'weight': 0.1666393283509678},\n",
        "  {'target': 10, 'source': 17, 'weight': 0.46666352129231214},\n",
        "  {'target': 4, 'source': 17, 'weight': 0.14170452160889072},\n",
        "  {'target': 3, 'source': 3, 'weight': 1.0},\n",
        "  {'target': 14, 'source': 3, 'weight': 0.05880356269870676},\n",
        "  {'target': 15, 'source': 3, 'weight': 0.3891536828178618},\n",
        "  {'target': 18, 'source': 3, 'weight': 0.059492978613557596},\n",
        "  {'target': 10, 'source': 3, 'weight': 0.12898562509049766},\n",
        "  {'target': 4, 'source': 3, 'weight': 0.35307007613507924},\n",
        "  {'target': 14, 'source': 14, 'weight': 1.0},\n",
        "  {'target': 15, 'source': 14, 'weight': 0.14569181499514516},\n",
        "  {'target': 18, 'source': 14, 'weight': 0.36326177409682125},\n",
        "  {'target': 10, 'source': 14, 'weight': 0.14155973624453083},\n",
        "  {'target': 4, 'source': 14, 'weight': 0.08633163835992058},\n",
        "  {'target': 15, 'source': 15, 'weight': 1.0},\n",
        "  {'target': 18, 'source': 15, 'weight': 0.22382698762920625},\n",
        "  {'target': 10, 'source': 15, 'weight': 0.2375211329367021},\n",
        "  {'target': 4, 'source': 15, 'weight': 0.382449289864378},\n",
        "  {'target': 18, 'source': 18, 'weight': 1.0},\n",
        "  {'target': 10, 'source': 18, 'weight': 0.19672971193058714},\n",
        "  {'target': 4, 'source': 18, 'weight': 0.07866570780696266},\n",
        "  {'target': 10, 'source': 10, 'weight': 1.0},\n",
        "  {'target': 4, 'source': 10, 'weight': 0.2147212363482946},\n",
        "  {'target': 4, 'source': 4, 'weight': 1.0}],\n",
        " 'directed': False}"
       ]
      }
     ],
     "prompt_number": 28
    },
    {
     "cell_type": "code",
     "collapsed": false,
     "input": [
      "plt.subplot(121)\n",
      "plt.imshow(EPI2_centroid0+testConcatb_EPI2, interpolation = 'nearest')\n",
      "plt.clim(-0.6,0.6)\n",
      "plt.subplot(122)\n",
      "plt.imshow(EPI2_centroid1+testConcatb_EPI2, interpolation = 'nearest')\n",
      "plt.clim(-0.6,0.6)\n",
      "#plt.subplot(133)\n",
      "#plt.imshow(EPI2_centroid2, interpolation = 'nearest')\n",
      "#plt.clim(-0.5,0.5)"
     ],
     "language": "python",
     "metadata": {},
     "outputs": [
      {
       "metadata": {},
       "output_type": "display_data",
       "png": "[encoded data removed]",
       "text": [
        "<matplotlib.figure.Figure at 0x10d4a3240>"
       ]
      }
     ],
     "prompt_number": 32
    },
    {
     "cell_type": "code",
     "collapsed": false,
     "input": [
      "for i in range(2):\n",
      "    EPI1Covar = np.diag(DPGMM_EPI1_skipFinal._get_covars()[i]).reshape(19,19,order='F')\n",
      "    plt.subplot(1,2,i)\n",
      "    plt.imshow(EPI1Covar, interpolation = 'nearest')\n",
      "    plt.clim(1.0,1.1)"
     ],
     "language": "python",
     "metadata": {},
     "outputs": []
    },
    {
     "cell_type": "code",
     "collapsed": false,
     "input": [
      "for i in range(2):\n",
      "    EPI2Covar = np.diag(DPGMM_EPI2_Final._get_covars()[i]).reshape(19,19,order='F')\n",
      "    plt.subplot(1,2,i)\n",
      "    plt.imshow(EPI2Covar, interpolation = 'nearest')\n",
      "    plt.clim(1.0,1.1)"
     ],
     "language": "python",
     "metadata": {},
     "outputs": []
    },
    {
     "cell_type": "heading",
     "level": 4,
     "metadata": {},
     "source": [
      "Learning about time spent in each cluster (autocorrelations within clusters)"
     ]
    },
    {
     "cell_type": "code",
     "collapsed": false,
     "input": [
      "DPGMM_EPI1_score_samples = DPGMM_EPI1_skipFinal.score_samples(Kmeans_EPI1_arr[0::2,:])"
     ],
     "language": "python",
     "metadata": {},
     "outputs": [],
     "prompt_number": 35
    },
    {
     "cell_type": "code",
     "collapsed": false,
     "input": [
      "print(len(DPGMM_EPI1_score_samples))\n",
      "print(DPGMM_EPI1_score_samples[1])\n",
      "print(DPGMM_EPI1_score_samples[1].shape)"
     ],
     "language": "python",
     "metadata": {},
     "outputs": [
      {
       "output_type": "stream",
       "stream": "stdout",
       "text": [
        "2\n",
        "[[ 0.9971949   0.0028051 ]\n",
        " [ 0.99586304  0.00413696]\n",
        " [ 0.98458681  0.01541319]\n",
        " ..., \n",
        " [ 0.01285505  0.98714495]\n",
        " [ 0.03400649  0.96599351]\n",
        " [ 0.04977607  0.95022393]]\n",
        "(2480, 2)\n"
       ]
      }
     ],
     "prompt_number": 36
    },
    {
     "cell_type": "code",
     "collapsed": false,
     "input": [
      "EPI1_postProb = DPGMM_EPI1_score_samples[1]\n",
      "print(EPI1_postProb.shape)\n",
      "print(EPI1_postProb)\n",
      "EPI1_postProb_K1 = EPI1_postProb[:,0]\n",
      "EPI1_postProb_K2 = EPI1_postProb[:,1]\n",
      "#EPI1_postProb_K3 = EPI1_postProb[:,2]\n",
      "#EPI1_postProb_K4 = EPI1_postProb[:,3]"
     ],
     "language": "python",
     "metadata": {},
     "outputs": [
      {
       "output_type": "stream",
       "stream": "stdout",
       "text": [
        "(2480, 2)\n",
        "[[ 0.9971949   0.0028051 ]\n",
        " [ 0.99586304  0.00413696]\n",
        " [ 0.98458681  0.01541319]\n",
        " ..., \n",
        " [ 0.01285505  0.98714495]\n",
        " [ 0.03400649  0.96599351]\n",
        " [ 0.04977607  0.95022393]]\n"
       ]
      }
     ],
     "prompt_number": 37
    },
    {
     "cell_type": "code",
     "collapsed": false,
     "input": [
      "print(type(EPI1_postProb_K1))\n",
      "\n",
      "numSubs = 10\n",
      "numLags = 15\n",
      "reshaped_K1 = EPI1_postProb_K1.reshape((248,numSubs))\n",
      "reshaped_K1_z = sp.stats.zscore(reshaped_K1,axis=0)\n",
      "\n",
      "acfMatrix_K1 = np.zeros((numLags+1,numSubs))\n",
      "for i in range(numSubs):\n",
      "    acfMatrix_K1[:,i] = sp.arctanh(acf(reshaped_K1_z[:,i], nlags=numLags))"
     ],
     "language": "python",
     "metadata": {},
     "outputs": [
      {
       "output_type": "stream",
       "stream": "stdout",
       "text": [
        "<class 'numpy.ndarray'>\n"
       ]
      }
     ],
     "prompt_number": 38
    },
    {
     "cell_type": "code",
     "collapsed": false,
     "input": [
      "print(type(EPI1_postProb_K2))\n",
      "\n",
      "numSubs = 10\n",
      "numLags = 15\n",
      "reshaped_K2 = EPI1_postProb_K2.reshape((248,numSubs))\n",
      "reshaped_K2_z = sp.stats.zscore(reshaped_K2,axis=0)\n",
      "\n",
      "acfMatrix_K2 = np.zeros((numLags+1,numSubs))\n",
      "for i in range(numSubs):\n",
      "    acfMatrix_K2[:,i] = sp.arctanh(acf(reshaped_K2_z[:,i], nlags=numLags))"
     ],
     "language": "python",
     "metadata": {},
     "outputs": [
      {
       "output_type": "stream",
       "stream": "stdout",
       "text": [
        "<class 'numpy.ndarray'>\n"
       ]
      }
     ],
     "prompt_number": 39
    },
    {
     "cell_type": "code",
     "collapsed": false,
     "input": [
      "print(type(EPI1_postProb_K3))\n",
      "\n",
      "numSubs = 10\n",
      "numLags = 15\n",
      "reshaped_K3 = EPI1_postProb_K3.reshape((248,numSubs))\n",
      "reshaped_K3_z = sp.stats.zscore(reshaped_K3,axis=0)\n",
      "\n",
      "acfMatrix_K3 = np.zeros((numLags+1,numSubs))\n",
      "for i in range(numSubs):\n",
      "    acfMatrix_K3[:,i] = sp.arctanh(acf(reshaped_K3_z[:,i], nlags=numLags))"
     ],
     "language": "python",
     "metadata": {},
     "outputs": []
    },
    {
     "cell_type": "code",
     "collapsed": false,
     "input": [
      "print(type(EPI1_postProb_K4))\n",
      "\n",
      "numSubs = 10\n",
      "numLags = 15\n",
      "reshaped_K4 = EPI1_postProb_K4.reshape((248,numSubs))\n",
      "reshaped_K4_z = sp.stats.zscore(reshaped_K4,axis=0)\n",
      "\n",
      "acfMatrix_K4 = np.zeros((numLags+1,numSubs))\n",
      "for i in range(numSubs):\n",
      "    acfMatrix_K4[:,i] = sp.arctanh(acf(reshaped_K4_z[:,i], nlags=numLags))"
     ],
     "language": "python",
     "metadata": {},
     "outputs": []
    },
    {
     "cell_type": "code",
     "collapsed": false,
     "input": [
      "DPGMM_EPI2_score_samples = DPGMM_EPI2_Final.score_samples(Kmeans_EPI2_arr)\n",
      "EPI2_postProb = DPGMM_EPI2_score_samples[1]\n",
      "print(EPI2_postProb.shape)\n",
      "print(EPI2_postProb)\n",
      "EPI2_postProb_K1 = EPI2_postProb[:,0]\n",
      "EPI2_postProb_K2 = EPI2_postProb[:,1]"
     ],
     "language": "python",
     "metadata": {},
     "outputs": [
      {
       "output_type": "stream",
       "stream": "stdout",
       "text": [
        "(2460, 2)\n",
        "[[ 0.68873808  0.31126192]\n",
        " [ 0.70013921  0.29986079]\n",
        " [ 0.7432877   0.2567123 ]\n",
        " ..., \n",
        " [ 0.00506798  0.99493202]\n",
        " [ 0.00552076  0.99447924]\n",
        " [ 0.00692527  0.99307473]]\n"
       ]
      }
     ],
     "prompt_number": 41
    },
    {
     "cell_type": "code",
     "collapsed": false,
     "input": [
      "print(type(EPI2_postProb_K1))\n",
      "\n",
      "numSubs = 10\n",
      "numLags = 15\n",
      "EPI2_reshaped_K1 = EPI2_postProb_K1.reshape((246,numSubs))\n",
      "EPI2_reshaped_K1_z = sp.stats.zscore(EPI2_reshaped_K1,axis=0)\n",
      "\n",
      "EPI2_acfMatrix_K1 = np.zeros((numLags+1,numSubs))\n",
      "for i in range(numSubs):\n",
      "    EPI2_acfMatrix_K1[:,i] = sp.arctanh(acf(EPI2_reshaped_K1_z[:,i], nlags=numLags))"
     ],
     "language": "python",
     "metadata": {},
     "outputs": [
      {
       "output_type": "stream",
       "stream": "stdout",
       "text": [
        "<class 'numpy.ndarray'>\n"
       ]
      }
     ],
     "prompt_number": 42
    },
    {
     "cell_type": "code",
     "collapsed": false,
     "input": [
      "print(type(EPI2_postProb_K2))\n",
      "\n",
      "numSubs = 10\n",
      "numLags = 15\n",
      "EPI2_reshaped_K2 = EPI2_postProb_K2.reshape((246,numSubs))\n",
      "EPI2_reshaped_K2_z = sp.stats.zscore(EPI2_reshaped_K2,axis=0)\n",
      "\n",
      "EPI2_acfMatrix_K2 = np.zeros((numLags+1,numSubs))\n",
      "for i in range(numSubs):\n",
      "    EPI2_acfMatrix_K2[:,i] = sp.arctanh(acf(EPI2_reshaped_K2_z[:,i], nlags=numLags))"
     ],
     "language": "python",
     "metadata": {},
     "outputs": [
      {
       "output_type": "stream",
       "stream": "stdout",
       "text": [
        "<class 'numpy.ndarray'>\n"
       ]
      }
     ],
     "prompt_number": 43
    },
    {
     "cell_type": "code",
     "collapsed": false,
     "input": [
      "plt.subplot(121)\n",
      "plt.plot(np.mean(acfMatrix_K1,axis=1))\n",
      "plt.subplot(122)\n",
      "plt.plot(np.mean(acfMatrix_K2,axis=1))\n",
      "#plt.subplot(143)\n",
      "#plt.plot(np.mean(acfMatrix_K3,axis=1))\n",
      "#plt.subplot(144)\n",
      "#plt.plot(np.mean(acfMatrix_K4,axis=1))"
     ],
     "language": "python",
     "metadata": {},
     "outputs": [
      {
       "metadata": {},
       "output_type": "pyout",
       "prompt_number": 44,
       "text": [
        "[<matplotlib.lines.Line2D at 0x10d4b5048>]"
       ]
      },
      {
       "metadata": {},
       "output_type": "display_data",
       "png": "[encoded data removed]",
       "text": [
        "<matplotlib.figure.Figure at 0x10d6395c0>"
       ]
      }
     ],
     "prompt_number": 44
    },
    {
     "cell_type": "code",
     "collapsed": false,
     "input": [
      "plt.subplot(121)\n",
      "plt.plot(np.mean(EPI2_acfMatrix_K1,axis=1))\n",
      "plt.subplot(122)\n",
      "plt.plot(np.mean(EPI2_acfMatrix_K2,axis=1))"
     ],
     "language": "python",
     "metadata": {},
     "outputs": [
      {
       "metadata": {},
       "output_type": "pyout",
       "prompt_number": 45,
       "text": [
        "[<matplotlib.lines.Line2D at 0x10d687748>]"
       ]
      },
      {
       "metadata": {},
       "output_type": "display_data",
       "png": "[encoded data removed]",
       "text": [
        "<matplotlib.figure.Figure at 0x10d6393c8>"
       ]
      }
     ],
     "prompt_number": 45
    },
    {
     "cell_type": "heading",
     "level": 4,
     "metadata": {},
     "source": [
      "Learning about temporal orderin of clusters using cross correlation (correlating different clusters)"
     ]
    },
    {
     "cell_type": "code",
     "collapsed": false,
     "input": [
      "numSubs = 10\n",
      "numLags = 15\n",
      "EPI1_reshaped_K1 = EPI1_postProb_K1.reshape((248,numSubs))\n",
      "EPI1_reshaped_K1_z = sp.stats.zscore(reshaped_K1,axis=0)\n",
      "EPI1_reshaped_K2 = EPI1_postProb_K2.reshape((248,numSubs))\n",
      "EPI1_reshaped_K2_z = sp.stats.zscore(reshaped_K2,axis=0)\n",
      "\n",
      "EPI1_ccfMatrix_K12 = np.zeros((numLags+1,numSubs))\n",
      "for i in range(numSubs):\n",
      "    EPI1_ccfMatrix_K12[:,i] = sp.arctanh(ccf(EPI1_reshaped_K1_z[:,i],EPI1_reshaped_K2_z[:,i], unbiased=True)[0:(numLags+1)])\n",
      "    \n",
      "EPI1_ccfMatrix_K21 = np.zeros((numLags+1,numSubs))\n",
      "for i in range(numSubs):\n",
      "    EPI1_ccfMatrix_K21[:,i] = sp.arctanh(ccf(EPI1_reshaped_K2_z[:,i],EPI1_reshaped_K1_z[:,i], unbiased=True)[0:(numLags+1)])"
     ],
     "language": "python",
     "metadata": {},
     "outputs": [
      {
       "output_type": "stream",
       "stream": "stderr",
       "text": [
        "-c:10: ComplexWarning: Casting complex values to real discards the imaginary part\n",
        "-c:14: ComplexWarning: Casting complex values to real discards the imaginary part\n"
       ]
      }
     ],
     "prompt_number": 46
    },
    {
     "cell_type": "code",
     "collapsed": false,
     "input": [
      "plt.subplot(121)\n",
      "plt.plot(np.mean(EPI1_ccfMatrix_K12,axis=1))\n",
      "plt.subplot(122)\n",
      "plt.plot(np.mean(EPI1_ccfMatrix_K21,axis=1))"
     ],
     "language": "python",
     "metadata": {},
     "outputs": [
      {
       "metadata": {},
       "output_type": "pyout",
       "prompt_number": 47,
       "text": [
        "[<matplotlib.lines.Line2D at 0x10f97ee80>]"
       ]
      },
      {
       "metadata": {},
       "output_type": "display_data",
       "png": "[encoded data removed]",
       "text": [
        "<matplotlib.figure.Figure at 0x10d8dd4a8>"
       ]
      }
     ],
     "prompt_number": 47
    },
    {
     "cell_type": "code",
     "collapsed": false,
     "input": [
      "numSubs = 10\n",
      "numLags = 15\n",
      "\n",
      "EPI1_reshaped_K3 = EPI1_postProb_K3.reshape((248,numSubs))\n",
      "EPI1_reshaped_K3_z = sp.stats.zscore(reshaped_K3,axis=0)\n",
      "\n",
      "EPI1_ccfMatrix_K13 = np.zeros((numLags+1,numSubs))\n",
      "for i in range(numSubs):\n",
      "    EPI1_ccfMatrix_K13[:,i] = sp.arctanh(ccf(EPI1_reshaped_K1_z[:,i],EPI1_reshaped_K3_z[:,i], unbiased=True)[0:(numLags+1)])\n",
      "    \n",
      "EPI1_ccfMatrix_K31 = np.zeros((numLags+1,numSubs))\n",
      "for i in range(numSubs):\n",
      "    EPI1_ccfMatrix_K31[:,i] = sp.arctanh(ccf(EPI1_reshaped_K3_z[:,i],EPI1_reshaped_K1_z[:,i], unbiased=True)[0:(numLags+1)])    "
     ],
     "language": "python",
     "metadata": {},
     "outputs": []
    },
    {
     "cell_type": "code",
     "collapsed": false,
     "input": [
      "plt.subplot(121)\n",
      "plt.plot(np.mean(EPI1_ccfMatrix_K13,axis=1))\n",
      "plt.subplot(122)\n",
      "plt.plot(np.mean(EPI1_ccfMatrix_K31,axis=1))"
     ],
     "language": "python",
     "metadata": {},
     "outputs": []
    },
    {
     "cell_type": "code",
     "collapsed": false,
     "input": [
      "numSubs = 10\n",
      "numLags = 15\n",
      "\n",
      "EPI1_reshaped_K4 = EPI1_postProb_K4.reshape((248,numSubs))\n",
      "EPI1_reshaped_K4_z = sp.stats.zscore(reshaped_K4,axis=0)\n",
      "\n",
      "EPI1_ccfMatrix_K14 = np.zeros((numLags+1,numSubs))\n",
      "for i in range(numSubs):\n",
      "    EPI1_ccfMatrix_K14[:,i] = sp.arctanh(ccf(EPI1_reshaped_K1_z[:,i],EPI1_reshaped_K4_z[:,i], unbiased=True)[0:(numLags+1)])\n",
      "\n",
      "EPI1_ccfMatrix_K41 = np.zeros((numLags+1,numSubs))\n",
      "for i in range(numSubs):\n",
      "    EPI1_ccfMatrix_K41[:,i] = sp.arctanh(ccf(EPI1_reshaped_K4_z[:,i],EPI1_reshaped_K1_z[:,i], unbiased=True)[0:(numLags+1)])"
     ],
     "language": "python",
     "metadata": {},
     "outputs": []
    },
    {
     "cell_type": "code",
     "collapsed": false,
     "input": [
      "plt.subplot(121)\n",
      "plt.plot(np.mean(EPI1_ccfMatrix_K14,axis=1))\n",
      "plt.subplot(122)\n",
      "plt.plot(np.mean(EPI1_ccfMatrix_K41,axis=1))"
     ],
     "language": "python",
     "metadata": {},
     "outputs": []
    },
    {
     "cell_type": "code",
     "collapsed": false,
     "input": [
      "numSubs = 10\n",
      "numLags = 15\n",
      "\n",
      "EPI1_ccfMatrix_K23 = np.zeros((numLags+1,numSubs))\n",
      "for i in range(numSubs):\n",
      "    EPI1_ccfMatrix_K23[:,i] = sp.arctanh(ccf(EPI1_reshaped_K2_z[:,i],EPI1_reshaped_K3_z[:,i], unbiased=True)[0:(numLags+1)])\n",
      "\n",
      "EPI1_ccfMatrix_K32 = np.zeros((numLags+1,numSubs))\n",
      "for i in range(numSubs):\n",
      "    EPI1_ccfMatrix_K32[:,i] = sp.arctanh(ccf(EPI1_reshaped_K3_z[:,i],EPI1_reshaped_K2_z[:,i], unbiased=True)[0:(numLags+1)])"
     ],
     "language": "python",
     "metadata": {},
     "outputs": []
    },
    {
     "cell_type": "code",
     "collapsed": false,
     "input": [
      "plt.subplot(121)\n",
      "plt.plot(np.mean(EPI1_ccfMatrix_K23,axis=1))\n",
      "plt.subplot(122)\n",
      "plt.plot(np.mean(EPI1_ccfMatrix_K32,axis=1))"
     ],
     "language": "python",
     "metadata": {},
     "outputs": []
    },
    {
     "cell_type": "code",
     "collapsed": false,
     "input": [
      "numSubs = 10\n",
      "numLags = 15\n",
      "\n",
      "EPI1_ccfMatrix_K24 = np.zeros((numLags+1,numSubs))\n",
      "for i in range(numSubs):\n",
      "    EPI1_ccfMatrix_K24[:,i] = sp.arctanh(ccf(EPI1_reshaped_K2_z[:,i],EPI1_reshaped_K4_z[:,i], unbiased=True)[0:(numLags+1)])\n",
      "    \n",
      "EPI1_ccfMatrix_K42 = np.zeros((numLags+1,numSubs))\n",
      "for i in range(numSubs):\n",
      "    EPI1_ccfMatrix_K42[:,i] = sp.arctanh(ccf(EPI1_reshaped_K4_z[:,i],EPI1_reshaped_K2_z[:,i], unbiased=True)[0:(numLags+1)])"
     ],
     "language": "python",
     "metadata": {},
     "outputs": []
    },
    {
     "cell_type": "code",
     "collapsed": false,
     "input": [
      "plt.subplot(121)\n",
      "plt.plot(np.mean(EPI1_ccfMatrix_K24,axis=1))\n",
      "plt.subplot(122)\n",
      "plt.plot(np.mean(EPI1_ccfMatrix_K42,axis=1))"
     ],
     "language": "python",
     "metadata": {},
     "outputs": []
    },
    {
     "cell_type": "code",
     "collapsed": false,
     "input": [
      "numSubs = 10\n",
      "numLags = 15\n",
      "\n",
      "EPI1_ccfMatrix_K34 = np.zeros((numLags+1,numSubs))\n",
      "for i in range(numSubs):\n",
      "    EPI1_ccfMatrix_K34[:,i] = sp.arctanh(ccf(EPI1_reshaped_K3_z[:,i],EPI1_reshaped_K4_z[:,i], unbiased=True)[0:(numLags+1)])\n",
      "    \n",
      "EPI1_ccfMatrix_K43 = np.zeros((numLags+1,numSubs))\n",
      "for i in range(numSubs):\n",
      "    EPI1_ccfMatrix_K43[:,i] = sp.arctanh(ccf(EPI1_reshaped_K4_z[:,i],EPI1_reshaped_K3_z[:,i], unbiased=True)[0:(numLags+1)])"
     ],
     "language": "python",
     "metadata": {},
     "outputs": []
    },
    {
     "cell_type": "code",
     "collapsed": false,
     "input": [
      "plt.subplot(121)\n",
      "plt.plot(np.mean(EPI1_ccfMatrix_K34,axis=1))\n",
      "plt.subplot(122)\n",
      "plt.plot(np.mean(EPI1_ccfMatrix_K43,axis=1))"
     ],
     "language": "python",
     "metadata": {},
     "outputs": []
    },
    {
     "cell_type": "code",
     "collapsed": false,
     "input": [
      "numSubs = 10\n",
      "numLags = 15\n",
      "\n",
      "EPI2_reshaped_K1 = EPI2_postProb_K1.reshape((246,numSubs))\n",
      "EPI2_reshaped_K1_z = sp.stats.zscore(EPI2_reshaped_K1,axis=0)\n",
      "EPI2_reshaped_K2 = EPI2_postProb_K2.reshape((246,numSubs))\n",
      "EPI2_reshaped_K2_z = sp.stats.zscore(EPI2_reshaped_K2,axis=0)\n",
      "\n",
      "EPI2_ccfMatrix_K12 = np.zeros((numLags+1,numSubs))\n",
      "for i in range(numSubs):\n",
      "    EPI2_ccfMatrix_K12[:,i] = sp.arctanh(ccf(EPI2_reshaped_K1_z[:,i],EPI2_reshaped_K2_z[:,i], unbiased=True)[0:(numLags+1)])\n",
      "\n",
      "EPI2_ccfMatrix_K21 = np.zeros((numLags+1,numSubs))\n",
      "for i in range(numSubs):\n",
      "    EPI2_ccfMatrix_K21[:,i] = sp.arctanh(ccf(EPI2_reshaped_K2_z[:,i],EPI2_reshaped_K1_z[:,i], unbiased=True)[0:(numLags+1)])"
     ],
     "language": "python",
     "metadata": {},
     "outputs": [
      {
       "output_type": "stream",
       "stream": "stderr",
       "text": [
        "-c:11: ComplexWarning: Casting complex values to real discards the imaginary part\n",
        "-c:15: ComplexWarning: Casting complex values to real discards the imaginary part\n"
       ]
      }
     ],
     "prompt_number": 48
    },
    {
     "cell_type": "code",
     "collapsed": false,
     "input": [
      "plt.subplot(121)\n",
      "plt.plot(np.mean(EPI2_ccfMatrix_K12,axis=1))\n",
      "plt.subplot(122)\n",
      "plt.plot(np.mean(EPI2_ccfMatrix_K21,axis=1))"
     ],
     "language": "python",
     "metadata": {},
     "outputs": [
      {
       "metadata": {},
       "output_type": "pyout",
       "prompt_number": 49,
       "text": [
        "[<matplotlib.lines.Line2D at 0x11120b3c8>]"
       ]
      },
      {
       "metadata": {},
       "output_type": "display_data",
       "png": "[encoded data removed]",
       "text": [
        "<matplotlib.figure.Figure at 0x10f8e6278>"
       ]
      }
     ],
     "prompt_number": 49
    },
    {
     "cell_type": "code",
     "collapsed": false,
     "input": [
      "plt.subplot(211)\n",
      "plt.plot(EPI1_postProb_K1)\n",
      "plt.subplot(212)\n",
      "plt.plot(EPI1_postProb_K2)"
     ],
     "language": "python",
     "metadata": {},
     "outputs": [
      {
       "metadata": {},
       "output_type": "pyout",
       "prompt_number": 60,
       "text": [
        "[<matplotlib.lines.Line2D at 0x112982a90>]"
       ]
      },
      {
       "metadata": {},
       "output_type": "display_data",
       "png": "[encoded data removed]",
       "text": [
        "<matplotlib.figure.Figure at 0x1127d0940>"
       ]
      }
     ],
     "prompt_number": 60
    },
    {
     "cell_type": "code",
     "collapsed": false,
     "input": [
      "plt.subplot(211)\n",
      "plt.plot(EPI2_postProb_K1)\n",
      "plt.subplot(212)\n",
      "plt.plot(EPI2_postProb_K2)"
     ],
     "language": "python",
     "metadata": {},
     "outputs": [
      {
       "metadata": {},
       "output_type": "pyout",
       "prompt_number": 61,
       "text": [
        "[<matplotlib.lines.Line2D at 0x112da8550>]"
       ]
      },
      {
       "metadata": {},
       "output_type": "display_data",
       "png": "[encoded data removed]",
       "text": [
        "<matplotlib.figure.Figure at 0x11229b668>"
       ]
      }
     ],
     "prompt_number": 61
    },
    {
     "cell_type": "code",
     "collapsed": false,
     "input": [
      "EPI1_Predict = DPGMM_EPI1_skipFinal.predict(Kmeans_EPI1_arr[0::2,:])"
     ],
     "language": "python",
     "metadata": {},
     "outputs": [],
     "prompt_number": 51
    },
    {
     "cell_type": "code",
     "collapsed": false,
     "input": [
      "print(EPI1_Predict[0:248])  #subj 101"
     ],
     "language": "python",
     "metadata": {},
     "outputs": [
      {
       "output_type": "stream",
       "stream": "stdout",
       "text": [
        "[0 0 0 0 0 0 0 0 0 0 0 0 0 0 0 0 0 0 0 0 0 0 0 0 0 0 0 0 0 0 0 0 0 0 0 0 0\n",
        " 0 0 0 0 0 0 0 0 1 1 1 1 1 1 1 1 1 1 1 1 1 1 1 1 1 1 1 1 1 1 1 1 1 1 1 1 1\n",
        " 1 1 1 1 1 1 1 1 1 1 1 1 1 1 1 1 1 1 1 1 1 1 1 1 1 1 1 1 1 1 1 1 1 1 1 1 1\n",
        " 1 1 1 1 1 1 1 1 1 1 1 1 1 1 1 1 1 1 0 0 1 1 0 0 0 0 0 0 0 0 0 0 0 0 0 0 0\n",
        " 0 0 0 0 0 0 0 0 0 0 0 0 0 0 0 0 0 0 0 0 0 1 0 0 0 0 1 1 1 1 1 1 1 1 1 1 1\n",
        " 1 1 1 1 1 1 1 1 1 1 1 1 1 1 1 1 1 1 1 1 1 1 1 1 0 0 0 1 1 1 1 1 1 1 1 1 1\n",
        " 1 1 0 0 0 0 0 0 0 0 0 0 0 0 0 0 0 0 0 0 0 0 0 0 0 0]\n"
       ]
      }
     ],
     "prompt_number": 52
    },
    {
     "cell_type": "code",
     "collapsed": false,
     "input": [
      "print(EPI1_Predict[248:496])  #subj 102"
     ],
     "language": "python",
     "metadata": {},
     "outputs": [
      {
       "output_type": "stream",
       "stream": "stdout",
       "text": [
        "[0 0 0 0 0 0 0 0 0 0 0 0 0 0 0 1 1 0 0 1 0 0 0 0 0 0 0 0 0 1 1 1 1 1 1 1 1\n",
        " 1 1 1 1 1 1 1 1 1 1 1 1 1 1 1 1 1 0 0 0 0 0 0 0 0 0 0 0 0 0 0 0 0 0 0 0 0\n",
        " 0 0 0 0 0 0 1 1 0 1 1 1 1 1 1 1 1 1 1 1 1 1 1 1 1 1 1 1 1 1 1 1 1 1 1 1 1\n",
        " 1 1 1 1 1 1 1 1 1 1 1 1 1 1 1 1 1 1 1 1 1 1 1 1 1 1 1 1 1 1 1 1 1 1 1 1 1\n",
        " 1 1 1 1 1 1 1 1 1 1 1 1 1 1 1 1 1 1 1 1 1 1 1 1 0 0 1 1 1 0 0 0 0 0 0 0 0\n",
        " 0 0 0 0 0 0 0 0 0 0 0 0 0 0 0 0 0 0 0 0 0 0 0 0 0 0 0 0 0 0 0 0 0 0 0 0 0\n",
        " 0 0 0 0 0 0 0 0 0 0 0 0 0 0 0 0 0 0 0 0 0 0 1 1 1 1]\n"
       ]
      }
     ],
     "prompt_number": 53
    },
    {
     "cell_type": "code",
     "collapsed": false,
     "input": [
      "print(EPI1_Predict[496:744])  #subj 103"
     ],
     "language": "python",
     "metadata": {},
     "outputs": [
      {
       "output_type": "stream",
       "stream": "stdout",
       "text": [
        "[0 0 0 0 0 0 0 0 0 0 0 0 0 0 0 0 0 0 0 0 0 0 0 0 0 0 1 1 1 1 1 1 1 1 1 1 1\n",
        " 1 1 1 1 1 1 1 1 1 1 1 1 1 1 1 1 1 1 1 1 1 1 1 1 1 1 1 1 1 1 1 1 1 1 1 1 1\n",
        " 1 1 1 1 1 1 1 1 1 1 1 1 1 1 1 1 1 1 1 1 1 1 1 1 1 1 1 1 1 1 1 1 1 1 0 0 0\n",
        " 1 1 1 1 1 1 1 1 0 0 0 0 0 0 0 0 0 0 0 0 0 0 0 0 0 0 0 0 1 1 1 1 1 0 1 0 0\n",
        " 0 0 0 0 0 0 0 0 0 0 0 0 0 0 0 0 0 0 0 0 0 0 0 0 0 0 0 0 0 0 1 1 1 1 1 1 1\n",
        " 1 0 1 1 1 1 1 1 1 1 1 1 1 1 1 1 1 1 1 1 1 1 1 1 1 1 1 1 1 1 1 1 1 1 1 1 1\n",
        " 1 1 1 0 0 0 0 0 0 0 0 0 0 0 0 0 0 0 0 0 0 0 0 0 0 0]\n"
       ]
      }
     ],
     "prompt_number": 54
    },
    {
     "cell_type": "code",
     "collapsed": false,
     "input": [
      "print(EPI1_Predict[744:992])  # subj 104"
     ],
     "language": "python",
     "metadata": {},
     "outputs": [
      {
       "output_type": "stream",
       "stream": "stdout",
       "text": [
        "[1 1 0 0 0 1 0 0 0 1 1 1 1 1 1 0 0 0 0 0 0 1 1 1 1 1 1 1 1 1 1 1 1 1 1 1 1\n",
        " 1 1 1 1 1 1 1 1 1 1 1 1 1 1 1 1 1 1 1 1 1 1 1 1 1 1 1 1 1 0 0 0 0 0 0 0 0\n",
        " 0 0 0 0 0 0 0 0 0 0 0 0 0 0 0 0 0 0 0 0 0 0 0 0 0 0 0 0 0 0 0 0 0 0 0 0 0\n",
        " 0 0 0 0 0 0 0 0 0 0 0 0 0 0 0 0 0 0 0 1 1 1 1 1 1 1 1 1 1 1 1 1 1 1 1 1 1\n",
        " 1 1 1 0 1 1 1 1 1 1 1 1 1 1 1 1 1 0 0 0 0 1 1 1 1 1 1 1 1 1 1 1 1 1 1 1 1\n",
        " 1 1 1 1 1 1 1 1 1 1 1 1 1 1 1 1 1 1 1 1 1 1 1 1 1 1 1 1 1 1 1 1 1 1 1 1 1\n",
        " 1 1 1 1 1 1 1 1 1 1 1 1 0 0 0 0 1 1 1 1 0 1 1 1 1 1]\n"
       ]
      }
     ],
     "prompt_number": 55
    },
    {
     "cell_type": "code",
     "collapsed": false,
     "input": [
      "data_EPI1_skipped = Kmeans_EPI1_arr[0::2,:]"
     ],
     "language": "python",
     "metadata": {},
     "outputs": [],
     "prompt_number": 56
    },
    {
     "cell_type": "code",
     "collapsed": false,
     "input": [
      "print(data_EPI1_skipped.shape)"
     ],
     "language": "python",
     "metadata": {},
     "outputs": []
    },
    {
     "cell_type": "code",
     "collapsed": false,
     "input": [
      "plt.plot(EPI1_Predict[744:992])"
     ],
     "language": "python",
     "metadata": {},
     "outputs": []
    },
    {
     "cell_type": "code",
     "collapsed": false,
     "input": [],
     "language": "python",
     "metadata": {},
     "outputs": []
    }
   ],
   "metadata": {}
  }
 ]
}